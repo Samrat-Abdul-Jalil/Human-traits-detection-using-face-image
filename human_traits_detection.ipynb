{
  "cells": [
    {
      "cell_type": "markdown",
      "metadata": {
        "id": "60HPR9LgFVX1"
      },
      "source": [
        "#All **Library**"
      ]
    },
    {
      "cell_type": "code",
      "execution_count": null,
      "metadata": {
        "id": "AF_vG6wcFgSJ"
      },
      "outputs": [],
      "source": [
        "import pandas as pd\n",
        "import cv2\n",
        "import matplotlib.pyplot as plt\n",
        "%matplotlib inline\n",
        "import random\n",
        "import numpy as np\n",
        "import tensorflow as tf\n",
        "from tensorflow.keras import layers,models\n",
        "from keras.preprocessing.image import ImageDataGenerator\n",
        "from keras.models import Model\n",
        "from keras.applications.vgg19 import VGG19,preprocess_input"
      ]
    },
    {
      "cell_type": "markdown",
      "metadata": {
        "id": "Kklh6f3W6_JW"
      },
      "source": [
        "#**RAW data loading**"
      ]
    },
    {
      "cell_type": "code",
      "execution_count": null,
      "metadata": {
        "colab": {
          "base_uri": "https://localhost:8080/"
        },
        "id": "p5uPnfIt7iaV",
        "outputId": "a5de355f-fe72-460f-df36-7d7f4b8c1b72"
      },
      "outputs": [
        {
          "output_type": "stream",
          "name": "stdout",
          "text": [
            "Mounted at /content/drive\n"
          ]
        }
      ],
      "source": [
        "#Mount Drive\n",
        "from google.colab import drive\n",
        "drive.mount('/content/drive')"
      ]
    },
    {
      "cell_type": "code",
      "execution_count": null,
      "metadata": {
        "colab": {
          "base_uri": "https://localhost:8080/",
          "height": 562
        },
        "id": "MiGl0co17ir1",
        "outputId": "95257b0b-ceb4-4c8a-87c8-57c455bccaae"
      },
      "outputs": [
        {
          "output_type": "execute_result",
          "data": {
            "text/plain": [
              "             Timestamp  Name  University Name  Department ( বিভাগ)   Age   \\\n",
              "0  10/22/2022 22:32:33   NaN              NaN                  NaN  22-26   \n",
              "1  10/22/2022 22:44:06   NaN              NaN                  NaN  22-26   \n",
              "2  10/22/2022 23:09:45   NaN              NaN                  NaN  18-22   \n",
              "3  10/22/2022 23:10:39   NaN              NaN                  NaN  18-22   \n",
              "4  10/22/2022 23:20:01   NaN              NaN                  NaN  22-26   \n",
              "\n",
              "        hang out  punctuality  \\\n",
              "0  Yes ( হ্যাঁ )            9   \n",
              "1  Yes ( হ্যাঁ )            6   \n",
              "2  Yes ( হ্যাঁ )            7   \n",
              "3  Yes ( হ্যাঁ )            8   \n",
              "4  Yes ( হ্যাঁ )           10   \n",
              "\n",
              "                                         assignments           social media  \\\n",
              "0          I start two-three days before submission.  3-5  Hour (৩-5 ঘন্টা)   \n",
              "1          I start two-three days before submission.  3-5  Hour (৩-5 ঘন্টা)   \n",
              "2          I start two-three days before submission.  3-5  Hour (৩-5 ঘন্টা)   \n",
              "3  I start toward the end and request sir for ext...  1-3  Hour (১-৩ ঘন্টা)   \n",
              "4  I start toward the end and request sir for ext...  3-5  Hour (৩-5 ঘন্টা)   \n",
              "\n",
              "            CGPA                             skills                  study  \\\n",
              "0        No (না)  more than 5 Hour ( ৫ ঘন্টার বেশি)  3-5  Hour (৩-5 ঘন্টা)   \n",
              "1        No (না)               0-1 Hour (0-১ ঘন্টা)  1-3  Hour (১-৩ ঘন্টা)   \n",
              "2        No (না)               0-1 Hour (0-১ ঘন্টা)  1-3  Hour (১-৩ ঘন্টা)   \n",
              "3  Yes ( হ্যাঁ )  more than 5 Hour ( ৫ ঘন্টার বেশি)  1-3  Hour (১-৩ ঘন্টা)   \n",
              "4  Yes ( হ্যাঁ )               0-1 Hour (0-১ ঘন্টা)  1-3  Hour (১-৩ ঘন্টা)   \n",
              "\n",
              "     examination    hard worker  \\\n",
              "0        No (না)  Yes ( হ্যাঁ )   \n",
              "1  Yes ( হ্যাঁ )        No (না)   \n",
              "2        No (না)        No (না)   \n",
              "3  Yes ( হ্যাঁ )        No (না)   \n",
              "4  Yes ( হ্যাঁ )  Yes ( হ্যাঁ )   \n",
              "\n",
              "                                           introvert  communication skills  \\\n",
              "0                                      Yes ( হ্যাঁ )                     7   \n",
              "1                                            No (না)                     9   \n",
              "2                                            No (না)                     8   \n",
              "3  I don't know if I'm an introvert or not. But I...                     8   \n",
              "4  I don't know if I'm an introvert or not. But I...                     3   \n",
              "\n",
              "   religion                                              photo  \n",
              "0         7                   84013 (1) - Md. Nazmus Sakib.jpg  \n",
              "1         7  inbound6266109105667462293 - S.M Sifatul Islam...  \n",
              "2         9  inbound2206962629156559833 - Md Tanzimul Hasan...  \n",
              "3         9                 Badhon - Prashoman Chakrabarti.jpg  \n",
              "4         9     inbound310068632908722779 - Sajib Talukdar.jpg  "
            ],
            "text/html": [
              "\n",
              "  <div id=\"df-ae49d075-778a-4cc3-9826-0ba832e7f181\">\n",
              "    <div class=\"colab-df-container\">\n",
              "      <div>\n",
              "<style scoped>\n",
              "    .dataframe tbody tr th:only-of-type {\n",
              "        vertical-align: middle;\n",
              "    }\n",
              "\n",
              "    .dataframe tbody tr th {\n",
              "        vertical-align: top;\n",
              "    }\n",
              "\n",
              "    .dataframe thead th {\n",
              "        text-align: right;\n",
              "    }\n",
              "</style>\n",
              "<table border=\"1\" class=\"dataframe\">\n",
              "  <thead>\n",
              "    <tr style=\"text-align: right;\">\n",
              "      <th></th>\n",
              "      <th>Timestamp</th>\n",
              "      <th>Name</th>\n",
              "      <th>University Name</th>\n",
              "      <th>Department ( বিভাগ)</th>\n",
              "      <th>Age</th>\n",
              "      <th>hang out</th>\n",
              "      <th>punctuality</th>\n",
              "      <th>assignments</th>\n",
              "      <th>social media</th>\n",
              "      <th>CGPA</th>\n",
              "      <th>skills</th>\n",
              "      <th>study</th>\n",
              "      <th>examination</th>\n",
              "      <th>hard worker</th>\n",
              "      <th>introvert</th>\n",
              "      <th>communication skills</th>\n",
              "      <th>religion</th>\n",
              "      <th>photo</th>\n",
              "    </tr>\n",
              "  </thead>\n",
              "  <tbody>\n",
              "    <tr>\n",
              "      <th>0</th>\n",
              "      <td>10/22/2022 22:32:33</td>\n",
              "      <td>NaN</td>\n",
              "      <td>NaN</td>\n",
              "      <td>NaN</td>\n",
              "      <td>22-26</td>\n",
              "      <td>Yes ( হ্যাঁ )</td>\n",
              "      <td>9</td>\n",
              "      <td>I start two-three days before submission.</td>\n",
              "      <td>3-5  Hour (৩-5 ঘন্টা)</td>\n",
              "      <td>No (না)</td>\n",
              "      <td>more than 5 Hour ( ৫ ঘন্টার বেশি)</td>\n",
              "      <td>3-5  Hour (৩-5 ঘন্টা)</td>\n",
              "      <td>No (না)</td>\n",
              "      <td>Yes ( হ্যাঁ )</td>\n",
              "      <td>Yes ( হ্যাঁ )</td>\n",
              "      <td>7</td>\n",
              "      <td>7</td>\n",
              "      <td>84013 (1) - Md. Nazmus Sakib.jpg</td>\n",
              "    </tr>\n",
              "    <tr>\n",
              "      <th>1</th>\n",
              "      <td>10/22/2022 22:44:06</td>\n",
              "      <td>NaN</td>\n",
              "      <td>NaN</td>\n",
              "      <td>NaN</td>\n",
              "      <td>22-26</td>\n",
              "      <td>Yes ( হ্যাঁ )</td>\n",
              "      <td>6</td>\n",
              "      <td>I start two-three days before submission.</td>\n",
              "      <td>3-5  Hour (৩-5 ঘন্টা)</td>\n",
              "      <td>No (না)</td>\n",
              "      <td>0-1 Hour (0-১ ঘন্টা)</td>\n",
              "      <td>1-3  Hour (১-৩ ঘন্টা)</td>\n",
              "      <td>Yes ( হ্যাঁ )</td>\n",
              "      <td>No (না)</td>\n",
              "      <td>No (না)</td>\n",
              "      <td>9</td>\n",
              "      <td>7</td>\n",
              "      <td>inbound6266109105667462293 - S.M Sifatul Islam...</td>\n",
              "    </tr>\n",
              "    <tr>\n",
              "      <th>2</th>\n",
              "      <td>10/22/2022 23:09:45</td>\n",
              "      <td>NaN</td>\n",
              "      <td>NaN</td>\n",
              "      <td>NaN</td>\n",
              "      <td>18-22</td>\n",
              "      <td>Yes ( হ্যাঁ )</td>\n",
              "      <td>7</td>\n",
              "      <td>I start two-three days before submission.</td>\n",
              "      <td>3-5  Hour (৩-5 ঘন্টা)</td>\n",
              "      <td>No (না)</td>\n",
              "      <td>0-1 Hour (0-১ ঘন্টা)</td>\n",
              "      <td>1-3  Hour (১-৩ ঘন্টা)</td>\n",
              "      <td>No (না)</td>\n",
              "      <td>No (না)</td>\n",
              "      <td>No (না)</td>\n",
              "      <td>8</td>\n",
              "      <td>9</td>\n",
              "      <td>inbound2206962629156559833 - Md Tanzimul Hasan...</td>\n",
              "    </tr>\n",
              "    <tr>\n",
              "      <th>3</th>\n",
              "      <td>10/22/2022 23:10:39</td>\n",
              "      <td>NaN</td>\n",
              "      <td>NaN</td>\n",
              "      <td>NaN</td>\n",
              "      <td>18-22</td>\n",
              "      <td>Yes ( হ্যাঁ )</td>\n",
              "      <td>8</td>\n",
              "      <td>I start toward the end and request sir for ext...</td>\n",
              "      <td>1-3  Hour (১-৩ ঘন্টা)</td>\n",
              "      <td>Yes ( হ্যাঁ )</td>\n",
              "      <td>more than 5 Hour ( ৫ ঘন্টার বেশি)</td>\n",
              "      <td>1-3  Hour (১-৩ ঘন্টা)</td>\n",
              "      <td>Yes ( হ্যাঁ )</td>\n",
              "      <td>No (না)</td>\n",
              "      <td>I don't know if I'm an introvert or not. But I...</td>\n",
              "      <td>8</td>\n",
              "      <td>9</td>\n",
              "      <td>Badhon - Prashoman Chakrabarti.jpg</td>\n",
              "    </tr>\n",
              "    <tr>\n",
              "      <th>4</th>\n",
              "      <td>10/22/2022 23:20:01</td>\n",
              "      <td>NaN</td>\n",
              "      <td>NaN</td>\n",
              "      <td>NaN</td>\n",
              "      <td>22-26</td>\n",
              "      <td>Yes ( হ্যাঁ )</td>\n",
              "      <td>10</td>\n",
              "      <td>I start toward the end and request sir for ext...</td>\n",
              "      <td>3-5  Hour (৩-5 ঘন্টা)</td>\n",
              "      <td>Yes ( হ্যাঁ )</td>\n",
              "      <td>0-1 Hour (0-১ ঘন্টা)</td>\n",
              "      <td>1-3  Hour (১-৩ ঘন্টা)</td>\n",
              "      <td>Yes ( হ্যাঁ )</td>\n",
              "      <td>Yes ( হ্যাঁ )</td>\n",
              "      <td>I don't know if I'm an introvert or not. But I...</td>\n",
              "      <td>3</td>\n",
              "      <td>9</td>\n",
              "      <td>inbound310068632908722779 - Sajib Talukdar.jpg</td>\n",
              "    </tr>\n",
              "  </tbody>\n",
              "</table>\n",
              "</div>\n",
              "      <button class=\"colab-df-convert\" onclick=\"convertToInteractive('df-ae49d075-778a-4cc3-9826-0ba832e7f181')\"\n",
              "              title=\"Convert this dataframe to an interactive table.\"\n",
              "              style=\"display:none;\">\n",
              "        \n",
              "  <svg xmlns=\"http://www.w3.org/2000/svg\" height=\"24px\"viewBox=\"0 0 24 24\"\n",
              "       width=\"24px\">\n",
              "    <path d=\"M0 0h24v24H0V0z\" fill=\"none\"/>\n",
              "    <path d=\"M18.56 5.44l.94 2.06.94-2.06 2.06-.94-2.06-.94-.94-2.06-.94 2.06-2.06.94zm-11 1L8.5 8.5l.94-2.06 2.06-.94-2.06-.94L8.5 2.5l-.94 2.06-2.06.94zm10 10l.94 2.06.94-2.06 2.06-.94-2.06-.94-.94-2.06-.94 2.06-2.06.94z\"/><path d=\"M17.41 7.96l-1.37-1.37c-.4-.4-.92-.59-1.43-.59-.52 0-1.04.2-1.43.59L10.3 9.45l-7.72 7.72c-.78.78-.78 2.05 0 2.83L4 21.41c.39.39.9.59 1.41.59.51 0 1.02-.2 1.41-.59l7.78-7.78 2.81-2.81c.8-.78.8-2.07 0-2.86zM5.41 20L4 18.59l7.72-7.72 1.47 1.35L5.41 20z\"/>\n",
              "  </svg>\n",
              "      </button>\n",
              "      \n",
              "  <style>\n",
              "    .colab-df-container {\n",
              "      display:flex;\n",
              "      flex-wrap:wrap;\n",
              "      gap: 12px;\n",
              "    }\n",
              "\n",
              "    .colab-df-convert {\n",
              "      background-color: #E8F0FE;\n",
              "      border: none;\n",
              "      border-radius: 50%;\n",
              "      cursor: pointer;\n",
              "      display: none;\n",
              "      fill: #1967D2;\n",
              "      height: 32px;\n",
              "      padding: 0 0 0 0;\n",
              "      width: 32px;\n",
              "    }\n",
              "\n",
              "    .colab-df-convert:hover {\n",
              "      background-color: #E2EBFA;\n",
              "      box-shadow: 0px 1px 2px rgba(60, 64, 67, 0.3), 0px 1px 3px 1px rgba(60, 64, 67, 0.15);\n",
              "      fill: #174EA6;\n",
              "    }\n",
              "\n",
              "    [theme=dark] .colab-df-convert {\n",
              "      background-color: #3B4455;\n",
              "      fill: #D2E3FC;\n",
              "    }\n",
              "\n",
              "    [theme=dark] .colab-df-convert:hover {\n",
              "      background-color: #434B5C;\n",
              "      box-shadow: 0px 1px 3px 1px rgba(0, 0, 0, 0.15);\n",
              "      filter: drop-shadow(0px 1px 2px rgba(0, 0, 0, 0.3));\n",
              "      fill: #FFFFFF;\n",
              "    }\n",
              "  </style>\n",
              "\n",
              "      <script>\n",
              "        const buttonEl =\n",
              "          document.querySelector('#df-ae49d075-778a-4cc3-9826-0ba832e7f181 button.colab-df-convert');\n",
              "        buttonEl.style.display =\n",
              "          google.colab.kernel.accessAllowed ? 'block' : 'none';\n",
              "\n",
              "        async function convertToInteractive(key) {\n",
              "          const element = document.querySelector('#df-ae49d075-778a-4cc3-9826-0ba832e7f181');\n",
              "          const dataTable =\n",
              "            await google.colab.kernel.invokeFunction('convertToInteractive',\n",
              "                                                     [key], {});\n",
              "          if (!dataTable) return;\n",
              "\n",
              "          const docLinkHtml = 'Like what you see? Visit the ' +\n",
              "            '<a target=\"_blank\" href=https://colab.research.google.com/notebooks/data_table.ipynb>data table notebook</a>'\n",
              "            + ' to learn more about interactive tables.';\n",
              "          element.innerHTML = '';\n",
              "          dataTable['output_type'] = 'display_data';\n",
              "          await google.colab.output.renderOutput(dataTable, element);\n",
              "          const docLink = document.createElement('div');\n",
              "          docLink.innerHTML = docLinkHtml;\n",
              "          element.appendChild(docLink);\n",
              "        }\n",
              "      </script>\n",
              "    </div>\n",
              "  </div>\n",
              "  "
            ]
          },
          "metadata": {},
          "execution_count": 4
        }
      ],
      "source": [
        "#reading raw data using pandae dataframe\n",
        "import pandas as pd\n",
        "traits=pd.read_csv('/content/drive/MyDrive/DIP Project/test/semi final.xlsx - Form Responses 1.csv')\n",
        "traits.head()"
      ]
    },
    {
      "cell_type": "markdown",
      "metadata": {
        "id": "U4MxffXa-j61"
      },
      "source": [
        "#**Data Cleaning**"
      ]
    },
    {
      "cell_type": "code",
      "execution_count": null,
      "metadata": {
        "id": "mabN1MWi7i3s"
      },
      "outputs": [],
      "source": [
        "#Drop unnecessary column\n",
        "traits.drop(['Name','University Name','Department ( বিভাগ)'],axis=1,inplace=True)"
      ]
    },
    {
      "cell_type": "code",
      "execution_count": null,
      "metadata": {
        "colab": {
          "base_uri": "https://localhost:8080/",
          "height": 406
        },
        "id": "-npssF1p056U",
        "outputId": "ff3bbe24-b34e-4574-cf74-c347ac255318"
      },
      "outputs": [
        {
          "output_type": "execute_result",
          "data": {
            "text/plain": [
              "             Timestamp    Age       hang out  punctuality  \\\n",
              "0  10/22/2022 22:32:33  22-26  Yes ( হ্যাঁ )            9   \n",
              "1  10/22/2022 22:44:06  22-26  Yes ( হ্যাঁ )            6   \n",
              "2  10/22/2022 23:09:45  18-22  Yes ( হ্যাঁ )            7   \n",
              "3  10/22/2022 23:10:39  18-22  Yes ( হ্যাঁ )            8   \n",
              "4  10/22/2022 23:20:01  22-26  Yes ( হ্যাঁ )           10   \n",
              "\n",
              "                                         assignments           social media  \\\n",
              "0          I start two-three days before submission.  3-5  Hour (৩-5 ঘন্টা)   \n",
              "1          I start two-three days before submission.  3-5  Hour (৩-5 ঘন্টা)   \n",
              "2          I start two-three days before submission.  3-5  Hour (৩-5 ঘন্টা)   \n",
              "3  I start toward the end and request sir for ext...  1-3  Hour (১-৩ ঘন্টা)   \n",
              "4  I start toward the end and request sir for ext...  3-5  Hour (৩-5 ঘন্টা)   \n",
              "\n",
              "            CGPA                             skills                  study  \\\n",
              "0        No (না)  more than 5 Hour ( ৫ ঘন্টার বেশি)  3-5  Hour (৩-5 ঘন্টা)   \n",
              "1        No (না)               0-1 Hour (0-১ ঘন্টা)  1-3  Hour (১-৩ ঘন্টা)   \n",
              "2        No (না)               0-1 Hour (0-১ ঘন্টা)  1-3  Hour (১-৩ ঘন্টা)   \n",
              "3  Yes ( হ্যাঁ )  more than 5 Hour ( ৫ ঘন্টার বেশি)  1-3  Hour (১-৩ ঘন্টা)   \n",
              "4  Yes ( হ্যাঁ )               0-1 Hour (0-১ ঘন্টা)  1-3  Hour (১-৩ ঘন্টা)   \n",
              "\n",
              "     examination    hard worker  \\\n",
              "0        No (না)  Yes ( হ্যাঁ )   \n",
              "1  Yes ( হ্যাঁ )        No (না)   \n",
              "2        No (না)        No (না)   \n",
              "3  Yes ( হ্যাঁ )        No (না)   \n",
              "4  Yes ( হ্যাঁ )  Yes ( হ্যাঁ )   \n",
              "\n",
              "                                           introvert  communication skills  \\\n",
              "0                                      Yes ( হ্যাঁ )                     7   \n",
              "1                                            No (না)                     9   \n",
              "2                                            No (না)                     8   \n",
              "3  I don't know if I'm an introvert or not. But I...                     8   \n",
              "4  I don't know if I'm an introvert or not. But I...                     3   \n",
              "\n",
              "   religious                                              photo  \n",
              "0          7                   84013 (1) - Md. Nazmus Sakib.jpg  \n",
              "1          7  inbound6266109105667462293 - S.M Sifatul Islam...  \n",
              "2          9  inbound2206962629156559833 - Md Tanzimul Hasan...  \n",
              "3          9                 Badhon - Prashoman Chakrabarti.jpg  \n",
              "4          9     inbound310068632908722779 - Sajib Talukdar.jpg  "
            ],
            "text/html": [
              "\n",
              "  <div id=\"df-de396b12-5351-43a1-b363-51079ed1bc2a\">\n",
              "    <div class=\"colab-df-container\">\n",
              "      <div>\n",
              "<style scoped>\n",
              "    .dataframe tbody tr th:only-of-type {\n",
              "        vertical-align: middle;\n",
              "    }\n",
              "\n",
              "    .dataframe tbody tr th {\n",
              "        vertical-align: top;\n",
              "    }\n",
              "\n",
              "    .dataframe thead th {\n",
              "        text-align: right;\n",
              "    }\n",
              "</style>\n",
              "<table border=\"1\" class=\"dataframe\">\n",
              "  <thead>\n",
              "    <tr style=\"text-align: right;\">\n",
              "      <th></th>\n",
              "      <th>Timestamp</th>\n",
              "      <th>Age</th>\n",
              "      <th>hang out</th>\n",
              "      <th>punctuality</th>\n",
              "      <th>assignments</th>\n",
              "      <th>social media</th>\n",
              "      <th>CGPA</th>\n",
              "      <th>skills</th>\n",
              "      <th>study</th>\n",
              "      <th>examination</th>\n",
              "      <th>hard worker</th>\n",
              "      <th>introvert</th>\n",
              "      <th>communication skills</th>\n",
              "      <th>religious</th>\n",
              "      <th>photo</th>\n",
              "    </tr>\n",
              "  </thead>\n",
              "  <tbody>\n",
              "    <tr>\n",
              "      <th>0</th>\n",
              "      <td>10/22/2022 22:32:33</td>\n",
              "      <td>22-26</td>\n",
              "      <td>Yes ( হ্যাঁ )</td>\n",
              "      <td>9</td>\n",
              "      <td>I start two-three days before submission.</td>\n",
              "      <td>3-5  Hour (৩-5 ঘন্টা)</td>\n",
              "      <td>No (না)</td>\n",
              "      <td>more than 5 Hour ( ৫ ঘন্টার বেশি)</td>\n",
              "      <td>3-5  Hour (৩-5 ঘন্টা)</td>\n",
              "      <td>No (না)</td>\n",
              "      <td>Yes ( হ্যাঁ )</td>\n",
              "      <td>Yes ( হ্যাঁ )</td>\n",
              "      <td>7</td>\n",
              "      <td>7</td>\n",
              "      <td>84013 (1) - Md. Nazmus Sakib.jpg</td>\n",
              "    </tr>\n",
              "    <tr>\n",
              "      <th>1</th>\n",
              "      <td>10/22/2022 22:44:06</td>\n",
              "      <td>22-26</td>\n",
              "      <td>Yes ( হ্যাঁ )</td>\n",
              "      <td>6</td>\n",
              "      <td>I start two-three days before submission.</td>\n",
              "      <td>3-5  Hour (৩-5 ঘন্টা)</td>\n",
              "      <td>No (না)</td>\n",
              "      <td>0-1 Hour (0-১ ঘন্টা)</td>\n",
              "      <td>1-3  Hour (১-৩ ঘন্টা)</td>\n",
              "      <td>Yes ( হ্যাঁ )</td>\n",
              "      <td>No (না)</td>\n",
              "      <td>No (না)</td>\n",
              "      <td>9</td>\n",
              "      <td>7</td>\n",
              "      <td>inbound6266109105667462293 - S.M Sifatul Islam...</td>\n",
              "    </tr>\n",
              "    <tr>\n",
              "      <th>2</th>\n",
              "      <td>10/22/2022 23:09:45</td>\n",
              "      <td>18-22</td>\n",
              "      <td>Yes ( হ্যাঁ )</td>\n",
              "      <td>7</td>\n",
              "      <td>I start two-three days before submission.</td>\n",
              "      <td>3-5  Hour (৩-5 ঘন্টা)</td>\n",
              "      <td>No (না)</td>\n",
              "      <td>0-1 Hour (0-১ ঘন্টা)</td>\n",
              "      <td>1-3  Hour (১-৩ ঘন্টা)</td>\n",
              "      <td>No (না)</td>\n",
              "      <td>No (না)</td>\n",
              "      <td>No (না)</td>\n",
              "      <td>8</td>\n",
              "      <td>9</td>\n",
              "      <td>inbound2206962629156559833 - Md Tanzimul Hasan...</td>\n",
              "    </tr>\n",
              "    <tr>\n",
              "      <th>3</th>\n",
              "      <td>10/22/2022 23:10:39</td>\n",
              "      <td>18-22</td>\n",
              "      <td>Yes ( হ্যাঁ )</td>\n",
              "      <td>8</td>\n",
              "      <td>I start toward the end and request sir for ext...</td>\n",
              "      <td>1-3  Hour (১-৩ ঘন্টা)</td>\n",
              "      <td>Yes ( হ্যাঁ )</td>\n",
              "      <td>more than 5 Hour ( ৫ ঘন্টার বেশি)</td>\n",
              "      <td>1-3  Hour (১-৩ ঘন্টা)</td>\n",
              "      <td>Yes ( হ্যাঁ )</td>\n",
              "      <td>No (না)</td>\n",
              "      <td>I don't know if I'm an introvert or not. But I...</td>\n",
              "      <td>8</td>\n",
              "      <td>9</td>\n",
              "      <td>Badhon - Prashoman Chakrabarti.jpg</td>\n",
              "    </tr>\n",
              "    <tr>\n",
              "      <th>4</th>\n",
              "      <td>10/22/2022 23:20:01</td>\n",
              "      <td>22-26</td>\n",
              "      <td>Yes ( হ্যাঁ )</td>\n",
              "      <td>10</td>\n",
              "      <td>I start toward the end and request sir for ext...</td>\n",
              "      <td>3-5  Hour (৩-5 ঘন্টা)</td>\n",
              "      <td>Yes ( হ্যাঁ )</td>\n",
              "      <td>0-1 Hour (0-১ ঘন্টা)</td>\n",
              "      <td>1-3  Hour (১-৩ ঘন্টা)</td>\n",
              "      <td>Yes ( হ্যাঁ )</td>\n",
              "      <td>Yes ( হ্যাঁ )</td>\n",
              "      <td>I don't know if I'm an introvert or not. But I...</td>\n",
              "      <td>3</td>\n",
              "      <td>9</td>\n",
              "      <td>inbound310068632908722779 - Sajib Talukdar.jpg</td>\n",
              "    </tr>\n",
              "  </tbody>\n",
              "</table>\n",
              "</div>\n",
              "      <button class=\"colab-df-convert\" onclick=\"convertToInteractive('df-de396b12-5351-43a1-b363-51079ed1bc2a')\"\n",
              "              title=\"Convert this dataframe to an interactive table.\"\n",
              "              style=\"display:none;\">\n",
              "        \n",
              "  <svg xmlns=\"http://www.w3.org/2000/svg\" height=\"24px\"viewBox=\"0 0 24 24\"\n",
              "       width=\"24px\">\n",
              "    <path d=\"M0 0h24v24H0V0z\" fill=\"none\"/>\n",
              "    <path d=\"M18.56 5.44l.94 2.06.94-2.06 2.06-.94-2.06-.94-.94-2.06-.94 2.06-2.06.94zm-11 1L8.5 8.5l.94-2.06 2.06-.94-2.06-.94L8.5 2.5l-.94 2.06-2.06.94zm10 10l.94 2.06.94-2.06 2.06-.94-2.06-.94-.94-2.06-.94 2.06-2.06.94z\"/><path d=\"M17.41 7.96l-1.37-1.37c-.4-.4-.92-.59-1.43-.59-.52 0-1.04.2-1.43.59L10.3 9.45l-7.72 7.72c-.78.78-.78 2.05 0 2.83L4 21.41c.39.39.9.59 1.41.59.51 0 1.02-.2 1.41-.59l7.78-7.78 2.81-2.81c.8-.78.8-2.07 0-2.86zM5.41 20L4 18.59l7.72-7.72 1.47 1.35L5.41 20z\"/>\n",
              "  </svg>\n",
              "      </button>\n",
              "      \n",
              "  <style>\n",
              "    .colab-df-container {\n",
              "      display:flex;\n",
              "      flex-wrap:wrap;\n",
              "      gap: 12px;\n",
              "    }\n",
              "\n",
              "    .colab-df-convert {\n",
              "      background-color: #E8F0FE;\n",
              "      border: none;\n",
              "      border-radius: 50%;\n",
              "      cursor: pointer;\n",
              "      display: none;\n",
              "      fill: #1967D2;\n",
              "      height: 32px;\n",
              "      padding: 0 0 0 0;\n",
              "      width: 32px;\n",
              "    }\n",
              "\n",
              "    .colab-df-convert:hover {\n",
              "      background-color: #E2EBFA;\n",
              "      box-shadow: 0px 1px 2px rgba(60, 64, 67, 0.3), 0px 1px 3px 1px rgba(60, 64, 67, 0.15);\n",
              "      fill: #174EA6;\n",
              "    }\n",
              "\n",
              "    [theme=dark] .colab-df-convert {\n",
              "      background-color: #3B4455;\n",
              "      fill: #D2E3FC;\n",
              "    }\n",
              "\n",
              "    [theme=dark] .colab-df-convert:hover {\n",
              "      background-color: #434B5C;\n",
              "      box-shadow: 0px 1px 3px 1px rgba(0, 0, 0, 0.15);\n",
              "      filter: drop-shadow(0px 1px 2px rgba(0, 0, 0, 0.3));\n",
              "      fill: #FFFFFF;\n",
              "    }\n",
              "  </style>\n",
              "\n",
              "      <script>\n",
              "        const buttonEl =\n",
              "          document.querySelector('#df-de396b12-5351-43a1-b363-51079ed1bc2a button.colab-df-convert');\n",
              "        buttonEl.style.display =\n",
              "          google.colab.kernel.accessAllowed ? 'block' : 'none';\n",
              "\n",
              "        async function convertToInteractive(key) {\n",
              "          const element = document.querySelector('#df-de396b12-5351-43a1-b363-51079ed1bc2a');\n",
              "          const dataTable =\n",
              "            await google.colab.kernel.invokeFunction('convertToInteractive',\n",
              "                                                     [key], {});\n",
              "          if (!dataTable) return;\n",
              "\n",
              "          const docLinkHtml = 'Like what you see? Visit the ' +\n",
              "            '<a target=\"_blank\" href=https://colab.research.google.com/notebooks/data_table.ipynb>data table notebook</a>'\n",
              "            + ' to learn more about interactive tables.';\n",
              "          element.innerHTML = '';\n",
              "          dataTable['output_type'] = 'display_data';\n",
              "          await google.colab.output.renderOutput(dataTable, element);\n",
              "          const docLink = document.createElement('div');\n",
              "          docLink.innerHTML = docLinkHtml;\n",
              "          element.appendChild(docLink);\n",
              "        }\n",
              "      </script>\n",
              "    </div>\n",
              "  </div>\n",
              "  "
            ]
          },
          "metadata": {},
          "execution_count": 6
        }
      ],
      "source": [
        "#replace Column name \n",
        "traits=traits.rename({\"Age \":\"Age\"},axis=1)\n",
        "traits=traits.rename({\"religion\":\"religious\"},axis=1)\n",
        "traits.head()"
      ]
    },
    {
      "cell_type": "markdown",
      "metadata": {
        "id": "5cHby69R1PX8"
      },
      "source": [
        "replace Text with neumeric value"
      ]
    },
    {
      "cell_type": "code",
      "execution_count": null,
      "metadata": {
        "colab": {
          "base_uri": "https://localhost:8080/"
        },
        "id": "7tc5RHdM1VQD",
        "outputId": "7b8a0671-ef2f-49af-99f9-71babf17f5ea"
      },
      "outputs": [
        {
          "output_type": "stream",
          "name": "stdout",
          "text": [
            "0      1\n",
            "1      0\n",
            "2      0\n",
            "3      2\n",
            "4      2\n",
            "      ..\n",
            "97     2\n",
            "98     2\n",
            "99     1\n",
            "100    2\n",
            "101    1\n",
            "Name: introvert, Length: 102, dtype: int64\n"
          ]
        }
      ],
      "source": [
        "traits['introvert']=traits['introvert'].replace(\"Yes ( হ্যাঁ )\",1)\\\n",
        "                                      .replace(\"No (না)\",0)\\\n",
        "                                      .replace(\"I don't know if I'm an introvert or not. But I cannot talk to strangers easily. But once we get to know each other then we talk a lot.(ইন্ট্রোভার্ট কিনা জানি না।  তবে অপরিচিত কারো সাথে কথা বলতে  পরি না। কিন্তু পরিচয় একবার হয়ে গেলে অনেক বেশি কথা বলি।)\",2)\n",
        "print(traits['introvert'])"
      ]
    },
    {
      "cell_type": "code",
      "execution_count": null,
      "metadata": {
        "colab": {
          "base_uri": "https://localhost:8080/"
        },
        "id": "cu4S8E9H1g7D",
        "outputId": "848aa617-8c80-486b-ca3d-9f41377e046e"
      },
      "outputs": [
        {
          "output_type": "execute_result",
          "data": {
            "text/plain": [
              "0      1\n",
              "1      1\n",
              "2      1\n",
              "3      1\n",
              "4      1\n",
              "      ..\n",
              "97     1\n",
              "98     1\n",
              "99     1\n",
              "100    0\n",
              "101    1\n",
              "Name: hang out, Length: 102, dtype: int64"
            ]
          },
          "metadata": {},
          "execution_count": 8
        }
      ],
      "source": [
        "traits['hang out']=traits['hang out'].replace(\"Yes ( হ্যাঁ )\",1)\\\n",
        "                                      .replace(\"No (না)\",0)\\\n",
        "                                      .replace(\"I like to chat but now don't get time.(পছন্দ করি কিন্তু আড্ডা দেওয়া হয় নাহ।)\",2)\n",
        "traits['hang out']"
      ]
    },
    {
      "cell_type": "code",
      "execution_count": null,
      "metadata": {
        "colab": {
          "base_uri": "https://localhost:8080/"
        },
        "id": "-scayFhZ1hNa",
        "outputId": "639dcfed-aaec-4089-ccaf-253cb4b23332"
      },
      "outputs": [
        {
          "output_type": "execute_result",
          "data": {
            "text/plain": [
              "0      0\n",
              "1      0\n",
              "2      0\n",
              "3      1\n",
              "4      1\n",
              "      ..\n",
              "97     0\n",
              "98     0\n",
              "99     0\n",
              "100    0\n",
              "101    0\n",
              "Name: CGPA, Length: 102, dtype: int64"
            ]
          },
          "metadata": {},
          "execution_count": 9
        }
      ],
      "source": [
        "traits['CGPA']=traits['CGPA'].replace(\"Yes ( হ্যাঁ )\",1)\\\n",
        "                                      .replace(\"No (না)\",0)\\\n",
        "                                     \n",
        "traits['CGPA']"
      ]
    },
    {
      "cell_type": "code",
      "execution_count": null,
      "metadata": {
        "colab": {
          "base_uri": "https://localhost:8080/"
        },
        "id": "sP6u_5Eh1hXq",
        "outputId": "d7e71d05-2499-4ac4-fb54-3b8c9985fb89"
      },
      "outputs": [
        {
          "output_type": "execute_result",
          "data": {
            "text/plain": [
              "0      0\n",
              "1      0\n",
              "2      0\n",
              "3      0\n",
              "4      0\n",
              "      ..\n",
              "97     2\n",
              "98     2\n",
              "99     3\n",
              "100    0\n",
              "101    0\n",
              "Name: assignments, Length: 102, dtype: int64"
            ]
          },
          "metadata": {},
          "execution_count": 10
        }
      ],
      "source": [
        "traits['assignments']=traits['assignments'].replace(\"I start two-three days before submission.(আমি জমা দেওয়ার দুই-তিন দিন আগে শুরু করি।)\",0)\\\n",
        "                                      .replace(\"I start on very first day. (আমি প্রথম দিন থেকেই শুরু করি। )\",1)\\\n",
        "                                      .replace(\"I start toward the end and request sir for extending the time.(শেষের দিকে শুরু করি এবং স্যারকে সময় বাড়িয়ে দেওয়ার জন্য অনুরোধ করি)\",2)\\\n",
        "                                      .replace(\"I start within two or three days.(আমি দুই-তিন দিনের মধ্যে শুরু করি।)\",3)\\\n",
        "                                      .replace(\"I start two-three days before submission.\",0)\\\n",
        "                                      .replace(\"I start toward the end and request sir for extending the time.\",0)\\\n",
        "                                     \n",
        "traits['assignments']"
      ]
    },
    {
      "cell_type": "code",
      "execution_count": null,
      "metadata": {
        "colab": {
          "base_uri": "https://localhost:8080/"
        },
        "id": "sFCVWuIf1hgK",
        "outputId": "f2d31ba4-c5a9-4f42-9b2a-290c08a9a48e"
      },
      "outputs": [
        {
          "output_type": "execute_result",
          "data": {
            "text/plain": [
              "0      2\n",
              "1      2\n",
              "2      2\n",
              "3      1\n",
              "4      2\n",
              "      ..\n",
              "97     2\n",
              "98     1\n",
              "99     1\n",
              "100    2\n",
              "101    2\n",
              "Name: social media, Length: 102, dtype: int64"
            ]
          },
          "metadata": {},
          "execution_count": 11
        }
      ],
      "source": [
        "traits['social media']=traits['social media'].replace(\"0-1 Hour (0-১ ঘন্টা)\",0)\\\n",
        "                                      .replace(\"1-3  Hour (১-৩ ঘন্টা)\",1)\\\n",
        "                                      .replace(\"3-5  Hour (৩-5 ঘন্টা)\",2)\\\n",
        "                                      .replace(\"more than 5 Hour ( ৫ ঘন্টার বেশি)\",3)\\\n",
        "                                     \n",
        "traits['social media']"
      ]
    },
    {
      "cell_type": "code",
      "execution_count": null,
      "metadata": {
        "colab": {
          "base_uri": "https://localhost:8080/"
        },
        "id": "J5EWAEUU1uqc",
        "outputId": "64b41e76-53c7-4358-8db7-5c4656d4fcfd"
      },
      "outputs": [
        {
          "output_type": "execute_result",
          "data": {
            "text/plain": [
              "0      3\n",
              "1      0\n",
              "2      0\n",
              "3      3\n",
              "4      0\n",
              "      ..\n",
              "97     0\n",
              "98     1\n",
              "99     2\n",
              "100    0\n",
              "101    0\n",
              "Name: skills, Length: 102, dtype: int64"
            ]
          },
          "metadata": {},
          "execution_count": 12
        }
      ],
      "source": [
        "traits['skills']=traits['skills'].replace(\"0-1 Hour (0-১ ঘন্টা)\",0)\\\n",
        "                                      .replace(\"1-3  Hour (১-৩ ঘন্টা)\",1)\\\n",
        "                                      .replace(\"3-5  Hour (৩-5 ঘন্টা)\",2)\\\n",
        "                                      .replace(\"more than 5 Hour ( ৫ ঘন্টার বেশি)\",3)\\\n",
        "                                     \n",
        "traits['skills']"
      ]
    },
    {
      "cell_type": "code",
      "execution_count": null,
      "metadata": {
        "colab": {
          "base_uri": "https://localhost:8080/"
        },
        "id": "nXWbDwo81w67",
        "outputId": "91002adf-2477-41dd-e6fb-4f22395fd05a"
      },
      "outputs": [
        {
          "output_type": "execute_result",
          "data": {
            "text/plain": [
              "0      2\n",
              "1      1\n",
              "2      1\n",
              "3      1\n",
              "4      1\n",
              "      ..\n",
              "97     0\n",
              "98     0\n",
              "99     1\n",
              "100    1\n",
              "101    0\n",
              "Name: study, Length: 102, dtype: int64"
            ]
          },
          "metadata": {},
          "execution_count": 13
        }
      ],
      "source": [
        "traits['study']=traits['study'].replace(\"0-1 Hour (0-১ ঘন্টা)\",0)\\\n",
        "                                      .replace(\"1-3  Hour (১-৩ ঘন্টা)\",1)\\\n",
        "                                      .replace(\"3-5  Hour (৩-5 ঘন্টা)\",2)\\\n",
        "                                      .replace(\"more than 5 Hour ( ৫ ঘন্টার বেশি)\",3)\\\n",
        "                                     \n",
        "traits['study']"
      ]
    },
    {
      "cell_type": "code",
      "execution_count": null,
      "metadata": {
        "colab": {
          "base_uri": "https://localhost:8080/"
        },
        "id": "CDqUHDpU1zPM",
        "outputId": "26d9bca7-d3ce-4271-8e19-30e75f595f91"
      },
      "outputs": [
        {
          "output_type": "execute_result",
          "data": {
            "text/plain": [
              "0      0\n",
              "1      1\n",
              "2      0\n",
              "3      1\n",
              "4      1\n",
              "      ..\n",
              "97     2\n",
              "98     2\n",
              "99     0\n",
              "100    1\n",
              "101    2\n",
              "Name: examination, Length: 102, dtype: int64"
            ]
          },
          "metadata": {},
          "execution_count": 14
        }
      ],
      "source": [
        "traits['examination']=traits['examination'].replace(\"Yes ( হ্যাঁ )\",1)\\\n",
        "                                      .replace(\"No (না)\",0)\\\n",
        "                                      .replace(\"No, I know that I would have felt the same thing even I had given  one more day.(না, আমি জানি যে আরও একদিন দিলেও আমি একই জিনিস অনুভব করতাম।)\",2)\n",
        "traits['examination']"
      ]
    },
    {
      "cell_type": "code",
      "execution_count": null,
      "metadata": {
        "colab": {
          "base_uri": "https://localhost:8080/"
        },
        "id": "tK89FRFN11ks",
        "outputId": "1159b293-8f65-4d67-ee7a-4d7ffbca277e"
      },
      "outputs": [
        {
          "output_type": "execute_result",
          "data": {
            "text/plain": [
              "0      1\n",
              "1      0\n",
              "2      0\n",
              "3      0\n",
              "4      1\n",
              "      ..\n",
              "97     0\n",
              "98     0\n",
              "99     1\n",
              "100    0\n",
              "101    1\n",
              "Name: hard worker, Length: 102, dtype: int64"
            ]
          },
          "metadata": {},
          "execution_count": 15
        }
      ],
      "source": [
        "traits['hard worker']=traits['hard worker'].replace(\"Yes ( হ্যাঁ )\",1)\\\n",
        "                                      .replace(\"No (না)\",0)\n",
        "                                     \n",
        "traits['hard worker']"
      ]
    },
    {
      "cell_type": "code",
      "execution_count": null,
      "metadata": {
        "colab": {
          "base_uri": "https://localhost:8080/"
        },
        "id": "-Tt01Dfm14MT",
        "outputId": "070af766-15be-4e58-ed55-99e5ec74dc51"
      },
      "outputs": [
        {
          "output_type": "execute_result",
          "data": {
            "text/plain": [
              "0      1\n",
              "1      1\n",
              "2      0\n",
              "3      0\n",
              "4      1\n",
              "      ..\n",
              "97     1\n",
              "98     0\n",
              "99     0\n",
              "100    0\n",
              "101    0\n",
              "Name: Age, Length: 102, dtype: int64"
            ]
          },
          "metadata": {},
          "execution_count": 16
        }
      ],
      "source": [
        "traits['Age']=traits['Age'].replace(\"18-22\",0)\\\n",
        "                                      .replace(\"22-26\",1)\\\n",
        "                                      .replace(\"22\",1)\\\n",
        "                                      .replace(\"28\",2)\\\n",
        "                                      .replace(\"32\",2)\n",
        "                                     \n",
        "traits['Age']"
      ]
    },
    {
      "cell_type": "code",
      "source": [
        "traits.head()"
      ],
      "metadata": {
        "colab": {
          "base_uri": "https://localhost:8080/",
          "height": 354
        },
        "id": "_plr0PQ77U_l",
        "outputId": "f63003ed-4937-4871-f414-c5ae1e936218"
      },
      "execution_count": null,
      "outputs": [
        {
          "output_type": "execute_result",
          "data": {
            "text/plain": [
              "             Timestamp  Age  hang out  punctuality  assignments  social media  \\\n",
              "0  10/22/2022 22:32:33    1         1            9            0             2   \n",
              "1  10/22/2022 22:44:06    1         1            6            0             2   \n",
              "2  10/22/2022 23:09:45    0         1            7            0             2   \n",
              "3  10/22/2022 23:10:39    0         1            8            0             1   \n",
              "4  10/22/2022 23:20:01    1         1           10            0             2   \n",
              "\n",
              "   CGPA  skills  study  examination  hard worker  introvert  \\\n",
              "0     0       3      2            0            1          1   \n",
              "1     0       0      1            1            0          0   \n",
              "2     0       0      1            0            0          0   \n",
              "3     1       3      1            1            0          2   \n",
              "4     1       0      1            1            1          2   \n",
              "\n",
              "   communication skills  religious  \\\n",
              "0                     7          7   \n",
              "1                     9          7   \n",
              "2                     8          9   \n",
              "3                     8          9   \n",
              "4                     3          9   \n",
              "\n",
              "                                               photo  \n",
              "0                   84013 (1) - Md. Nazmus Sakib.jpg  \n",
              "1  inbound6266109105667462293 - S.M Sifatul Islam...  \n",
              "2  inbound2206962629156559833 - Md Tanzimul Hasan...  \n",
              "3                 Badhon - Prashoman Chakrabarti.jpg  \n",
              "4     inbound310068632908722779 - Sajib Talukdar.jpg  "
            ],
            "text/html": [
              "\n",
              "  <div id=\"df-af20cea1-cb07-42f2-9fec-6304da759ef1\">\n",
              "    <div class=\"colab-df-container\">\n",
              "      <div>\n",
              "<style scoped>\n",
              "    .dataframe tbody tr th:only-of-type {\n",
              "        vertical-align: middle;\n",
              "    }\n",
              "\n",
              "    .dataframe tbody tr th {\n",
              "        vertical-align: top;\n",
              "    }\n",
              "\n",
              "    .dataframe thead th {\n",
              "        text-align: right;\n",
              "    }\n",
              "</style>\n",
              "<table border=\"1\" class=\"dataframe\">\n",
              "  <thead>\n",
              "    <tr style=\"text-align: right;\">\n",
              "      <th></th>\n",
              "      <th>Timestamp</th>\n",
              "      <th>Age</th>\n",
              "      <th>hang out</th>\n",
              "      <th>punctuality</th>\n",
              "      <th>assignments</th>\n",
              "      <th>social media</th>\n",
              "      <th>CGPA</th>\n",
              "      <th>skills</th>\n",
              "      <th>study</th>\n",
              "      <th>examination</th>\n",
              "      <th>hard worker</th>\n",
              "      <th>introvert</th>\n",
              "      <th>communication skills</th>\n",
              "      <th>religious</th>\n",
              "      <th>photo</th>\n",
              "    </tr>\n",
              "  </thead>\n",
              "  <tbody>\n",
              "    <tr>\n",
              "      <th>0</th>\n",
              "      <td>10/22/2022 22:32:33</td>\n",
              "      <td>1</td>\n",
              "      <td>1</td>\n",
              "      <td>9</td>\n",
              "      <td>0</td>\n",
              "      <td>2</td>\n",
              "      <td>0</td>\n",
              "      <td>3</td>\n",
              "      <td>2</td>\n",
              "      <td>0</td>\n",
              "      <td>1</td>\n",
              "      <td>1</td>\n",
              "      <td>7</td>\n",
              "      <td>7</td>\n",
              "      <td>84013 (1) - Md. Nazmus Sakib.jpg</td>\n",
              "    </tr>\n",
              "    <tr>\n",
              "      <th>1</th>\n",
              "      <td>10/22/2022 22:44:06</td>\n",
              "      <td>1</td>\n",
              "      <td>1</td>\n",
              "      <td>6</td>\n",
              "      <td>0</td>\n",
              "      <td>2</td>\n",
              "      <td>0</td>\n",
              "      <td>0</td>\n",
              "      <td>1</td>\n",
              "      <td>1</td>\n",
              "      <td>0</td>\n",
              "      <td>0</td>\n",
              "      <td>9</td>\n",
              "      <td>7</td>\n",
              "      <td>inbound6266109105667462293 - S.M Sifatul Islam...</td>\n",
              "    </tr>\n",
              "    <tr>\n",
              "      <th>2</th>\n",
              "      <td>10/22/2022 23:09:45</td>\n",
              "      <td>0</td>\n",
              "      <td>1</td>\n",
              "      <td>7</td>\n",
              "      <td>0</td>\n",
              "      <td>2</td>\n",
              "      <td>0</td>\n",
              "      <td>0</td>\n",
              "      <td>1</td>\n",
              "      <td>0</td>\n",
              "      <td>0</td>\n",
              "      <td>0</td>\n",
              "      <td>8</td>\n",
              "      <td>9</td>\n",
              "      <td>inbound2206962629156559833 - Md Tanzimul Hasan...</td>\n",
              "    </tr>\n",
              "    <tr>\n",
              "      <th>3</th>\n",
              "      <td>10/22/2022 23:10:39</td>\n",
              "      <td>0</td>\n",
              "      <td>1</td>\n",
              "      <td>8</td>\n",
              "      <td>0</td>\n",
              "      <td>1</td>\n",
              "      <td>1</td>\n",
              "      <td>3</td>\n",
              "      <td>1</td>\n",
              "      <td>1</td>\n",
              "      <td>0</td>\n",
              "      <td>2</td>\n",
              "      <td>8</td>\n",
              "      <td>9</td>\n",
              "      <td>Badhon - Prashoman Chakrabarti.jpg</td>\n",
              "    </tr>\n",
              "    <tr>\n",
              "      <th>4</th>\n",
              "      <td>10/22/2022 23:20:01</td>\n",
              "      <td>1</td>\n",
              "      <td>1</td>\n",
              "      <td>10</td>\n",
              "      <td>0</td>\n",
              "      <td>2</td>\n",
              "      <td>1</td>\n",
              "      <td>0</td>\n",
              "      <td>1</td>\n",
              "      <td>1</td>\n",
              "      <td>1</td>\n",
              "      <td>2</td>\n",
              "      <td>3</td>\n",
              "      <td>9</td>\n",
              "      <td>inbound310068632908722779 - Sajib Talukdar.jpg</td>\n",
              "    </tr>\n",
              "  </tbody>\n",
              "</table>\n",
              "</div>\n",
              "      <button class=\"colab-df-convert\" onclick=\"convertToInteractive('df-af20cea1-cb07-42f2-9fec-6304da759ef1')\"\n",
              "              title=\"Convert this dataframe to an interactive table.\"\n",
              "              style=\"display:none;\">\n",
              "        \n",
              "  <svg xmlns=\"http://www.w3.org/2000/svg\" height=\"24px\"viewBox=\"0 0 24 24\"\n",
              "       width=\"24px\">\n",
              "    <path d=\"M0 0h24v24H0V0z\" fill=\"none\"/>\n",
              "    <path d=\"M18.56 5.44l.94 2.06.94-2.06 2.06-.94-2.06-.94-.94-2.06-.94 2.06-2.06.94zm-11 1L8.5 8.5l.94-2.06 2.06-.94-2.06-.94L8.5 2.5l-.94 2.06-2.06.94zm10 10l.94 2.06.94-2.06 2.06-.94-2.06-.94-.94-2.06-.94 2.06-2.06.94z\"/><path d=\"M17.41 7.96l-1.37-1.37c-.4-.4-.92-.59-1.43-.59-.52 0-1.04.2-1.43.59L10.3 9.45l-7.72 7.72c-.78.78-.78 2.05 0 2.83L4 21.41c.39.39.9.59 1.41.59.51 0 1.02-.2 1.41-.59l7.78-7.78 2.81-2.81c.8-.78.8-2.07 0-2.86zM5.41 20L4 18.59l7.72-7.72 1.47 1.35L5.41 20z\"/>\n",
              "  </svg>\n",
              "      </button>\n",
              "      \n",
              "  <style>\n",
              "    .colab-df-container {\n",
              "      display:flex;\n",
              "      flex-wrap:wrap;\n",
              "      gap: 12px;\n",
              "    }\n",
              "\n",
              "    .colab-df-convert {\n",
              "      background-color: #E8F0FE;\n",
              "      border: none;\n",
              "      border-radius: 50%;\n",
              "      cursor: pointer;\n",
              "      display: none;\n",
              "      fill: #1967D2;\n",
              "      height: 32px;\n",
              "      padding: 0 0 0 0;\n",
              "      width: 32px;\n",
              "    }\n",
              "\n",
              "    .colab-df-convert:hover {\n",
              "      background-color: #E2EBFA;\n",
              "      box-shadow: 0px 1px 2px rgba(60, 64, 67, 0.3), 0px 1px 3px 1px rgba(60, 64, 67, 0.15);\n",
              "      fill: #174EA6;\n",
              "    }\n",
              "\n",
              "    [theme=dark] .colab-df-convert {\n",
              "      background-color: #3B4455;\n",
              "      fill: #D2E3FC;\n",
              "    }\n",
              "\n",
              "    [theme=dark] .colab-df-convert:hover {\n",
              "      background-color: #434B5C;\n",
              "      box-shadow: 0px 1px 3px 1px rgba(0, 0, 0, 0.15);\n",
              "      filter: drop-shadow(0px 1px 2px rgba(0, 0, 0, 0.3));\n",
              "      fill: #FFFFFF;\n",
              "    }\n",
              "  </style>\n",
              "\n",
              "      <script>\n",
              "        const buttonEl =\n",
              "          document.querySelector('#df-af20cea1-cb07-42f2-9fec-6304da759ef1 button.colab-df-convert');\n",
              "        buttonEl.style.display =\n",
              "          google.colab.kernel.accessAllowed ? 'block' : 'none';\n",
              "\n",
              "        async function convertToInteractive(key) {\n",
              "          const element = document.querySelector('#df-af20cea1-cb07-42f2-9fec-6304da759ef1');\n",
              "          const dataTable =\n",
              "            await google.colab.kernel.invokeFunction('convertToInteractive',\n",
              "                                                     [key], {});\n",
              "          if (!dataTable) return;\n",
              "\n",
              "          const docLinkHtml = 'Like what you see? Visit the ' +\n",
              "            '<a target=\"_blank\" href=https://colab.research.google.com/notebooks/data_table.ipynb>data table notebook</a>'\n",
              "            + ' to learn more about interactive tables.';\n",
              "          element.innerHTML = '';\n",
              "          dataTable['output_type'] = 'display_data';\n",
              "          await google.colab.output.renderOutput(dataTable, element);\n",
              "          const docLink = document.createElement('div');\n",
              "          docLink.innerHTML = docLinkHtml;\n",
              "          element.appendChild(docLink);\n",
              "        }\n",
              "      </script>\n",
              "    </div>\n",
              "  </div>\n",
              "  "
            ]
          },
          "metadata": {},
          "execution_count": 17
        }
      ]
    },
    {
      "cell_type": "markdown",
      "metadata": {
        "id": "aayC9mHG19Xb"
      },
      "source": [
        "#face Segmentation"
      ]
    },
    {
      "cell_type": "code",
      "execution_count": null,
      "metadata": {
        "id": "bDEzLOeR2uBT"
      },
      "outputs": [],
      "source": [
        "#segmented all image using openCV haarcascade frontalface function\n",
        "face=cv2.CascadeClassifier(cv2.data.haarcascades+'haarcascade_frontalface_default.xml')\n",
        "for i in range(102):\n",
        " \n",
        "  try:\n",
        "   img=cv2.imread('/content/drive/MyDrive/pr image3/'+traits[\"photo\"][i])\n",
        "   img2=cv2.cvtColor(img,cv2.COLOR_BGR2GRAY)\n",
        "   f=face.detectMultiScale(img2, 1.3, 5)\n",
        "  except:\n",
        "    print(\"not Done\"+traits[\"photo\"][i]) \n",
        "  try:\n",
        "    for(x,y,w,h) in f:\n",
        "      k=img[y:y+h,x:x+w]\n",
        "    im_resize=cv2.resize(k,(224,224))\n",
        "    cv2.imwrite('/content/drive/MyDrive/segmented faces3/'+traits[\"photo\"][i],im_resize)\n",
        "    print(\"done  \"+traits[\"photo\"][i])\n",
        "  except:\n",
        "    print(\"not Done\"+traits[\"photo\"][i])"
      ]
    },
    {
      "cell_type": "code",
      "execution_count": null,
      "metadata": {
        "id": "kK7mxCpNteoy"
      },
      "outputs": [],
      "source": [
        "#those image cannot segmented autometically\n",
        "  face=cv2.CascadeClassifier(cv2.data.haarcascades+'haarcascade_frontalface_default.xml')\n",
        "  try:\n",
        "   img=cv2.imread('/content/drive/MyDrive/image/y/inbound5263845978641876546 - Bulbul ahmmed.jpg') #image segmented one by one\n",
        "   img2=cv2.cvtColor(img,cv2.COLOR_BGR2GRAY)\n",
        "   f=face.detectMultiScale(img2, 1.3, 5)\n",
        "  except:\n",
        "    print(\"not Done\") \n",
        "  try:\n",
        "    for(x,y,w,h) in f:\n",
        "      k=img[y:y+h,x:x+w]\n",
        "    im_resize=cv2.resize(k,(224,224))\n",
        "    cv2.imwrite('/content/drive/MyDrive/image/yseg/inbound5263845978641876546 - Bulbul ahmmed.jpg',im_resize)\n",
        "    print(\"done  \")\n",
        "    im_resize=0\n",
        "  except:\n",
        "    print(\"not Done\")"
      ]
    },
    {
      "cell_type": "markdown",
      "metadata": {
        "id": "R8NdT8O83ZAK"
      },
      "source": [
        "#CGPA column as a label (CNN)"
      ]
    },
    {
      "cell_type": "code",
      "execution_count": null,
      "metadata": {
        "colab": {
          "base_uri": "https://localhost:8080/"
        },
        "id": "id7cpwvU3dxS",
        "outputId": "df7fb117-e649-4a9d-8af1-a03a7dbbe7d4"
      },
      "outputs": [
        {
          "name": "stdout",
          "output_type": "stream",
          "text": [
            "not done21\n",
            "not done22\n",
            "not done34\n",
            "not done37\n",
            "not done97\n"
          ]
        }
      ],
      "source": [
        "Image_Cgpa_train=[]\n",
        "Image_Cgpa_test=[]\n",
        "\n",
        "for i in range(102):\n",
        "   img=traits[\"photo\"][i]\n",
        "   try:\n",
        "    image_path='/content/drive/MyDrive/image/final segmented image/'+img\n",
        "    image_r=cv2.imread(image_path)\n",
        "    image=cv2.resize(image_r,(224,224))\n",
        "\n",
        "    if i%5==0:\n",
        "      Class=traits[\"CGPA\"][i]\n",
        "      Image_Cgpa_test.append([image,Class])\n",
        "    else:\n",
        "      Class=traits[\"CGPA\"][i]\n",
        "      Image_Cgpa_train.append([image,Class])\n",
        "   except:\n",
        "    print(\"not done\"+str(i))"
      ]
    },
    {
      "cell_type": "code",
      "execution_count": null,
      "metadata": {
        "id": "IW3uxXT83hWT"
      },
      "outputs": [],
      "source": [
        "random.shuffle(Image_Cgpa_train)\n",
        "random.shuffle(Image_Cgpa_test)\n",
        "X_train=[]\n",
        "Y_train=[]\n",
        "X_test=[]\n",
        "Y_test=[]\n",
        "for x,y in Image_Cgpa_train:\n",
        "  X_train.append(x)\n",
        "  Y_train.append(y)\n",
        "for x,y in Image_Cgpa_test:\n",
        "  X_test.append(x)\n",
        "  Y_test.append(y)"
      ]
    },
    {
      "cell_type": "code",
      "execution_count": null,
      "metadata": {
        "id": "1ZzN_HFH3j_D"
      },
      "outputs": [],
      "source": [
        "X_train=np.array(X_train).reshape(-1,224,224,3)\n",
        "X_test=np.array(X_test).reshape(-1,224,224,3)\n",
        "X_train=X_train/255.0\n",
        "X_test=X_test/255\n",
        "Y_train=np.array(Y_train)\n",
        "Y_test=np.array(Y_test)"
      ]
    },
    {
      "cell_type": "code",
      "execution_count": null,
      "metadata": {
        "colab": {
          "base_uri": "https://localhost:8080/"
        },
        "id": "8eQ8b5gHOcQQ",
        "outputId": "f870fd2c-497c-4d19-b746-55bb3224c949"
      },
      "outputs": [
        {
          "name": "stdout",
          "output_type": "stream",
          "text": [
            "Model: \"sequential_3\"\n",
            "_________________________________________________________________\n",
            " Layer (type)                Output Shape              Param #   \n",
            "=================================================================\n",
            " conv2d_9 (Conv2D)           (None, 222, 222, 64)      1792      \n",
            "                                                                 \n",
            " max_pooling2d_9 (MaxPooling  (None, 111, 111, 64)     0         \n",
            " 2D)                                                             \n",
            "                                                                 \n",
            " conv2d_10 (Conv2D)          (None, 109, 109, 32)      18464     \n",
            "                                                                 \n",
            " max_pooling2d_10 (MaxPoolin  (None, 54, 54, 32)       0         \n",
            " g2D)                                                            \n",
            "                                                                 \n",
            " conv2d_11 (Conv2D)          (None, 52, 52, 16)        4624      \n",
            "                                                                 \n",
            " max_pooling2d_11 (MaxPoolin  (None, 26, 26, 16)       0         \n",
            " g2D)                                                            \n",
            "                                                                 \n",
            " conv2d_12 (Conv2D)          (None, 24, 24, 16)        2320      \n",
            "                                                                 \n",
            " max_pooling2d_12 (MaxPoolin  (None, 12, 12, 16)       0         \n",
            " g2D)                                                            \n",
            "                                                                 \n",
            " conv2d_13 (Conv2D)          (None, 10, 10, 8)         1160      \n",
            "                                                                 \n",
            " max_pooling2d_13 (MaxPoolin  (None, 5, 5, 8)          0         \n",
            " g2D)                                                            \n",
            "                                                                 \n",
            " flatten_3 (Flatten)         (None, 200)               0         \n",
            "                                                                 \n",
            " dense_7 (Dense)             (None, 128)               25728     \n",
            "                                                                 \n",
            " dense_8 (Dense)             (None, 64)                8256      \n",
            "                                                                 \n",
            " dense_9 (Dense)             (None, 1)                 65        \n",
            "                                                                 \n",
            "=================================================================\n",
            "Total params: 62,409\n",
            "Trainable params: 62,409\n",
            "Non-trainable params: 0\n",
            "_________________________________________________________________\n"
          ]
        }
      ],
      "source": [
        "CNN=models.Sequential([\n",
        "    layers.Conv2D(64,(3,3),activation='relu',input_shape=(224,224,3)),\n",
        "    layers.MaxPooling2D(2,2),\n",
        "    layers.Conv2D(32,(3,3),activation='relu'),\n",
        "    layers.MaxPooling2D(2,2),\n",
        "    layers.Conv2D(16,(3,3),activation='relu'),\n",
        "    layers.MaxPooling2D(2,2),\n",
        "     layers.Conv2D(16,(3,3),activation='relu'),\n",
        "    layers.MaxPooling2D(2,2),\n",
        "     layers.Conv2D(8,(3,3),activation='relu'),\n",
        "    layers.MaxPooling2D(2,2),\n",
        "    layers.Flatten(),\n",
        "    layers.Dense(128,activation='relu'),\n",
        "    layers.Dense(64,activation='relu'),\n",
        "    layers.Dense(1,activation='sigmoid')\n",
        "\n",
        "\n",
        "])\n",
        "CNN.summary()"
      ]
    },
    {
      "cell_type": "code",
      "execution_count": null,
      "metadata": {
        "id": "3MDx0lk3Oe3I"
      },
      "outputs": [],
      "source": [
        "CNN.compile(loss='binary_crossentropy',optimizer='adam',metrics=['accuracy'])"
      ]
    },
    {
      "cell_type": "code",
      "execution_count": null,
      "metadata": {
        "colab": {
          "base_uri": "https://localhost:8080/"
        },
        "id": "5nrZhg3UOhXH",
        "outputId": "24ac8c51-8b99-4192-a3f5-2aff210199ff"
      },
      "outputs": [
        {
          "name": "stdout",
          "output_type": "stream",
          "text": [
            "Epoch 1/10\n",
            "3/3 [==============================] - 9s 2s/step - loss: 0.6923 - accuracy: 0.5526\n",
            "Epoch 2/10\n",
            "3/3 [==============================] - 8s 2s/step - loss: 0.6945 - accuracy: 0.4605\n",
            "Epoch 3/10\n",
            "3/3 [==============================] - 8s 2s/step - loss: 0.6843 - accuracy: 0.5395\n",
            "Epoch 4/10\n",
            "3/3 [==============================] - 8s 2s/step - loss: 0.7003 - accuracy: 0.5395\n",
            "Epoch 5/10\n",
            "3/3 [==============================] - 8s 2s/step - loss: 0.6789 - accuracy: 0.5395\n",
            "Epoch 6/10\n",
            "3/3 [==============================] - 8s 2s/step - loss: 0.6844 - accuracy: 0.6842\n",
            "Epoch 7/10\n",
            "3/3 [==============================] - 8s 2s/step - loss: 0.6920 - accuracy: 0.5132\n",
            "Epoch 8/10\n",
            "3/3 [==============================] - 8s 2s/step - loss: 0.6893 - accuracy: 0.5000\n",
            "Epoch 9/10\n",
            "3/3 [==============================] - 8s 2s/step - loss: 0.6867 - accuracy: 0.6842\n",
            "Epoch 10/10\n",
            "3/3 [==============================] - 8s 2s/step - loss: 0.6848 - accuracy: 0.6053\n"
          ]
        },
        {
          "data": {
            "text/plain": [
              "<keras.callbacks.History at 0x7f811cc8bc70>"
            ]
          },
          "execution_count": 41,
          "metadata": {},
          "output_type": "execute_result"
        }
      ],
      "source": [
        "CNN.fit(X_train,Y_train,epochs=10)"
      ]
    },
    {
      "cell_type": "code",
      "execution_count": null,
      "metadata": {
        "colab": {
          "base_uri": "https://localhost:8080/"
        },
        "id": "UVuCnRRrOjbQ",
        "outputId": "ce2dec36-3c8e-440c-981c-06bc20f0312d"
      },
      "outputs": [
        {
          "name": "stdout",
          "output_type": "stream",
          "text": [
            "1/1 [==============================] - 1s 651ms/step - loss: 0.6730 - accuracy: 0.6667\n"
          ]
        },
        {
          "data": {
            "text/plain": [
              "[0.67295241355896, 0.6666666865348816]"
            ]
          },
          "execution_count": 42,
          "metadata": {},
          "output_type": "execute_result"
        }
      ],
      "source": [
        "CNN.evaluate(X_test,Y_test)"
      ]
    },
    {
      "cell_type": "markdown",
      "metadata": {
        "id": "n-C8kNHsuMNW"
      },
      "source": [
        "#assignments column as a label (CNN)  \n"
      ]
    },
    {
      "cell_type": "code",
      "execution_count": null,
      "metadata": {
        "colab": {
          "base_uri": "https://localhost:8080/"
        },
        "id": "lhiDfL8RucOe",
        "outputId": "27818985-8ca2-4258-9931-cba198c043cb"
      },
      "outputs": [
        {
          "name": "stdout",
          "output_type": "stream",
          "text": [
            "not done21\n",
            "not done22\n",
            "not done34\n",
            "not done37\n",
            "not done97\n"
          ]
        }
      ],
      "source": [
        "Image_assignments_train=[]\n",
        "Image_assignments_test=[]\n",
        "\n",
        "for i in range(102):\n",
        "   img=traits[\"photo\"][i]\n",
        "   try:\n",
        "    image_path='/content/drive/MyDrive/image/final segmented image/'+img\n",
        "    image_r=cv2.imread(image_path)\n",
        "    image=cv2.resize(image_r,(224,224))\n",
        "\n",
        "    if i%5==0:\n",
        "      Class=traits[\"assignments\"][i]\n",
        "      Image_assignments_test.append([image,Class])\n",
        "    else:\n",
        "      Class=traits[\"assignments\"][i]\n",
        "      Image_assignments_train.append([image,Class])\n",
        "   except:\n",
        "    print(\"not done\"+str(i))"
      ]
    },
    {
      "cell_type": "code",
      "execution_count": null,
      "metadata": {
        "id": "c3USHah0u3EH"
      },
      "outputs": [],
      "source": [
        "random.shuffle(Image_assignments_train)\n",
        "random.shuffle(Image_assignments_test)\n",
        "X_train_assignments=[]\n",
        "Y_train_assignments=[]\n",
        "X_test_assignments=[]\n",
        "Y_test_assignments=[]\n",
        "for x,y in Image_assignments_train:\n",
        "  X_train_assignments.append(x)\n",
        "  Y_train_assignments.append(y)\n",
        "for x,y in Image_assignments_test:\n",
        "  X_test_assignments.append(x)\n",
        "  Y_test_assignments.append(y)"
      ]
    },
    {
      "cell_type": "code",
      "execution_count": null,
      "metadata": {
        "id": "CK7jaMZzu6V2"
      },
      "outputs": [],
      "source": [
        "X_train_assignments=np.array(X_train_assignments).reshape(-1,224,224,3)\n",
        "X_test_assignments=np.array(X_test_assignments).reshape(-1,224,224,3)\n",
        "X_train_assignments=X_train_assignments/255.0\n",
        "X_test_assignments=X_test_assignments/255.0\n",
        "Y_train_assignments=np.array(Y_train_assignments)\n",
        "Y_test_assignments=np.array(Y_test_assignments)"
      ]
    },
    {
      "cell_type": "code",
      "execution_count": null,
      "metadata": {
        "colab": {
          "base_uri": "https://localhost:8080/"
        },
        "id": "WEIwETc8wVO-",
        "outputId": "b11c69c9-c735-4041-c160-1deea7282395"
      },
      "outputs": [
        {
          "name": "stdout",
          "output_type": "stream",
          "text": [
            "Model: \"sequential_4\"\n",
            "_________________________________________________________________\n",
            " Layer (type)                Output Shape              Param #   \n",
            "=================================================================\n",
            " conv2d_14 (Conv2D)          (None, 222, 222, 32)      896       \n",
            "                                                                 \n",
            " max_pooling2d_14 (MaxPoolin  (None, 111, 111, 32)     0         \n",
            " g2D)                                                            \n",
            "                                                                 \n",
            " conv2d_15 (Conv2D)          (None, 109, 109, 32)      9248      \n",
            "                                                                 \n",
            " max_pooling2d_15 (MaxPoolin  (None, 54, 54, 32)       0         \n",
            " g2D)                                                            \n",
            "                                                                 \n",
            " flatten_4 (Flatten)         (None, 93312)             0         \n",
            "                                                                 \n",
            " dense_10 (Dense)            (None, 128)               11944064  \n",
            "                                                                 \n",
            " dense_11 (Dense)            (None, 4)                 516       \n",
            "                                                                 \n",
            "=================================================================\n",
            "Total params: 11,954,724\n",
            "Trainable params: 11,954,724\n",
            "Non-trainable params: 0\n",
            "_________________________________________________________________\n"
          ]
        }
      ],
      "source": [
        "CNN=models.Sequential([\n",
        "    layers.Conv2D(32,(3,3),activation='relu',input_shape=(224,224,3)),\n",
        "    layers.MaxPooling2D(2,2),\n",
        "    layers.Conv2D(32,(3,3),activation='relu'),\n",
        "    layers.MaxPooling2D(2,2),\n",
        "    layers.Flatten(),\n",
        "    layers.Dense(128,activation='relu'),\n",
        "    layers.Dense(4,activation='softmax')\n",
        "\n",
        "\n",
        "])\n",
        "CNN.summary()"
      ]
    },
    {
      "cell_type": "code",
      "execution_count": null,
      "metadata": {
        "id": "uFdACI8MwVZt"
      },
      "outputs": [],
      "source": [
        "CNN.compile(loss=tf.keras.losses.SparseCategoricalCrossentropy(),optimizer='adam',metrics=['accuracy'])"
      ]
    },
    {
      "cell_type": "code",
      "execution_count": null,
      "metadata": {
        "colab": {
          "base_uri": "https://localhost:8080/"
        },
        "id": "gSp7QOG3wViN",
        "outputId": "3999b768-dc8d-40ef-cb2c-f562d6606cc7"
      },
      "outputs": [
        {
          "name": "stdout",
          "output_type": "stream",
          "text": [
            "Epoch 1/10\n",
            "3/3 [==============================] - 5s 1s/step - loss: 3.8727 - accuracy: 0.3684\n",
            "Epoch 2/10\n",
            "3/3 [==============================] - 4s 1s/step - loss: 1.9996 - accuracy: 0.5526\n",
            "Epoch 3/10\n",
            "3/3 [==============================] - 6s 2s/step - loss: 1.1074 - accuracy: 0.5395\n",
            "Epoch 4/10\n",
            "3/3 [==============================] - 5s 2s/step - loss: 1.0820 - accuracy: 0.6316\n",
            "Epoch 5/10\n",
            "3/3 [==============================] - 6s 2s/step - loss: 0.8918 - accuracy: 0.6974\n",
            "Epoch 6/10\n",
            "3/3 [==============================] - 4s 1s/step - loss: 0.7886 - accuracy: 0.6316\n",
            "Epoch 7/10\n",
            "3/3 [==============================] - 4s 1s/step - loss: 0.6106 - accuracy: 0.7632\n",
            "Epoch 8/10\n",
            "3/3 [==============================] - 4s 1s/step - loss: 0.4504 - accuracy: 0.8421\n",
            "Epoch 9/10\n",
            "3/3 [==============================] - 5s 1s/step - loss: 0.3451 - accuracy: 0.9079\n",
            "Epoch 10/10\n",
            "3/3 [==============================] - 4s 1s/step - loss: 0.2988 - accuracy: 0.8947\n"
          ]
        },
        {
          "data": {
            "text/plain": [
              "<keras.callbacks.History at 0x7f811ca95d90>"
            ]
          },
          "execution_count": 48,
          "metadata": {},
          "output_type": "execute_result"
        }
      ],
      "source": [
        "CNN.fit(X_train_assignments,Y_train_assignments,epochs=10)"
      ]
    },
    {
      "cell_type": "code",
      "execution_count": null,
      "metadata": {
        "colab": {
          "base_uri": "https://localhost:8080/"
        },
        "id": "e_Ygj4RkwVq1",
        "outputId": "14ca4645-cd0d-49c1-9e53-7027b7df3654"
      },
      "outputs": [
        {
          "name": "stdout",
          "output_type": "stream",
          "text": [
            "1/1 [==============================] - 0s 467ms/step - loss: 0.8501 - accuracy: 0.7143\n"
          ]
        },
        {
          "data": {
            "text/plain": [
              "[0.8501477837562561, 0.7142857313156128]"
            ]
          },
          "execution_count": 49,
          "metadata": {},
          "output_type": "execute_result"
        }
      ],
      "source": [
        "CNN.evaluate(X_test_assignments,Y_test_assignments)"
      ]
    },
    {
      "cell_type": "markdown",
      "metadata": {
        "id": "-iKOKlKofMH8"
      },
      "source": [
        "#introvert  column as a label (CNN)  "
      ]
    },
    {
      "cell_type": "code",
      "execution_count": null,
      "metadata": {
        "colab": {
          "base_uri": "https://localhost:8080/"
        },
        "id": "1dHfOocVf-Dt",
        "outputId": "fe4cfd3e-3dee-48bb-a826-31e95cab5840"
      },
      "outputs": [
        {
          "name": "stdout",
          "output_type": "stream",
          "text": [
            "not done21\n",
            "not done22\n",
            "not done34\n",
            "not done37\n",
            "not done97\n"
          ]
        }
      ],
      "source": [
        "Image_introvert_train=[]\n",
        "Image_introvert_test=[]\n",
        "\n",
        "for i in range(102):\n",
        "   img=traits[\"photo\"][i]\n",
        "   try:\n",
        "    image_path='/content/drive/MyDrive/image/final segmented image/'+img\n",
        "    image_r=cv2.imread(image_path)\n",
        "    image=cv2.resize(image_r,(224,224))\n",
        "\n",
        "    if i%5==0: \n",
        "      Class=traits[\"introvert\"][i]\n",
        "      Image_introvert_test.append([image,Class])\n",
        "    else:\n",
        "      Class=traits[\"introvert\"][i]\n",
        "      Image_introvert_train.append([image,Class])\n",
        "   except:\n",
        "    print(\"not done\"+str(i))"
      ]
    },
    {
      "cell_type": "code",
      "execution_count": null,
      "metadata": {
        "id": "ph7ykVx0gCMs"
      },
      "outputs": [],
      "source": [
        "random.shuffle(Image_introvert_train)\n",
        "random.shuffle(Image_introvert_test)\n",
        "X_train_introvert=[]\n",
        "Y_train_introvert=[]\n",
        "X_test_introvert=[]\n",
        "Y_test_introvert=[]\n",
        "for x,y in Image_introvert_train:\n",
        "  X_train_introvert.append(x)\n",
        "  Y_train_introvert.append(y)\n",
        "for x,y in Image_introvert_test:\n",
        "  X_test_introvert.append(x)\n",
        "  Y_test_introvert.append(y)"
      ]
    },
    {
      "cell_type": "code",
      "execution_count": null,
      "metadata": {
        "id": "k_pn2IlogCQN"
      },
      "outputs": [],
      "source": [
        "X_train_introvert=np.array(X_train_introvert).reshape(-1,224,224,3)\n",
        "X_test_introvert=np.array(X_test_introvert).reshape(-1,224,224,3)\n",
        "X_train_introvert=X_train_introvert/255.0\n",
        "X_test_introvert=X_test_introvert/255.0\n",
        "Y_train_introvert=np.array(Y_train_introvert)\n",
        "Y_test_introvert=np.array(Y_test_introvert)"
      ]
    },
    {
      "cell_type": "code",
      "execution_count": null,
      "metadata": {
        "colab": {
          "base_uri": "https://localhost:8080/"
        },
        "id": "I68MXTesgCTW",
        "outputId": "1c42d1df-9b03-4b72-dae8-759050487f75"
      },
      "outputs": [
        {
          "name": "stdout",
          "output_type": "stream",
          "text": [
            "Model: \"sequential_5\"\n",
            "_________________________________________________________________\n",
            " Layer (type)                Output Shape              Param #   \n",
            "=================================================================\n",
            " conv2d_16 (Conv2D)          (None, 222, 222, 32)      896       \n",
            "                                                                 \n",
            " max_pooling2d_16 (MaxPoolin  (None, 111, 111, 32)     0         \n",
            " g2D)                                                            \n",
            "                                                                 \n",
            " conv2d_17 (Conv2D)          (None, 109, 109, 32)      9248      \n",
            "                                                                 \n",
            " max_pooling2d_17 (MaxPoolin  (None, 54, 54, 32)       0         \n",
            " g2D)                                                            \n",
            "                                                                 \n",
            " flatten_5 (Flatten)         (None, 93312)             0         \n",
            "                                                                 \n",
            " dense_12 (Dense)            (None, 128)               11944064  \n",
            "                                                                 \n",
            " dense_13 (Dense)            (None, 3)                 387       \n",
            "                                                                 \n",
            "=================================================================\n",
            "Total params: 11,954,595\n",
            "Trainable params: 11,954,595\n",
            "Non-trainable params: 0\n",
            "_________________________________________________________________\n"
          ]
        }
      ],
      "source": [
        "CNN=models.Sequential([\n",
        "    layers.Conv2D(32,(3,3),activation='relu',input_shape=(224,224,3)),\n",
        "    layers.MaxPooling2D(2,2),\n",
        "    layers.Conv2D(32,(3,3),activation='relu'),\n",
        "    layers.MaxPooling2D(2,2),\n",
        "    layers.Flatten(),\n",
        "    layers.Dense(128,activation='relu'),\n",
        "    layers.Dense(3,activation='softmax')\n",
        "\n",
        "\n",
        "])\n",
        "CNN.summary()"
      ]
    },
    {
      "cell_type": "code",
      "execution_count": null,
      "metadata": {
        "id": "gqIZ-eiqgCWD"
      },
      "outputs": [],
      "source": [
        "CNN.compile(loss=tf.keras.losses.Poisson(),optimizer='sgd',metrics=['accuracy'])"
      ]
    },
    {
      "cell_type": "code",
      "execution_count": null,
      "metadata": {
        "colab": {
          "base_uri": "https://localhost:8080/"
        },
        "id": "eJ9L5MyIgCY4",
        "outputId": "84284ca2-f14f-4ae8-8fc8-007747044c30"
      },
      "outputs": [
        {
          "name": "stdout",
          "output_type": "stream",
          "text": [
            "Epoch 1/10\n",
            "3/3 [==============================] - 5s 1s/step - loss: 1.5992 - accuracy: 0.4605\n",
            "Epoch 2/10\n",
            "3/3 [==============================] - 4s 1s/step - loss: 1.5790 - accuracy: 0.3684\n",
            "Epoch 3/10\n",
            "3/3 [==============================] - 4s 1s/step - loss: 1.5769 - accuracy: 0.3947\n",
            "Epoch 4/10\n",
            "3/3 [==============================] - 4s 1s/step - loss: 1.5773 - accuracy: 0.3684\n",
            "Epoch 5/10\n",
            "3/3 [==============================] - 4s 1s/step - loss: 1.5767 - accuracy: 0.3684\n",
            "Epoch 6/10\n",
            "3/3 [==============================] - 4s 1s/step - loss: 1.5767 - accuracy: 0.3158\n",
            "Epoch 7/10\n",
            "3/3 [==============================] - 4s 1s/step - loss: 1.5767 - accuracy: 0.3289\n",
            "Epoch 8/10\n",
            "3/3 [==============================] - 4s 1s/step - loss: 1.5767 - accuracy: 0.3289\n",
            "Epoch 9/10\n",
            "3/3 [==============================] - 4s 1s/step - loss: 1.5767 - accuracy: 0.3816\n",
            "Epoch 10/10\n",
            "3/3 [==============================] - 4s 1s/step - loss: 1.5766 - accuracy: 0.3421\n"
          ]
        },
        {
          "data": {
            "text/plain": [
              "<keras.callbacks.History at 0x7f811c94b040>"
            ]
          },
          "execution_count": 55,
          "metadata": {},
          "output_type": "execute_result"
        }
      ],
      "source": [
        "CNN.fit(X_train_introvert,Y_train_introvert,epochs=10)"
      ]
    },
    {
      "cell_type": "code",
      "execution_count": null,
      "metadata": {
        "colab": {
          "base_uri": "https://localhost:8080/"
        },
        "id": "0Agf7QqmgPde",
        "outputId": "7893b96a-19ad-4cf4-fdfa-a78355357e45"
      },
      "outputs": [
        {
          "name": "stderr",
          "output_type": "stream",
          "text": [
            "WARNING:tensorflow:5 out of the last 5 calls to <function Model.make_test_function.<locals>.test_function at 0x7f811c8ef9d0> triggered tf.function retracing. Tracing is expensive and the excessive number of tracings could be due to (1) creating @tf.function repeatedly in a loop, (2) passing tensors with different shapes, (3) passing Python objects instead of tensors. For (1), please define your @tf.function outside of the loop. For (2), @tf.function has reduce_retracing=True option that can avoid unnecessary retracing. For (3), please refer to https://www.tensorflow.org/guide/function#controlling_retracing and https://www.tensorflow.org/api_docs/python/tf/function for  more details.\n"
          ]
        },
        {
          "name": "stdout",
          "output_type": "stream",
          "text": [
            "1/1 [==============================] - 0s 482ms/step - loss: 1.6415 - accuracy: 0.1905\n"
          ]
        },
        {
          "data": {
            "text/plain": [
              "[1.6414918899536133, 0.190476194024086]"
            ]
          },
          "execution_count": 56,
          "metadata": {},
          "output_type": "execute_result"
        }
      ],
      "source": [
        "CNN.evaluate(X_test_introvert,Y_test_introvert)"
      ]
    },
    {
      "cell_type": "markdown",
      "metadata": {
        "id": "ziTiji4c5g5E"
      },
      "source": [
        "#Study  column as a label (CNN)  "
      ]
    },
    {
      "cell_type": "code",
      "execution_count": null,
      "metadata": {
        "colab": {
          "base_uri": "https://localhost:8080/"
        },
        "id": "PwUV-E7Y5tDh",
        "outputId": "c75a5688-4765-4676-a874-c6d49d384381"
      },
      "outputs": [
        {
          "name": "stdout",
          "output_type": "stream",
          "text": [
            "not done21\n",
            "not done22\n",
            "not done34\n",
            "not done37\n",
            "not done97\n"
          ]
        }
      ],
      "source": [
        "Image_study_train=[]\n",
        "Image_study_test=[]\n",
        "\n",
        "for i in range(102):\n",
        "   img=traits[\"photo\"][i]\n",
        "   try:\n",
        "    image_path='/content/drive/MyDrive/image/final segmented image/'+img\n",
        "    image_r=cv2.imread(image_path)\n",
        "    image=cv2.resize(image_r,(224,224))\n",
        "\n",
        "    if i%5==0:\n",
        "      Class=traits[\"study\"][i]\n",
        "      Image_study_test.append([image,Class])\n",
        "    else:\n",
        "      Class=traits[\"study\"][i]\n",
        "      Image_study_train.append([image,Class])\n",
        "   except:\n",
        "    print(\"not done\"+str(i))"
      ]
    },
    {
      "cell_type": "code",
      "execution_count": null,
      "metadata": {
        "id": "W7ivfMOA50di"
      },
      "outputs": [],
      "source": [
        "random.shuffle(Image_study_train)\n",
        "random.shuffle(Image_study_test)\n",
        "X_train_study=[]\n",
        "Y_train_study=[]\n",
        "X_test_study=[]\n",
        "Y_test_study=[]\n",
        "for x,y in Image_study_train:\n",
        "  X_train_study.append(x)\n",
        "  Y_train_study.append(y)\n",
        "for x,y in Image_study_test:\n",
        "  X_test_study.append(x)\n",
        "  Y_test_study.append(y)"
      ]
    },
    {
      "cell_type": "code",
      "execution_count": null,
      "metadata": {
        "id": "7BQUOqmM50go"
      },
      "outputs": [],
      "source": [
        "X_train_study=np.array(X_train_study).reshape(-1,224,224,3)\n",
        "X_test_study=np.array(X_test_study).reshape(-1,224,224,3)\n",
        "X_train_study=X_train_study/255.0\n",
        "X_test_study=X_test_study/255.0\n",
        "Y_train_study=np.array(Y_train_study)\n",
        "Y_test_study=np.array(Y_test_study)"
      ]
    },
    {
      "cell_type": "code",
      "execution_count": null,
      "metadata": {
        "colab": {
          "base_uri": "https://localhost:8080/"
        },
        "id": "tqFzfn6y50oB",
        "outputId": "7ec57a76-8167-48dd-f656-481033063319"
      },
      "outputs": [
        {
          "name": "stdout",
          "output_type": "stream",
          "text": [
            "Model: \"sequential_6\"\n",
            "_________________________________________________________________\n",
            " Layer (type)                Output Shape              Param #   \n",
            "=================================================================\n",
            " conv2d_18 (Conv2D)          (None, 222, 222, 32)      896       \n",
            "                                                                 \n",
            " max_pooling2d_18 (MaxPoolin  (None, 111, 111, 32)     0         \n",
            " g2D)                                                            \n",
            "                                                                 \n",
            " conv2d_19 (Conv2D)          (None, 109, 109, 32)      9248      \n",
            "                                                                 \n",
            " max_pooling2d_19 (MaxPoolin  (None, 54, 54, 32)       0         \n",
            " g2D)                                                            \n",
            "                                                                 \n",
            " flatten_6 (Flatten)         (None, 93312)             0         \n",
            "                                                                 \n",
            " dense_14 (Dense)            (None, 128)               11944064  \n",
            "                                                                 \n",
            " dense_15 (Dense)            (None, 4)                 516       \n",
            "                                                                 \n",
            "=================================================================\n",
            "Total params: 11,954,724\n",
            "Trainable params: 11,954,724\n",
            "Non-trainable params: 0\n",
            "_________________________________________________________________\n"
          ]
        }
      ],
      "source": [
        "CNN=models.Sequential([\n",
        "    layers.Conv2D(32,(3,3),activation='relu',input_shape=(224,224,3)),\n",
        "    layers.MaxPooling2D(2,2),\n",
        "    layers.Conv2D(32,(3,3),activation='relu'),\n",
        "    layers.MaxPooling2D(2,2),\n",
        "    layers.Flatten(),\n",
        "    layers.Dense(128,activation='relu'),\n",
        "    layers.Dense(4,activation='softmax')\n",
        "\n",
        "\n",
        "])\n",
        "CNN.summary()"
      ]
    },
    {
      "cell_type": "code",
      "execution_count": null,
      "metadata": {
        "id": "w44dnorP50rJ"
      },
      "outputs": [],
      "source": [
        "CNN.compile(loss=tf.keras.losses.SparseCategoricalCrossentropy(),optimizer='sgd',metrics=['accuracy'])"
      ]
    },
    {
      "cell_type": "code",
      "execution_count": null,
      "metadata": {
        "colab": {
          "base_uri": "https://localhost:8080/"
        },
        "id": "kW-KjWV550uI",
        "outputId": "60e6d431-744a-40ba-a925-668cb33bfbad"
      },
      "outputs": [
        {
          "name": "stdout",
          "output_type": "stream",
          "text": [
            "Epoch 1/10\n",
            "3/3 [==============================] - 5s 1s/step - loss: 1.2902 - accuracy: 0.5000\n",
            "Epoch 2/10\n",
            "3/3 [==============================] - 4s 1s/step - loss: 0.9853 - accuracy: 0.5395\n",
            "Epoch 3/10\n",
            "3/3 [==============================] - 4s 1s/step - loss: 0.9601 - accuracy: 0.5658\n",
            "Epoch 4/10\n",
            "3/3 [==============================] - 4s 1s/step - loss: 0.9464 - accuracy: 0.5263\n",
            "Epoch 5/10\n",
            "3/3 [==============================] - 4s 1s/step - loss: 0.9493 - accuracy: 0.5921\n",
            "Epoch 6/10\n",
            "3/3 [==============================] - 4s 1s/step - loss: 0.9248 - accuracy: 0.5526\n",
            "Epoch 7/10\n",
            "3/3 [==============================] - 4s 1s/step - loss: 0.9212 - accuracy: 0.5263\n",
            "Epoch 8/10\n",
            "3/3 [==============================] - 4s 1s/step - loss: 0.9006 - accuracy: 0.6184\n",
            "Epoch 9/10\n",
            "3/3 [==============================] - 4s 1s/step - loss: 0.9121 - accuracy: 0.4737\n",
            "Epoch 10/10\n",
            "3/3 [==============================] - 4s 1s/step - loss: 0.9840 - accuracy: 0.4737\n"
          ]
        },
        {
          "data": {
            "text/plain": [
              "<keras.callbacks.History at 0x7f81137fc670>"
            ]
          },
          "execution_count": 62,
          "metadata": {},
          "output_type": "execute_result"
        }
      ],
      "source": [
        "CNN.fit(X_train_study,Y_train_study,epochs=10)"
      ]
    },
    {
      "cell_type": "code",
      "execution_count": null,
      "metadata": {
        "colab": {
          "base_uri": "https://localhost:8080/"
        },
        "id": "20EwQhmF50xQ",
        "outputId": "d1e44355-010e-4913-c53a-13a759b03c63"
      },
      "outputs": [
        {
          "name": "stderr",
          "output_type": "stream",
          "text": [
            "WARNING:tensorflow:6 out of the last 6 calls to <function Model.make_test_function.<locals>.test_function at 0x7f811c92b5e0> triggered tf.function retracing. Tracing is expensive and the excessive number of tracings could be due to (1) creating @tf.function repeatedly in a loop, (2) passing tensors with different shapes, (3) passing Python objects instead of tensors. For (1), please define your @tf.function outside of the loop. For (2), @tf.function has reduce_retracing=True option that can avoid unnecessary retracing. For (3), please refer to https://www.tensorflow.org/guide/function#controlling_retracing and https://www.tensorflow.org/api_docs/python/tf/function for  more details.\n"
          ]
        },
        {
          "name": "stdout",
          "output_type": "stream",
          "text": [
            "1/1 [==============================] - 0s 461ms/step - loss: 1.3509 - accuracy: 0.4286\n"
          ]
        },
        {
          "data": {
            "text/plain": [
              "[1.3508836030960083, 0.4285714328289032]"
            ]
          },
          "execution_count": 63,
          "metadata": {},
          "output_type": "execute_result"
        }
      ],
      "source": [
        "CNN.evaluate(X_test_study,Y_test_study)"
      ]
    },
    {
      "cell_type": "markdown",
      "metadata": {
        "id": "XROlNAra8xfg"
      },
      "source": [
        "#skills column as a label (CNN)"
      ]
    },
    {
      "cell_type": "code",
      "execution_count": null,
      "metadata": {
        "colab": {
          "base_uri": "https://localhost:8080/"
        },
        "id": "wgPMBfNY9AUg",
        "outputId": "a5b47498-37eb-4454-ba9f-03a3c71068da"
      },
      "outputs": [
        {
          "name": "stdout",
          "output_type": "stream",
          "text": [
            "not done21\n",
            "not done22\n",
            "not done34\n",
            "not done37\n",
            "not done97\n"
          ]
        }
      ],
      "source": [
        "Image_skills_train=[]\n",
        "Image_skills_test=[]\n",
        "\n",
        "for i in range(102):\n",
        "   img=traits[\"photo\"][i]\n",
        "   try:\n",
        "    image_path='/content/drive/MyDrive/image/final segmented image/'+img\n",
        "    image_r=cv2.imread(image_path)\n",
        "    image=cv2.resize(image_r,(224,224))\n",
        "\n",
        "    if i%5==0:\n",
        "      Class=traits[\"skills\"][i]\n",
        "      Image_skills_test.append([image,Class])\n",
        "    else:\n",
        "      Class=traits[\"skills\"][i]\n",
        "      Image_skills_train.append([image,Class])\n",
        "   except:\n",
        "    print(\"not done\"+str(i))"
      ]
    },
    {
      "cell_type": "code",
      "execution_count": null,
      "metadata": {
        "id": "La4jFRxw9An3"
      },
      "outputs": [],
      "source": [
        "random.shuffle(Image_skills_train)\n",
        "random.shuffle(Image_skills_test)\n",
        "X_train_skills=[]\n",
        "Y_train_skills=[]\n",
        "X_test_skills=[]\n",
        "Y_test_skills=[]\n",
        "for x,y in Image_skills_train:\n",
        "  X_train_skills.append(x)\n",
        "  Y_train_skills.append(y)\n",
        "for x,y in Image_skills_test:\n",
        "  X_test_skills.append(x)\n",
        "  Y_test_skills.append(y)"
      ]
    },
    {
      "cell_type": "code",
      "execution_count": null,
      "metadata": {
        "id": "CUdRcShr9AvA"
      },
      "outputs": [],
      "source": [
        "X_train_skills=np.array(X_train_skills).reshape(-1,224,224,3)\n",
        "X_test_skills=np.array(X_test_skills).reshape(-1,224,224,3)\n",
        "X_train_skills=X_train_skills/255.0\n",
        "X_test_skills=X_test_skills/255.0\n",
        "Y_train_skills=np.array(Y_train_skills)\n",
        "Y_test_skills=np.array(Y_test_skills)"
      ]
    },
    {
      "cell_type": "code",
      "execution_count": null,
      "metadata": {
        "colab": {
          "base_uri": "https://localhost:8080/"
        },
        "id": "Xlaxy-rd9AyP",
        "outputId": "68ab4039-b481-4f23-b51c-e5cfd8b467fd"
      },
      "outputs": [
        {
          "name": "stdout",
          "output_type": "stream",
          "text": [
            "Model: \"sequential_7\"\n",
            "_________________________________________________________________\n",
            " Layer (type)                Output Shape              Param #   \n",
            "=================================================================\n",
            " conv2d_20 (Conv2D)          (None, 222, 222, 64)      1792      \n",
            "                                                                 \n",
            " max_pooling2d_20 (MaxPoolin  (None, 111, 111, 64)     0         \n",
            " g2D)                                                            \n",
            "                                                                 \n",
            " conv2d_21 (Conv2D)          (None, 109, 109, 32)      18464     \n",
            "                                                                 \n",
            " max_pooling2d_21 (MaxPoolin  (None, 54, 54, 32)       0         \n",
            " g2D)                                                            \n",
            "                                                                 \n",
            " conv2d_22 (Conv2D)          (None, 52, 52, 16)        4624      \n",
            "                                                                 \n",
            " max_pooling2d_22 (MaxPoolin  (None, 26, 26, 16)       0         \n",
            " g2D)                                                            \n",
            "                                                                 \n",
            " conv2d_23 (Conv2D)          (None, 24, 24, 16)        2320      \n",
            "                                                                 \n",
            " max_pooling2d_23 (MaxPoolin  (None, 12, 12, 16)       0         \n",
            " g2D)                                                            \n",
            "                                                                 \n",
            " conv2d_24 (Conv2D)          (None, 10, 10, 8)         1160      \n",
            "                                                                 \n",
            " max_pooling2d_24 (MaxPoolin  (None, 5, 5, 8)          0         \n",
            " g2D)                                                            \n",
            "                                                                 \n",
            " flatten_7 (Flatten)         (None, 200)               0         \n",
            "                                                                 \n",
            " dense_16 (Dense)            (None, 128)               25728     \n",
            "                                                                 \n",
            " dense_17 (Dense)            (None, 4)                 516       \n",
            "                                                                 \n",
            "=================================================================\n",
            "Total params: 54,604\n",
            "Trainable params: 54,604\n",
            "Non-trainable params: 0\n",
            "_________________________________________________________________\n"
          ]
        }
      ],
      "source": [
        "CNN=models.Sequential([\n",
        "    layers.Conv2D(64,(3,3),activation='relu',input_shape=(224,224,3)),\n",
        "    layers.MaxPooling2D(2,2),\n",
        "    layers.Conv2D(32,(3,3),activation='relu'),\n",
        "    layers.MaxPooling2D(2,2),\n",
        "    layers.Conv2D(16,(3,3),activation='relu'),\n",
        "    layers.MaxPooling2D(2,2),\n",
        "     layers.Conv2D(16,(3,3),activation='relu'),\n",
        "    layers.MaxPooling2D(2,2),\n",
        "     layers.Conv2D(8,(3,3),activation='relu'),\n",
        "    layers.MaxPooling2D(2,2),\n",
        "    layers.Flatten(),\n",
        "    layers.Dense(128,activation='relu'),\n",
        "    layers.Dense(4,activation='softmax')\n",
        "\n",
        "\n",
        "])\n",
        "CNN.summary()\n",
        "#"
      ]
    },
    {
      "cell_type": "code",
      "execution_count": null,
      "metadata": {
        "id": "8zIA2D7a9A02"
      },
      "outputs": [],
      "source": [
        "CNN.compile(loss=tf.keras.losses.SparseCategoricalCrossentropy(),optimizer='sgd',metrics=['accuracy'])"
      ]
    },
    {
      "cell_type": "code",
      "execution_count": null,
      "metadata": {
        "colab": {
          "base_uri": "https://localhost:8080/"
        },
        "id": "tcpnqSJd9A3p",
        "outputId": "752c7a39-1b9a-49cf-b01b-14acc03c1f83"
      },
      "outputs": [
        {
          "name": "stdout",
          "output_type": "stream",
          "text": [
            "Epoch 1/10\n",
            "3/3 [==============================] - 9s 2s/step - loss: 1.3998 - accuracy: 0.1711\n",
            "Epoch 2/10\n",
            "3/3 [==============================] - 8s 2s/step - loss: 1.3780 - accuracy: 0.4737\n",
            "Epoch 3/10\n",
            "3/3 [==============================] - 8s 2s/step - loss: 1.3668 - accuracy: 0.4737\n",
            "Epoch 4/10\n",
            "3/3 [==============================] - 8s 2s/step - loss: 1.3568 - accuracy: 0.4737\n",
            "Epoch 5/10\n",
            "3/3 [==============================] - 8s 2s/step - loss: 1.3488 - accuracy: 0.4737\n",
            "Epoch 6/10\n",
            "3/3 [==============================] - 8s 2s/step - loss: 1.3403 - accuracy: 0.4737\n",
            "Epoch 7/10\n",
            "3/3 [==============================] - 8s 2s/step - loss: 1.3317 - accuracy: 0.4737\n",
            "Epoch 8/10\n",
            "3/3 [==============================] - 8s 2s/step - loss: 1.3220 - accuracy: 0.4737\n",
            "Epoch 9/10\n",
            "3/3 [==============================] - 9s 3s/step - loss: 1.3140 - accuracy: 0.4737\n",
            "Epoch 10/10\n",
            "3/3 [==============================] - 8s 2s/step - loss: 1.3042 - accuracy: 0.4737\n"
          ]
        },
        {
          "data": {
            "text/plain": [
              "<keras.callbacks.History at 0x7f8112f921c0>"
            ]
          },
          "execution_count": 69,
          "metadata": {},
          "output_type": "execute_result"
        }
      ],
      "source": [
        "CNN.fit(X_train_skills,Y_train_skills,epochs=10)"
      ]
    },
    {
      "cell_type": "code",
      "execution_count": null,
      "metadata": {
        "colab": {
          "base_uri": "https://localhost:8080/"
        },
        "id": "UO-aGmDI9A63",
        "outputId": "9bc926d7-c10b-4a24-bcd6-223251447d2b"
      },
      "outputs": [
        {
          "name": "stdout",
          "output_type": "stream",
          "text": [
            "1/1 [==============================] - 1s 666ms/step - loss: 1.2118 - accuracy: 0.7143\n"
          ]
        },
        {
          "data": {
            "text/plain": [
              "[1.2117818593978882, 0.7142857313156128]"
            ]
          },
          "execution_count": 70,
          "metadata": {},
          "output_type": "execute_result"
        }
      ],
      "source": [
        "CNN.evaluate(X_test_skills,Y_test_skills)"
      ]
    },
    {
      "cell_type": "markdown",
      "metadata": {
        "id": "9RrIYIqEAEuX"
      },
      "source": [
        "#puntuality column as a label (CNN)"
      ]
    },
    {
      "cell_type": "code",
      "execution_count": null,
      "metadata": {
        "colab": {
          "base_uri": "https://localhost:8080/"
        },
        "id": "5mPoOgXJAI6-",
        "outputId": "9e8f601d-d588-466e-ecc0-ad0451ded4d2"
      },
      "outputs": [
        {
          "name": "stdout",
          "output_type": "stream",
          "text": [
            "not done21\n",
            "not done22\n",
            "not done34\n",
            "not done37\n",
            "not done97\n"
          ]
        }
      ],
      "source": [
        "Image_punctuality_train=[]\n",
        "Image_punctuality_test=[]\n",
        "\n",
        "for i in range(102):\n",
        "   img=traits[\"photo\"][i]\n",
        "   try:\n",
        "    image_path='/content/drive/MyDrive/image/final segmented image/'+img\n",
        "    image_r=cv2.imread(image_path)\n",
        "    image=cv2.resize(image_r,(224,224))\n",
        "\n",
        "    if i%5==0:\n",
        "      Class=traits[\"punctuality\"][i]\n",
        "      Image_punctuality_test.append([image,Class])\n",
        "    else:\n",
        "      Class=traits[\"punctuality\"][i]\n",
        "      Image_punctuality_train.append([image,Class])\n",
        "   except:\n",
        "    print(\"not done\"+str(i))"
      ]
    },
    {
      "cell_type": "code",
      "execution_count": null,
      "metadata": {
        "id": "mN6MNhorAJcv"
      },
      "outputs": [],
      "source": [
        "random.shuffle(Image_punctuality_train)\n",
        "random.shuffle(Image_punctuality_test)\n",
        "X_train_punctuality=[]\n",
        "Y_train_punctuality=[]\n",
        "X_test_punctuality=[]\n",
        "Y_test_punctuality=[]\n",
        "for x,y in Image_punctuality_train:\n",
        "  X_train_punctuality.append(x)\n",
        "  Y_train_punctuality.append(y)\n",
        "for x,y in Image_punctuality_test:\n",
        "  X_test_punctuality.append(x)\n",
        "  Y_test_punctuality.append(y)"
      ]
    },
    {
      "cell_type": "code",
      "execution_count": null,
      "metadata": {
        "id": "5_kuAdT0AJgG"
      },
      "outputs": [],
      "source": [
        "X_train_punctuality=np.array(X_train_punctuality).reshape(-1,224,224,3)\n",
        "X_test_punctuality=np.array(X_test_punctuality).reshape(-1,224,224,3)\n",
        "X_train_punctuality=X_train_punctuality/255.0\n",
        "X_test_punctuality=X_test_punctuality/255.0\n",
        "Y_train_punctuality=np.array(Y_train_punctuality)\n",
        "Y_test_punctuality=np.array(Y_test_punctuality)"
      ]
    },
    {
      "cell_type": "code",
      "execution_count": null,
      "metadata": {
        "colab": {
          "base_uri": "https://localhost:8080/"
        },
        "id": "EfaUxCtyAJje",
        "outputId": "951ac17b-c8d3-48fa-c936-7bcf8eb32242"
      },
      "outputs": [
        {
          "name": "stdout",
          "output_type": "stream",
          "text": [
            "Model: \"sequential_8\"\n",
            "_________________________________________________________________\n",
            " Layer (type)                Output Shape              Param #   \n",
            "=================================================================\n",
            " conv2d_25 (Conv2D)          (None, 222, 222, 64)      1792      \n",
            "                                                                 \n",
            " max_pooling2d_25 (MaxPoolin  (None, 111, 111, 64)     0         \n",
            " g2D)                                                            \n",
            "                                                                 \n",
            " conv2d_26 (Conv2D)          (None, 109, 109, 32)      18464     \n",
            "                                                                 \n",
            " max_pooling2d_26 (MaxPoolin  (None, 54, 54, 32)       0         \n",
            " g2D)                                                            \n",
            "                                                                 \n",
            " conv2d_27 (Conv2D)          (None, 52, 52, 16)        4624      \n",
            "                                                                 \n",
            " max_pooling2d_27 (MaxPoolin  (None, 26, 26, 16)       0         \n",
            " g2D)                                                            \n",
            "                                                                 \n",
            " conv2d_28 (Conv2D)          (None, 24, 24, 16)        2320      \n",
            "                                                                 \n",
            " max_pooling2d_28 (MaxPoolin  (None, 12, 12, 16)       0         \n",
            " g2D)                                                            \n",
            "                                                                 \n",
            " conv2d_29 (Conv2D)          (None, 10, 10, 8)         1160      \n",
            "                                                                 \n",
            " max_pooling2d_29 (MaxPoolin  (None, 5, 5, 8)          0         \n",
            " g2D)                                                            \n",
            "                                                                 \n",
            " flatten_8 (Flatten)         (None, 200)               0         \n",
            "                                                                 \n",
            " dense_18 (Dense)            (None, 128)               25728     \n",
            "                                                                 \n",
            " dense_19 (Dense)            (None, 10)                1290      \n",
            "                                                                 \n",
            "=================================================================\n",
            "Total params: 55,378\n",
            "Trainable params: 55,378\n",
            "Non-trainable params: 0\n",
            "_________________________________________________________________\n"
          ]
        }
      ],
      "source": [
        "CNN=models.Sequential([\n",
        "    layers.Conv2D(64,(3,3),activation='relu',input_shape=(224,224,3)),\n",
        "    layers.MaxPooling2D(2,2),\n",
        "    layers.Conv2D(32,(3,3),activation='relu'),\n",
        "    layers.MaxPooling2D(2,2),\n",
        "    layers.Conv2D(16,(3,3),activation='relu'),\n",
        "    layers.MaxPooling2D(2,2),\n",
        "     layers.Conv2D(16,(3,3),activation='relu'),\n",
        "    layers.MaxPooling2D(2,2),\n",
        "     layers.Conv2D(8,(3,3),activation='relu'),\n",
        "    layers.MaxPooling2D(2,2),\n",
        "    layers.Flatten(),\n",
        "    layers.Dense(128,activation='relu'),\n",
        "    layers.Dense(10,activation='softmax')\n",
        "\n",
        "\n",
        "])\n",
        "CNN.summary()\n",
        "#"
      ]
    },
    {
      "cell_type": "code",
      "execution_count": null,
      "metadata": {
        "id": "q91H8tldAJp3"
      },
      "outputs": [],
      "source": [
        "CNN.compile(loss=tf.keras.losses.Poisson(),optimizer='adam',metrics=['accuracy'])"
      ]
    },
    {
      "cell_type": "code",
      "execution_count": null,
      "metadata": {
        "colab": {
          "base_uri": "https://localhost:8080/"
        },
        "id": "vkaheUIgAJvp",
        "outputId": "d406b4c7-2d2e-4203-cd2b-d64b492610be"
      },
      "outputs": [
        {
          "name": "stdout",
          "output_type": "stream",
          "text": [
            "Epoch 1/10\n",
            "3/3 [==============================] - 9s 2s/step - loss: 15.1711 - accuracy: 0.0526\n",
            "Epoch 2/10\n",
            "3/3 [==============================] - 8s 2s/step - loss: 15.1583 - accuracy: 0.0658\n",
            "Epoch 3/10\n",
            "3/3 [==============================] - 10s 2s/step - loss: 15.1580 - accuracy: 0.1316\n",
            "Epoch 4/10\n",
            "3/3 [==============================] - 8s 2s/step - loss: 15.1579 - accuracy: 0.1579\n",
            "Epoch 5/10\n",
            "3/3 [==============================] - 8s 2s/step - loss: 15.1578 - accuracy: 0.1974\n",
            "Epoch 6/10\n",
            "3/3 [==============================] - 8s 2s/step - loss: 15.1577 - accuracy: 0.1447\n",
            "Epoch 7/10\n",
            "3/3 [==============================] - 8s 2s/step - loss: 15.1577 - accuracy: 0.1316\n",
            "Epoch 8/10\n",
            "3/3 [==============================] - 8s 2s/step - loss: 15.1577 - accuracy: 0.0921\n",
            "Epoch 9/10\n",
            "3/3 [==============================] - 8s 2s/step - loss: 15.1577 - accuracy: 0.1711\n",
            "Epoch 10/10\n",
            "3/3 [==============================] - 8s 2s/step - loss: 15.1577 - accuracy: 0.0395\n"
          ]
        },
        {
          "data": {
            "text/plain": [
              "<keras.callbacks.History at 0x7f8112d4bc10>"
            ]
          },
          "execution_count": 76,
          "metadata": {},
          "output_type": "execute_result"
        }
      ],
      "source": [
        "CNN.fit(X_train_punctuality,Y_train_punctuality,epochs=10)"
      ]
    },
    {
      "cell_type": "code",
      "execution_count": null,
      "metadata": {
        "colab": {
          "base_uri": "https://localhost:8080/"
        },
        "id": "xjGxAJ9QAX2A",
        "outputId": "1ff9c41d-eb51-4a8e-eea8-21eabf05749d"
      },
      "outputs": [
        {
          "name": "stdout",
          "output_type": "stream",
          "text": [
            "1/1 [==============================] - 1s 672ms/step - loss: 14.9023 - accuracy: 0.0476\n"
          ]
        },
        {
          "data": {
            "text/plain": [
              "[14.902336120605469, 0.0476190485060215]"
            ]
          },
          "execution_count": 77,
          "metadata": {},
          "output_type": "execute_result"
        }
      ],
      "source": [
        "CNN.evaluate(X_test_punctuality,Y_test_punctuality)"
      ]
    },
    {
      "cell_type": "markdown",
      "metadata": {
        "id": "npRuWkllBoZw"
      },
      "source": [
        "#comunication skills column as a label (CNN)"
      ]
    },
    {
      "cell_type": "code",
      "execution_count": null,
      "metadata": {
        "colab": {
          "base_uri": "https://localhost:8080/"
        },
        "id": "ngg1UMhHDruH",
        "outputId": "69ea05de-1861-4a6f-8433-b9d02f7bbde7"
      },
      "outputs": [
        {
          "name": "stdout",
          "output_type": "stream",
          "text": [
            "not done21\n",
            "not done22\n",
            "not done34\n",
            "not done37\n",
            "not done97\n"
          ]
        }
      ],
      "source": [
        "Image_Cskills_train=[]\n",
        "Image_Cskills_test=[]\n",
        "\n",
        "for i in range(102):\n",
        "   img=traits[\"photo\"][i]\n",
        "   try:\n",
        "    image_path='/content/drive/MyDrive/image/final segmented image/'+img\n",
        "    image_r=cv2.imread(image_path)\n",
        "    image=cv2.resize(image_r,(224,224))\n",
        "\n",
        "    if i%5==0:\n",
        "      Class=traits[\"communication skills\"][i]\n",
        "      Image_Cskills_test.append([image,Class])\n",
        "    else:\n",
        "      Class=traits[\"communication skills\"][i]\n",
        "      Image_Cskills_train.append([image,Class])\n",
        "   except:\n",
        "    print(\"not done\"+str(i))"
      ]
    },
    {
      "cell_type": "code",
      "execution_count": null,
      "metadata": {
        "id": "rlYfAienDr3Q"
      },
      "outputs": [],
      "source": [
        "random.shuffle(Image_Cskills_train)\n",
        "random.shuffle(Image_Cskills_test)\n",
        "X_train_Cskills=[]\n",
        "Y_train_Cskills=[]\n",
        "X_test_Cskills=[]\n",
        "Y_test_Cskills=[]\n",
        "for x,y in Image_Cskills_train:\n",
        "  X_train_Cskills.append(x)\n",
        "  Y_train_Cskills.append(y)\n",
        "for x,y in Image_Cskills_test:\n",
        "  X_test_Cskills.append(x)\n",
        "  Y_test_Cskills.append(y)"
      ]
    },
    {
      "cell_type": "code",
      "execution_count": null,
      "metadata": {
        "id": "LsNrrSr-Dr6O"
      },
      "outputs": [],
      "source": [
        "X_train_Cskills=np.array(X_train_Cskills).reshape(-1,224,224,3)\n",
        "X_test_Cskills=np.array(X_test_Cskills).reshape(-1,224,224,3)\n",
        "X_train_Cskills=X_train_Cskills/255.0\n",
        "X_test_Cskills=X_test_Cskills/255.0\n",
        "Y_train_Cskills=np.array(Y_train_Cskills)\n",
        "Y_test_Cskills=np.array(Y_test_Cskills)"
      ]
    },
    {
      "cell_type": "code",
      "execution_count": null,
      "metadata": {
        "colab": {
          "base_uri": "https://localhost:8080/"
        },
        "id": "4p0WFX5_Dr9Q",
        "outputId": "ba81869d-910b-409a-8f64-639186a78492"
      },
      "outputs": [
        {
          "name": "stdout",
          "output_type": "stream",
          "text": [
            "Model: \"sequential_9\"\n",
            "_________________________________________________________________\n",
            " Layer (type)                Output Shape              Param #   \n",
            "=================================================================\n",
            " conv2d_30 (Conv2D)          (None, 222, 222, 64)      1792      \n",
            "                                                                 \n",
            " max_pooling2d_30 (MaxPoolin  (None, 111, 111, 64)     0         \n",
            " g2D)                                                            \n",
            "                                                                 \n",
            " conv2d_31 (Conv2D)          (None, 109, 109, 32)      18464     \n",
            "                                                                 \n",
            " max_pooling2d_31 (MaxPoolin  (None, 54, 54, 32)       0         \n",
            " g2D)                                                            \n",
            "                                                                 \n",
            " conv2d_32 (Conv2D)          (None, 52, 52, 16)        4624      \n",
            "                                                                 \n",
            " max_pooling2d_32 (MaxPoolin  (None, 26, 26, 16)       0         \n",
            " g2D)                                                            \n",
            "                                                                 \n",
            " conv2d_33 (Conv2D)          (None, 24, 24, 16)        2320      \n",
            "                                                                 \n",
            " max_pooling2d_33 (MaxPoolin  (None, 12, 12, 16)       0         \n",
            " g2D)                                                            \n",
            "                                                                 \n",
            " conv2d_34 (Conv2D)          (None, 10, 10, 8)         1160      \n",
            "                                                                 \n",
            " max_pooling2d_34 (MaxPoolin  (None, 5, 5, 8)          0         \n",
            " g2D)                                                            \n",
            "                                                                 \n",
            " flatten_9 (Flatten)         (None, 200)               0         \n",
            "                                                                 \n",
            " dense_20 (Dense)            (None, 128)               25728     \n",
            "                                                                 \n",
            " dense_21 (Dense)            (None, 10)                1290      \n",
            "                                                                 \n",
            "=================================================================\n",
            "Total params: 55,378\n",
            "Trainable params: 55,378\n",
            "Non-trainable params: 0\n",
            "_________________________________________________________________\n"
          ]
        }
      ],
      "source": [
        "CNN=models.Sequential([\n",
        "    layers.Conv2D(64,(3,3),activation='relu',input_shape=(224,224,3)),\n",
        "    layers.MaxPooling2D(2,2),\n",
        "    layers.Conv2D(32,(3,3),activation='relu'),\n",
        "    layers.MaxPooling2D(2,2),\n",
        "    layers.Conv2D(16,(3,3),activation='relu'),\n",
        "    layers.MaxPooling2D(2,2),\n",
        "     layers.Conv2D(16,(3,3),activation='relu'),\n",
        "    layers.MaxPooling2D(2,2),\n",
        "     layers.Conv2D(8,(3,3),activation='relu'),\n",
        "    layers.MaxPooling2D(2,2),\n",
        "    layers.Flatten(),\n",
        "    layers.Dense(128,activation='relu'),\n",
        "    layers.Dense(10,activation='softmax')\n",
        "\n",
        "\n",
        "])\n",
        "CNN.summary()"
      ]
    },
    {
      "cell_type": "code",
      "execution_count": null,
      "metadata": {
        "id": "jYLf9DwmDr_t"
      },
      "outputs": [],
      "source": [
        "CNN.compile(loss=tf.keras.losses.Poisson(),optimizer='adam',metrics=['accuracy'])"
      ]
    },
    {
      "cell_type": "code",
      "execution_count": null,
      "metadata": {
        "colab": {
          "base_uri": "https://localhost:8080/"
        },
        "id": "jM-D_ZVFDsCw",
        "outputId": "d9203881-a6a0-4501-cb91-aec7b64ea9e4"
      },
      "outputs": [
        {
          "name": "stdout",
          "output_type": "stream",
          "text": [
            "Epoch 1/10\n",
            "3/3 [==============================] - 9s 2s/step - loss: 15.9775 - accuracy: 0.0526\n",
            "Epoch 2/10\n",
            "3/3 [==============================] - 8s 2s/step - loss: 15.9758 - accuracy: 0.1053\n",
            "Epoch 3/10\n",
            "3/3 [==============================] - 8s 2s/step - loss: 15.9758 - accuracy: 0.1184\n",
            "Epoch 4/10\n",
            "3/3 [==============================] - 8s 2s/step - loss: 15.9758 - accuracy: 0.0395\n",
            "Epoch 5/10\n",
            "3/3 [==============================] - 8s 2s/step - loss: 15.9757 - accuracy: 0.0132\n",
            "Epoch 6/10\n",
            "3/3 [==============================] - 8s 2s/step - loss: 15.9757 - accuracy: 0.1053\n",
            "Epoch 7/10\n",
            "3/3 [==============================] - 8s 2s/step - loss: 15.9757 - accuracy: 0.1711\n",
            "Epoch 8/10\n",
            "3/3 [==============================] - 8s 2s/step - loss: 15.9757 - accuracy: 0.1184\n",
            "Epoch 9/10\n",
            "3/3 [==============================] - 10s 3s/step - loss: 15.9757 - accuracy: 0.1053\n",
            "Epoch 10/10\n",
            "3/3 [==============================] - 8s 2s/step - loss: 15.9757 - accuracy: 0.1447\n"
          ]
        },
        {
          "data": {
            "text/plain": [
              "<keras.callbacks.History at 0x7f811b848940>"
            ]
          },
          "execution_count": 83,
          "metadata": {},
          "output_type": "execute_result"
        }
      ],
      "source": [
        "CNN.fit(X_train_Cskills,Y_train_Cskills,epochs=10)"
      ]
    },
    {
      "cell_type": "code",
      "execution_count": null,
      "metadata": {
        "colab": {
          "base_uri": "https://localhost:8080/"
        },
        "id": "CZ3CxL_HDsq2",
        "outputId": "b125ae1a-bd3c-4111-cc99-79cb0d3da49a"
      },
      "outputs": [
        {
          "name": "stdout",
          "output_type": "stream",
          "text": [
            "1/1 [==============================] - 1s 714ms/step - loss: 12.2708 - accuracy: 0.0476\n"
          ]
        },
        {
          "data": {
            "text/plain": [
              "[12.270804405212402, 0.0476190485060215]"
            ]
          },
          "execution_count": 84,
          "metadata": {},
          "output_type": "execute_result"
        }
      ],
      "source": [
        "CNN.evaluate(X_test_Cskills,Y_test_Cskills)"
      ]
    },
    {
      "cell_type": "markdown",
      "metadata": {
        "id": "H_Be2XM3GPTf"
      },
      "source": [
        "#hangout column as a label (CNN)"
      ]
    },
    {
      "cell_type": "code",
      "execution_count": null,
      "metadata": {
        "colab": {
          "base_uri": "https://localhost:8080/"
        },
        "id": "H-pqISbAGVY3",
        "outputId": "ce6c3b4b-2818-4746-f339-8bb328481446"
      },
      "outputs": [
        {
          "name": "stdout",
          "output_type": "stream",
          "text": [
            "not done21\n",
            "not done22\n",
            "not done34\n",
            "not done37\n",
            "not done97\n"
          ]
        }
      ],
      "source": [
        "Image_hang_out_train=[]\n",
        "Image_hang_out_test=[]\n",
        "\n",
        "for i in range(102):\n",
        "   img=traits[\"photo\"][i]\n",
        "   try:\n",
        "    image_path='/content/drive/MyDrive/image/final segmented image/'+img\n",
        "    image_r=cv2.imread(image_path)\n",
        "    image=cv2.resize(image_r,(224,224))\n",
        "\n",
        "    if i%5==0:\n",
        "      Class=traits[\"hang out\"][i]\n",
        "      Image_hang_out_test.append([image,Class])\n",
        "    else:\n",
        "      Class=traits[\"hang out\"][i]\n",
        "      Image_hang_out_train.append([image,Class])\n",
        "   except:\n",
        "    print(\"not done\"+str(i))"
      ]
    },
    {
      "cell_type": "code",
      "execution_count": null,
      "metadata": {
        "id": "jrZPuHMYGVi-"
      },
      "outputs": [],
      "source": [
        "random.shuffle(Image_hang_out_train)\n",
        "random.shuffle(Image_hang_out_test)\n",
        "X_train_hang_out=[]\n",
        "Y_train_hang_out=[]\n",
        "X_test_hang_out=[]\n",
        "Y_test_hang_out=[]\n",
        "for x,y in Image_hang_out_train:\n",
        "  X_train_hang_out.append(x)\n",
        "  Y_train_hang_out.append(y)\n",
        "for x,y in Image_hang_out_test:\n",
        "  X_test_hang_out.append(x)\n",
        "  Y_test_hang_out.append(y)"
      ]
    },
    {
      "cell_type": "code",
      "execution_count": null,
      "metadata": {
        "id": "3VS8n5XvGVnF"
      },
      "outputs": [],
      "source": [
        "X_train_hang_out=np.array(X_train_hang_out).reshape(-1,224,224,3)\n",
        "X_test_hang_out=np.array(X_test_hang_out).reshape(-1,224,224,3)\n",
        "X_train_hang_out=X_train_hang_out/255.0\n",
        "X_test_hang_out=X_test_hang_out/255.0\n",
        "Y_train_hang_out=np.array(Y_train_hang_out)\n",
        "Y_test_hang_out=np.array(Y_test_hang_out)"
      ]
    },
    {
      "cell_type": "code",
      "execution_count": null,
      "metadata": {
        "colab": {
          "base_uri": "https://localhost:8080/"
        },
        "id": "CVlN-QDLGVrW",
        "outputId": "27a8126e-1da8-40d5-ea6f-05a5d84befbd"
      },
      "outputs": [
        {
          "name": "stdout",
          "output_type": "stream",
          "text": [
            "Model: \"sequential_10\"\n",
            "_________________________________________________________________\n",
            " Layer (type)                Output Shape              Param #   \n",
            "=================================================================\n",
            " conv2d_35 (Conv2D)          (None, 222, 222, 64)      1792      \n",
            "                                                                 \n",
            " max_pooling2d_35 (MaxPoolin  (None, 111, 111, 64)     0         \n",
            " g2D)                                                            \n",
            "                                                                 \n",
            " conv2d_36 (Conv2D)          (None, 109, 109, 32)      18464     \n",
            "                                                                 \n",
            " max_pooling2d_36 (MaxPoolin  (None, 54, 54, 32)       0         \n",
            " g2D)                                                            \n",
            "                                                                 \n",
            " conv2d_37 (Conv2D)          (None, 52, 52, 16)        4624      \n",
            "                                                                 \n",
            " max_pooling2d_37 (MaxPoolin  (None, 26, 26, 16)       0         \n",
            " g2D)                                                            \n",
            "                                                                 \n",
            " conv2d_38 (Conv2D)          (None, 24, 24, 16)        2320      \n",
            "                                                                 \n",
            " max_pooling2d_38 (MaxPoolin  (None, 12, 12, 16)       0         \n",
            " g2D)                                                            \n",
            "                                                                 \n",
            " conv2d_39 (Conv2D)          (None, 10, 10, 8)         1160      \n",
            "                                                                 \n",
            " max_pooling2d_39 (MaxPoolin  (None, 5, 5, 8)          0         \n",
            " g2D)                                                            \n",
            "                                                                 \n",
            " flatten_10 (Flatten)        (None, 200)               0         \n",
            "                                                                 \n",
            " dense_22 (Dense)            (None, 128)               25728     \n",
            "                                                                 \n",
            " dense_23 (Dense)            (None, 3)                 387       \n",
            "                                                                 \n",
            "=================================================================\n",
            "Total params: 54,475\n",
            "Trainable params: 54,475\n",
            "Non-trainable params: 0\n",
            "_________________________________________________________________\n"
          ]
        }
      ],
      "source": [
        "CNN=models.Sequential([\n",
        "    layers.Conv2D(64,(3,3),activation='relu',input_shape=(224,224,3)),\n",
        "    layers.MaxPooling2D(2,2),\n",
        "    layers.Conv2D(32,(3,3),activation='relu'),\n",
        "    layers.MaxPooling2D(2,2),\n",
        "    layers.Conv2D(16,(3,3),activation='relu'),\n",
        "    layers.MaxPooling2D(2,2),\n",
        "     layers.Conv2D(16,(3,3),activation='relu'),\n",
        "    layers.MaxPooling2D(2,2),\n",
        "     layers.Conv2D(8,(3,3),activation='relu'),\n",
        "    layers.MaxPooling2D(2,2),\n",
        "    layers.Flatten(),\n",
        "    layers.Dense(128,activation='relu'),\n",
        "    layers.Dense(3,activation='softmax')\n",
        "\n",
        "\n",
        "])\n",
        "CNN.summary()"
      ]
    },
    {
      "cell_type": "code",
      "execution_count": null,
      "metadata": {
        "id": "pm0ORbPuGVxd"
      },
      "outputs": [],
      "source": [
        "CNN.compile(loss=tf.keras.losses.Poisson(),optimizer='adam',metrics=['accuracy'])"
      ]
    },
    {
      "cell_type": "code",
      "execution_count": null,
      "metadata": {
        "colab": {
          "base_uri": "https://localhost:8080/"
        },
        "id": "2D7DI7SKGV9t",
        "outputId": "714258fa-9cbb-45cd-fb39-3722a5fdd489"
      },
      "outputs": [
        {
          "name": "stdout",
          "output_type": "stream",
          "text": [
            "Epoch 1/10\n",
            "3/3 [==============================] - 9s 2s/step - loss: 1.5198 - accuracy: 0.0395\n",
            "Epoch 2/10\n",
            "3/3 [==============================] - 8s 2s/step - loss: 1.5187 - accuracy: 0.6579\n",
            "Epoch 3/10\n",
            "3/3 [==============================] - 8s 2s/step - loss: 1.5187 - accuracy: 0.1316\n",
            "Epoch 4/10\n",
            "3/3 [==============================] - 8s 2s/step - loss: 1.5187 - accuracy: 0.4868\n",
            "Epoch 5/10\n",
            "3/3 [==============================] - 8s 2s/step - loss: 1.5187 - accuracy: 0.3684\n",
            "Epoch 6/10\n",
            "3/3 [==============================] - 8s 2s/step - loss: 1.5187 - accuracy: 0.0789\n",
            "Epoch 7/10\n",
            "3/3 [==============================] - 8s 2s/step - loss: 1.5187 - accuracy: 0.4474\n",
            "Epoch 8/10\n",
            "3/3 [==============================] - 8s 2s/step - loss: 1.5187 - accuracy: 0.4868\n",
            "Epoch 9/10\n",
            "3/3 [==============================] - 8s 2s/step - loss: 1.5187 - accuracy: 0.1842\n",
            "Epoch 10/10\n",
            "3/3 [==============================] - 8s 2s/step - loss: 1.5187 - accuracy: 0.1579\n"
          ]
        },
        {
          "data": {
            "text/plain": [
              "<keras.callbacks.History at 0x7f8112ab3dc0>"
            ]
          },
          "execution_count": 90,
          "metadata": {},
          "output_type": "execute_result"
        }
      ],
      "source": [
        "CNN.fit(X_train_hang_out,Y_train_hang_out,epochs=10)"
      ]
    },
    {
      "cell_type": "code",
      "execution_count": null,
      "metadata": {
        "colab": {
          "base_uri": "https://localhost:8080/"
        },
        "id": "LoLiw04dGWjN",
        "outputId": "ac53ff4c-1460-4cbe-d30e-12e47c44a716"
      },
      "outputs": [
        {
          "name": "stdout",
          "output_type": "stream",
          "text": [
            "1/1 [==============================] - 1s 676ms/step - loss: 1.7458 - accuracy: 0.3333\n"
          ]
        },
        {
          "data": {
            "text/plain": [
              "[1.7458394765853882, 0.3333333432674408]"
            ]
          },
          "execution_count": 91,
          "metadata": {},
          "output_type": "execute_result"
        }
      ],
      "source": [
        "CNN.evaluate(X_test_hang_out,Y_test_hang_out)"
      ]
    },
    {
      "cell_type": "markdown",
      "metadata": {
        "id": "1sZoM3mKLu-G"
      },
      "source": [
        "#hard work column as a label (CNN)"
      ]
    },
    {
      "cell_type": "code",
      "execution_count": null,
      "metadata": {
        "colab": {
          "base_uri": "https://localhost:8080/"
        },
        "id": "Pc_N024zL5ft",
        "outputId": "94af4624-db7a-484c-f16e-9daa76d6142e"
      },
      "outputs": [
        {
          "name": "stdout",
          "output_type": "stream",
          "text": [
            "not done21\n",
            "not done22\n",
            "not done34\n",
            "not done37\n",
            "not done97\n"
          ]
        }
      ],
      "source": [
        "Image_hard_worker_train=[]\n",
        "Image_hard_worker_test=[]\n",
        "\n",
        "for i in range(102):\n",
        "   img=traits[\"photo\"][i]\n",
        "   try:\n",
        "    image_path='/content/drive/MyDrive/image/final segmented image/'+img\n",
        "    image_r=cv2.imread(image_path)\n",
        "    image=cv2.resize(image_r,(224,224))\n",
        "\n",
        "    if i%5==0:\n",
        "      Class=traits[\"hard worker\"][i]\n",
        "      Image_hard_worker_test.append([image,Class])\n",
        "    else:\n",
        "      Class=traits[\"hard worker\"][i]\n",
        "      Image_hard_worker_train.append([image,Class])\n",
        "   except:\n",
        "    print(\"not done\"+str(i))"
      ]
    },
    {
      "cell_type": "code",
      "execution_count": null,
      "metadata": {
        "id": "83JY99QpL5ks"
      },
      "outputs": [],
      "source": [
        "random.shuffle(Image_hard_worker_train)\n",
        "random.shuffle(Image_hard_worker_test)\n",
        "X_train_hard_worker=[]\n",
        "Y_train_hard_worker=[]\n",
        "X_test_hard_worker=[]\n",
        "Y_test_hard_worker=[]\n",
        "for x,y in Image_hard_worker_train:\n",
        "  X_train_hard_worker.append(x)\n",
        "  Y_train_hard_worker.append(y)\n",
        "for x,y in Image_hard_worker_test:\n",
        "  X_test_hard_worker.append(x)\n",
        "  Y_test_hard_worker.append(y)"
      ]
    },
    {
      "cell_type": "code",
      "execution_count": null,
      "metadata": {
        "id": "TXFbNh-cL5om"
      },
      "outputs": [],
      "source": [
        "X_train_hard_worker=np.array(X_train_hard_worker).reshape(-1,224,224,3)\n",
        "X_test_hard_worker=np.array(X_test_hard_worker).reshape(-1,224,224,3)\n",
        "X_train_hard_worker=X_train_hard_worker/255.0\n",
        "X_test_hard_worker=X_test_hard_worker/255.0\n",
        "Y_train_hard_worker=np.array(Y_train_hard_worker)\n",
        "Y_test_hard_worker=np.array(Y_test_hard_worker)"
      ]
    },
    {
      "cell_type": "code",
      "execution_count": null,
      "metadata": {
        "colab": {
          "base_uri": "https://localhost:8080/"
        },
        "id": "PmoD-RvXL5s8",
        "outputId": "52244a45-d5a3-44e9-a4e8-8e7182504159"
      },
      "outputs": [
        {
          "name": "stdout",
          "output_type": "stream",
          "text": [
            "Model: \"sequential_11\"\n",
            "_________________________________________________________________\n",
            " Layer (type)                Output Shape              Param #   \n",
            "=================================================================\n",
            " conv2d_40 (Conv2D)          (None, 222, 222, 64)      1792      \n",
            "                                                                 \n",
            " max_pooling2d_40 (MaxPoolin  (None, 111, 111, 64)     0         \n",
            " g2D)                                                            \n",
            "                                                                 \n",
            " conv2d_41 (Conv2D)          (None, 109, 109, 32)      18464     \n",
            "                                                                 \n",
            " max_pooling2d_41 (MaxPoolin  (None, 54, 54, 32)       0         \n",
            " g2D)                                                            \n",
            "                                                                 \n",
            " conv2d_42 (Conv2D)          (None, 52, 52, 16)        4624      \n",
            "                                                                 \n",
            " max_pooling2d_42 (MaxPoolin  (None, 26, 26, 16)       0         \n",
            " g2D)                                                            \n",
            "                                                                 \n",
            " conv2d_43 (Conv2D)          (None, 24, 24, 16)        2320      \n",
            "                                                                 \n",
            " max_pooling2d_43 (MaxPoolin  (None, 12, 12, 16)       0         \n",
            " g2D)                                                            \n",
            "                                                                 \n",
            " conv2d_44 (Conv2D)          (None, 10, 10, 8)         1160      \n",
            "                                                                 \n",
            " max_pooling2d_44 (MaxPoolin  (None, 5, 5, 8)          0         \n",
            " g2D)                                                            \n",
            "                                                                 \n",
            " flatten_11 (Flatten)        (None, 200)               0         \n",
            "                                                                 \n",
            " dense_24 (Dense)            (None, 64)                12864     \n",
            "                                                                 \n",
            " dense_25 (Dense)            (None, 32)                2080      \n",
            "                                                                 \n",
            " dense_26 (Dense)            (None, 1)                 33        \n",
            "                                                                 \n",
            "=================================================================\n",
            "Total params: 43,337\n",
            "Trainable params: 43,337\n",
            "Non-trainable params: 0\n",
            "_________________________________________________________________\n"
          ]
        }
      ],
      "source": [
        "CNN=models.Sequential([\n",
        "    layers.Conv2D(64,(3,3),activation='relu',input_shape=(224,224,3)),\n",
        "    layers.MaxPooling2D(2,2),\n",
        "    layers.Conv2D(32,(3,3),activation='relu'),\n",
        "    layers.MaxPooling2D(2,2),\n",
        "    layers.Conv2D(16,(3,3),activation='relu'),\n",
        "    layers.MaxPooling2D(2,2),\n",
        "     layers.Conv2D(16,(3,3),activation='relu'),\n",
        "    layers.MaxPooling2D(2,2),\n",
        "     layers.Conv2D(8,(3,3),activation='relu'),\n",
        "    layers.MaxPooling2D(2,2),\n",
        "    layers.Flatten(),\n",
        "    layers.Dense(64,activation='relu'),\n",
        "    layers.Dense(32,activation='relu'),\n",
        "    layers.Dense(1,activation='sigmoid')\n",
        "\n",
        "\n",
        "])\n",
        "CNN.summary()"
      ]
    },
    {
      "cell_type": "code",
      "execution_count": null,
      "metadata": {
        "id": "0CkJ_EiLL5yJ"
      },
      "outputs": [],
      "source": [
        "CNN.compile(loss='binary_crossentropy',optimizer='adam',metrics=['accuracy'])"
      ]
    },
    {
      "cell_type": "code",
      "execution_count": null,
      "metadata": {
        "colab": {
          "base_uri": "https://localhost:8080/"
        },
        "id": "vEf7UK2lL539",
        "outputId": "cc25c992-e5fa-44fd-d154-3b5e06059f55"
      },
      "outputs": [
        {
          "name": "stdout",
          "output_type": "stream",
          "text": [
            "Epoch 1/10\n",
            "3/3 [==============================] - 9s 2s/step - loss: 0.7108 - accuracy: 0.4868\n",
            "Epoch 2/10\n",
            "3/3 [==============================] - 8s 2s/step - loss: 0.7009 - accuracy: 0.4868\n",
            "Epoch 3/10\n",
            "3/3 [==============================] - 8s 2s/step - loss: 0.6961 - accuracy: 0.4737\n",
            "Epoch 4/10\n",
            "3/3 [==============================] - 10s 3s/step - loss: 0.6921 - accuracy: 0.5526\n",
            "Epoch 5/10\n",
            "3/3 [==============================] - 8s 2s/step - loss: 0.6943 - accuracy: 0.5000\n",
            "Epoch 6/10\n",
            "3/3 [==============================] - 8s 2s/step - loss: 0.6903 - accuracy: 0.5395\n",
            "Epoch 7/10\n",
            "3/3 [==============================] - 8s 2s/step - loss: 0.6916 - accuracy: 0.5132\n",
            "Epoch 8/10\n",
            "3/3 [==============================] - 8s 2s/step - loss: 0.6940 - accuracy: 0.5132\n",
            "Epoch 9/10\n",
            "3/3 [==============================] - 8s 2s/step - loss: 0.6922 - accuracy: 0.5132\n",
            "Epoch 10/10\n",
            "3/3 [==============================] - 8s 2s/step - loss: 0.6849 - accuracy: 0.5132\n"
          ]
        },
        {
          "data": {
            "text/plain": [
              "<keras.callbacks.History at 0x7f811297a760>"
            ]
          },
          "execution_count": 97,
          "metadata": {},
          "output_type": "execute_result"
        }
      ],
      "source": [
        "CNN.fit(X_train_hard_worker,Y_train_hard_worker,epochs=10)"
      ]
    },
    {
      "cell_type": "code",
      "execution_count": null,
      "metadata": {
        "colab": {
          "base_uri": "https://localhost:8080/"
        },
        "id": "9onRrXrtL6B0",
        "outputId": "91ad4cb1-6d5f-45f6-9a23-0b1917243356"
      },
      "outputs": [
        {
          "name": "stdout",
          "output_type": "stream",
          "text": [
            "1/1 [==============================] - 1s 719ms/step - loss: 0.6908 - accuracy: 0.4762\n"
          ]
        },
        {
          "data": {
            "text/plain": [
              "[0.6907970905303955, 0.4761904776096344]"
            ]
          },
          "execution_count": 98,
          "metadata": {},
          "output_type": "execute_result"
        }
      ],
      "source": [
        "CNN.evaluate(X_test_hard_worker,Y_test_hard_worker)"
      ]
    },
    {
      "cell_type": "markdown",
      "metadata": {
        "id": "e0VsIc9IM8GO"
      },
      "source": [
        "#social midia column as a label (CNN)\n",
        "\n",
        "\n",
        "\n"
      ]
    },
    {
      "cell_type": "code",
      "execution_count": null,
      "metadata": {
        "colab": {
          "base_uri": "https://localhost:8080/"
        },
        "id": "Ap_CpZ-KND4l",
        "outputId": "ca8c8c75-ecbd-48f3-a48f-e56c9bd0f694"
      },
      "outputs": [
        {
          "name": "stdout",
          "output_type": "stream",
          "text": [
            "not done21\n",
            "not done22\n",
            "not done34\n",
            "not done37\n",
            "not done97\n"
          ]
        }
      ],
      "source": [
        "Image_social_media_train=[]\n",
        "Image_social_media_test=[]\n",
        "\n",
        "for i in range(102):\n",
        "   img=traits[\"photo\"][i]\n",
        "   try:\n",
        "    image_path='/content/drive/MyDrive/image/final segmented image/'+img\n",
        "    image_r=cv2.imread(image_path)\n",
        "    image=cv2.resize(image_r,(224,224))\n",
        "\n",
        "    if i%5==0:\n",
        "      Class=traits[\"social media\"][i]\n",
        "      Image_social_media_test.append([image,Class])\n",
        "    else:\n",
        "      Class=traits[\"social media\"][i]\n",
        "      Image_social_media_train.append([image,Class])\n",
        "   except:\n",
        "    print(\"not done\"+str(i))"
      ]
    },
    {
      "cell_type": "code",
      "execution_count": null,
      "metadata": {
        "id": "Sl1H6oG1ND9k"
      },
      "outputs": [],
      "source": [
        "random.shuffle(Image_social_media_train)\n",
        "random.shuffle(Image_social_media_test)\n",
        "X_train_social_media=[]\n",
        "Y_train_social_media=[]\n",
        "X_test_social_media=[]\n",
        "Y_test_social_media=[]\n",
        "for x,y in Image_social_media_train:\n",
        "  X_train_social_media.append(x)\n",
        "  Y_train_social_media.append(y)\n",
        "for x,y in Image_social_media_test:\n",
        "  X_test_social_media.append(x)\n",
        "  Y_test_social_media.append(y)"
      ]
    },
    {
      "cell_type": "code",
      "execution_count": null,
      "metadata": {
        "id": "SAtFePZPNEBc"
      },
      "outputs": [],
      "source": [
        "X_train_social_media=np.array(X_train_social_media).reshape(-1,224,224,3)\n",
        "X_test_social_media=np.array(X_test_social_media).reshape(-1,224,224,3)\n",
        "X_train_social_media=X_train_social_media/255.0\n",
        "X_test_social_media=X_test_social_media/255.0\n",
        "Y_train_social_media=np.array(Y_train_social_media)\n",
        "Y_test_social_media=np.array(Y_test_social_media)"
      ]
    },
    {
      "cell_type": "code",
      "execution_count": null,
      "metadata": {
        "colab": {
          "base_uri": "https://localhost:8080/"
        },
        "id": "pd1asyniNEE9",
        "outputId": "b5cceb51-fa01-4d6c-8c52-be72b0d4232f"
      },
      "outputs": [
        {
          "name": "stdout",
          "output_type": "stream",
          "text": [
            "Model: \"sequential_12\"\n",
            "_________________________________________________________________\n",
            " Layer (type)                Output Shape              Param #   \n",
            "=================================================================\n",
            " conv2d_45 (Conv2D)          (None, 222, 222, 64)      1792      \n",
            "                                                                 \n",
            " max_pooling2d_45 (MaxPoolin  (None, 111, 111, 64)     0         \n",
            " g2D)                                                            \n",
            "                                                                 \n",
            " conv2d_46 (Conv2D)          (None, 109, 109, 32)      18464     \n",
            "                                                                 \n",
            " max_pooling2d_46 (MaxPoolin  (None, 54, 54, 32)       0         \n",
            " g2D)                                                            \n",
            "                                                                 \n",
            " conv2d_47 (Conv2D)          (None, 52, 52, 16)        4624      \n",
            "                                                                 \n",
            " max_pooling2d_47 (MaxPoolin  (None, 26, 26, 16)       0         \n",
            " g2D)                                                            \n",
            "                                                                 \n",
            " conv2d_48 (Conv2D)          (None, 24, 24, 16)        2320      \n",
            "                                                                 \n",
            " max_pooling2d_48 (MaxPoolin  (None, 12, 12, 16)       0         \n",
            " g2D)                                                            \n",
            "                                                                 \n",
            " conv2d_49 (Conv2D)          (None, 10, 10, 8)         1160      \n",
            "                                                                 \n",
            " max_pooling2d_49 (MaxPoolin  (None, 5, 5, 8)          0         \n",
            " g2D)                                                            \n",
            "                                                                 \n",
            " flatten_12 (Flatten)        (None, 200)               0         \n",
            "                                                                 \n",
            " dense_27 (Dense)            (None, 128)               25728     \n",
            "                                                                 \n",
            " dense_28 (Dense)            (None, 4)                 516       \n",
            "                                                                 \n",
            "=================================================================\n",
            "Total params: 54,604\n",
            "Trainable params: 54,604\n",
            "Non-trainable params: 0\n",
            "_________________________________________________________________\n"
          ]
        }
      ],
      "source": [
        "CNN=models.Sequential([\n",
        "    layers.Conv2D(64,(3,3),activation='relu',input_shape=(224,224,3)),\n",
        "    layers.MaxPooling2D(2,2),\n",
        "    layers.Conv2D(32,(3,3),activation='relu'),\n",
        "    layers.MaxPooling2D(2,2),\n",
        "    layers.Conv2D(16,(3,3),activation='relu'),\n",
        "    layers.MaxPooling2D(2,2),\n",
        "     layers.Conv2D(16,(3,3),activation='relu'),\n",
        "    layers.MaxPooling2D(2,2),\n",
        "     layers.Conv2D(8,(3,3),activation='relu'),\n",
        "    layers.MaxPooling2D(2,2),\n",
        "    layers.Flatten(),\n",
        "    layers.Dense(128,activation='relu'),\n",
        "    layers.Dense(4,activation='softmax')\n",
        "\n",
        "\n",
        "])\n",
        "CNN.summary()"
      ]
    },
    {
      "cell_type": "code",
      "execution_count": null,
      "metadata": {
        "id": "atTaSROXNESU"
      },
      "outputs": [],
      "source": [
        "CNN.compile(loss=tf.keras.losses.Poisson(),optimizer='adam',metrics=['accuracy'])"
      ]
    },
    {
      "cell_type": "code",
      "execution_count": null,
      "metadata": {
        "colab": {
          "base_uri": "https://localhost:8080/"
        },
        "id": "jzTDlYUwNEZU",
        "outputId": "e4aa1478-e7ef-4541-f9b9-c125016e3967"
      },
      "outputs": [
        {
          "name": "stdout",
          "output_type": "stream",
          "text": [
            "Epoch 1/10\n",
            "3/3 [==============================] - 9s 2s/step - loss: 2.1836 - accuracy: 0.3026\n",
            "Epoch 2/10\n",
            "3/3 [==============================] - 8s 2s/step - loss: 2.1835 - accuracy: 0.2632\n",
            "Epoch 3/10\n",
            "3/3 [==============================] - 8s 2s/step - loss: 2.1835 - accuracy: 0.3816\n",
            "Epoch 4/10\n",
            "3/3 [==============================] - 8s 2s/step - loss: 2.1835 - accuracy: 0.0921\n",
            "Epoch 5/10\n",
            "3/3 [==============================] - 12s 4s/step - loss: 2.1835 - accuracy: 0.0921\n",
            "Epoch 6/10\n",
            "3/3 [==============================] - 8s 2s/step - loss: 2.1835 - accuracy: 0.3289\n",
            "Epoch 7/10\n",
            "3/3 [==============================] - 8s 2s/step - loss: 2.1835 - accuracy: 0.5263\n",
            "Epoch 8/10\n",
            "3/3 [==============================] - 8s 2s/step - loss: 2.1835 - accuracy: 0.5263\n",
            "Epoch 9/10\n",
            "3/3 [==============================] - 8s 2s/step - loss: 2.1835 - accuracy: 0.1184\n",
            "Epoch 10/10\n",
            "3/3 [==============================] - 10s 3s/step - loss: 2.1835 - accuracy: 0.0921\n"
          ]
        },
        {
          "data": {
            "text/plain": [
              "<keras.callbacks.History at 0x7f810cf5e1f0>"
            ]
          },
          "execution_count": 104,
          "metadata": {},
          "output_type": "execute_result"
        }
      ],
      "source": [
        "CNN.fit(X_train_social_media,Y_train_social_media,epochs=10)"
      ]
    },
    {
      "cell_type": "code",
      "execution_count": null,
      "metadata": {
        "colab": {
          "base_uri": "https://localhost:8080/"
        },
        "id": "gU4hKm9eNEgs",
        "outputId": "e57af10f-ec41-4fba-c1a3-b7d41fa0acbb"
      },
      "outputs": [
        {
          "name": "stdout",
          "output_type": "stream",
          "text": [
            "1/1 [==============================] - 1s 699ms/step - loss: 2.6265 - accuracy: 0.0952\n"
          ]
        },
        {
          "data": {
            "text/plain": [
              "[2.62650465965271, 0.095238097012043]"
            ]
          },
          "execution_count": 105,
          "metadata": {},
          "output_type": "execute_result"
        }
      ],
      "source": [
        "CNN.evaluate(X_test_social_media,Y_test_social_media)"
      ]
    },
    {
      "cell_type": "markdown",
      "metadata": {
        "id": "ioQ2S2JUOIU_"
      },
      "source": [
        "#religious column as a label (CNN)"
      ]
    },
    {
      "cell_type": "code",
      "execution_count": null,
      "metadata": {
        "colab": {
          "base_uri": "https://localhost:8080/"
        },
        "id": "r2eCBSN-OKL1",
        "outputId": "c9be114e-9eb4-4a0f-e724-68c0f88e0288"
      },
      "outputs": [
        {
          "name": "stdout",
          "output_type": "stream",
          "text": [
            "not done21\n",
            "not done22\n",
            "not done34\n",
            "not done37\n",
            "not done97\n"
          ]
        }
      ],
      "source": [
        "Image_religious_train=[]\n",
        "Image_religious_test=[]\n",
        "\n",
        "for i in range(102):\n",
        "   img=traits[\"photo\"][i]\n",
        "   try:\n",
        "    image_path='/content/drive/MyDrive/image/final segmented image/'+img\n",
        "    image_r=cv2.imread(image_path)\n",
        "    image=cv2.resize(image_r,(224,224))\n",
        "\n",
        "    if i%5==0:\n",
        "      Class=traits[\"religious\"][i]\n",
        "      Image_religious_test.append([image,Class])\n",
        "    else:\n",
        "      Class=traits[\"religious\"][i]\n",
        "      Image_religious_train.append([image,Class])\n",
        "   except:\n",
        "    print(\"not done\"+str(i))"
      ]
    },
    {
      "cell_type": "code",
      "execution_count": null,
      "metadata": {
        "id": "juEAVpErOKPM"
      },
      "outputs": [],
      "source": [
        "random.shuffle(Image_religious_train)\n",
        "random.shuffle(Image_religious_test)\n",
        "X_train_religious=[]\n",
        "Y_train_religious=[]\n",
        "X_test_religious=[]\n",
        "Y_test_religious=[]\n",
        "for x,y in Image_religious_train:\n",
        "  X_train_religious.append(x)\n",
        "  Y_train_religious.append(y)\n",
        "for x,y in Image_religious_test:\n",
        "  X_test_religious.append(x)\n",
        "  Y_test_religious.append(y)"
      ]
    },
    {
      "cell_type": "code",
      "execution_count": null,
      "metadata": {
        "id": "Kchf08JhOKSQ"
      },
      "outputs": [],
      "source": [
        "X_train_religious=np.array(X_train_religious).reshape(-1,224,224,3)\n",
        "X_test_religious=np.array(X_test_religious).reshape(-1,224,224,3)\n",
        "X_train_religious=X_train_religious/255.0\n",
        "X_test_religious=X_test_religious/255.0\n",
        "Y_train_religious=np.array(Y_train_religious)\n",
        "Y_test_religious=np.array(Y_test_religious)"
      ]
    },
    {
      "cell_type": "code",
      "execution_count": null,
      "metadata": {
        "colab": {
          "base_uri": "https://localhost:8080/"
        },
        "id": "Z8iK3mJ2OKU4",
        "outputId": "5ee8f07f-0416-4d6a-c2d6-ebc1201d956a"
      },
      "outputs": [
        {
          "name": "stdout",
          "output_type": "stream",
          "text": [
            "Model: \"sequential_13\"\n",
            "_________________________________________________________________\n",
            " Layer (type)                Output Shape              Param #   \n",
            "=================================================================\n",
            " conv2d_50 (Conv2D)          (None, 222, 222, 64)      1792      \n",
            "                                                                 \n",
            " max_pooling2d_50 (MaxPoolin  (None, 111, 111, 64)     0         \n",
            " g2D)                                                            \n",
            "                                                                 \n",
            " conv2d_51 (Conv2D)          (None, 109, 109, 32)      18464     \n",
            "                                                                 \n",
            " max_pooling2d_51 (MaxPoolin  (None, 54, 54, 32)       0         \n",
            " g2D)                                                            \n",
            "                                                                 \n",
            " conv2d_52 (Conv2D)          (None, 52, 52, 16)        4624      \n",
            "                                                                 \n",
            " max_pooling2d_52 (MaxPoolin  (None, 26, 26, 16)       0         \n",
            " g2D)                                                            \n",
            "                                                                 \n",
            " conv2d_53 (Conv2D)          (None, 24, 24, 16)        2320      \n",
            "                                                                 \n",
            " max_pooling2d_53 (MaxPoolin  (None, 12, 12, 16)       0         \n",
            " g2D)                                                            \n",
            "                                                                 \n",
            " conv2d_54 (Conv2D)          (None, 10, 10, 8)         1160      \n",
            "                                                                 \n",
            " max_pooling2d_54 (MaxPoolin  (None, 5, 5, 8)          0         \n",
            " g2D)                                                            \n",
            "                                                                 \n",
            " flatten_13 (Flatten)        (None, 200)               0         \n",
            "                                                                 \n",
            " dense_29 (Dense)            (None, 128)               25728     \n",
            "                                                                 \n",
            " dense_30 (Dense)            (None, 10)                1290      \n",
            "                                                                 \n",
            "=================================================================\n",
            "Total params: 55,378\n",
            "Trainable params: 55,378\n",
            "Non-trainable params: 0\n",
            "_________________________________________________________________\n"
          ]
        }
      ],
      "source": [
        "CNN=models.Sequential([\n",
        "    layers.Conv2D(64,(3,3),activation='relu',input_shape=(224,224,3)),\n",
        "    layers.MaxPooling2D(2,2),\n",
        "    layers.Conv2D(32,(3,3),activation='relu'),\n",
        "    layers.MaxPooling2D(2,2),\n",
        "    layers.Conv2D(16,(3,3),activation='relu'),\n",
        "    layers.MaxPooling2D(2,2),\n",
        "     layers.Conv2D(16,(3,3),activation='relu'),\n",
        "    layers.MaxPooling2D(2,2),\n",
        "     layers.Conv2D(8,(3,3),activation='relu'),\n",
        "    layers.MaxPooling2D(2,2),\n",
        "    layers.Flatten(),\n",
        "    layers.Dense(128,activation='relu'),\n",
        "    layers.Dense(10,activation='softmax')\n",
        "\n",
        "\n",
        "])\n",
        "CNN.summary()"
      ]
    },
    {
      "cell_type": "code",
      "execution_count": null,
      "metadata": {
        "id": "67G5sqsTOKjs"
      },
      "outputs": [],
      "source": [
        "CNN.compile(loss=tf.keras.losses.Poisson(),optimizer='adam',metrics=['accuracy'])"
      ]
    },
    {
      "cell_type": "code",
      "execution_count": null,
      "metadata": {
        "colab": {
          "base_uri": "https://localhost:8080/"
        },
        "id": "jSqkeYSuOKsl",
        "outputId": "fc04b1b1-290d-400e-97a9-228f102b9688"
      },
      "outputs": [
        {
          "name": "stdout",
          "output_type": "stream",
          "text": [
            "Epoch 1/10\n",
            "3/3 [==============================] - 9s 2s/step - loss: 15.3713 - accuracy: 0.1579\n",
            "Epoch 2/10\n",
            "3/3 [==============================] - 8s 2s/step - loss: 15.3700 - accuracy: 0.0132\n",
            "Epoch 3/10\n",
            "3/3 [==============================] - 8s 2s/step - loss: 15.3699 - accuracy: 0.0789\n",
            "Epoch 4/10\n",
            "3/3 [==============================] - 8s 2s/step - loss: 15.3698 - accuracy: 0.1316\n",
            "Epoch 5/10\n",
            "3/3 [==============================] - 8s 2s/step - loss: 15.3698 - accuracy: 0.1316\n",
            "Epoch 6/10\n",
            "3/3 [==============================] - 8s 2s/step - loss: 15.3698 - accuracy: 0.1579\n",
            "Epoch 7/10\n",
            "3/3 [==============================] - 8s 2s/step - loss: 15.3698 - accuracy: 0.2632\n",
            "Epoch 8/10\n",
            "3/3 [==============================] - 8s 2s/step - loss: 15.3698 - accuracy: 0.2632\n",
            "Epoch 9/10\n",
            "3/3 [==============================] - 8s 2s/step - loss: 15.3698 - accuracy: 0.1184\n",
            "Epoch 10/10\n",
            "3/3 [==============================] - 8s 2s/step - loss: 15.3698 - accuracy: 0.0395\n"
          ]
        },
        {
          "data": {
            "text/plain": [
              "<keras.callbacks.History at 0x7f810c5953d0>"
            ]
          },
          "execution_count": 111,
          "metadata": {},
          "output_type": "execute_result"
        }
      ],
      "source": [
        "CNN.fit(X_train_religious,Y_train_religious,epochs=10)"
      ]
    },
    {
      "cell_type": "code",
      "execution_count": null,
      "metadata": {
        "colab": {
          "base_uri": "https://localhost:8080/"
        },
        "id": "B8gRJA3pOK7l",
        "outputId": "6aa158c2-501e-4195-b4a2-859e2d6a9881"
      },
      "outputs": [
        {
          "name": "stdout",
          "output_type": "stream",
          "text": [
            "1/1 [==============================] - 1s 690ms/step - loss: 12.7094 - accuracy: 0.0476\n"
          ]
        },
        {
          "data": {
            "text/plain": [
              "[12.709391593933105, 0.0476190485060215]"
            ]
          },
          "execution_count": 112,
          "metadata": {},
          "output_type": "execute_result"
        }
      ],
      "source": [
        "CNN.evaluate(X_test_religious,Y_test_religious)"
      ]
    },
    {
      "cell_type": "markdown",
      "metadata": {
        "id": "-KlKo9HxIm1F"
      },
      "source": [
        "#cgpa column as a label (VGG19)"
      ]
    },
    {
      "cell_type": "code",
      "execution_count": null,
      "metadata": {
        "colab": {
          "base_uri": "https://localhost:8080/"
        },
        "id": "K_0vqJCxItZ9",
        "outputId": "54ce53af-bcb6-47af-d0f0-4a0e5acb7969"
      },
      "outputs": [
        {
          "name": "stdout",
          "output_type": "stream",
          "text": [
            "not done21\n",
            "not done22\n",
            "not done34\n",
            "not done37\n",
            "not done97\n"
          ]
        }
      ],
      "source": [
        "Image_cgpa_train=[]\n",
        "Image_cgpa_test=[]\n",
        "\n",
        "for i in range(102):\n",
        "   img=traits[\"photo\"][i]\n",
        "   try:\n",
        "    image_path='/content/drive/MyDrive/image/final segmented image/'+img\n",
        "    image_r=cv2.imread(image_path)\n",
        "    image=cv2.resize(image_r,(224,224))\n",
        "\n",
        "    if i%5==0:\n",
        "      Class=traits[\"CGPA\"][i]\n",
        "      Image_cgpa_test.append([image,Class])\n",
        "    else:\n",
        "      Class=traits[\"CGPA\"][i]\n",
        "      Image_cgpa_train.append([image,Class])\n",
        "   except:\n",
        "    print(\"not done\"+str(i))"
      ]
    },
    {
      "cell_type": "code",
      "execution_count": null,
      "metadata": {
        "id": "LWb4oT5kItik"
      },
      "outputs": [],
      "source": [
        "random.shuffle(Image_cgpa_train)\n",
        "random.shuffle(Image_cgpa_test)\n",
        "X_train=[]\n",
        "Y_train=[]\n",
        "X_test=[]\n",
        "Y_test=[]\n",
        "for x,y in Image_cgpa_train:\n",
        "  X_train.append(x)\n",
        "  Y_train.append(y)\n",
        "for x,y in Image_cgpa_test:\n",
        "  X_test.append(x)\n",
        "  Y_test.append(y)"
      ]
    },
    {
      "cell_type": "code",
      "execution_count": null,
      "metadata": {
        "id": "wrzd3cA4Itlz"
      },
      "outputs": [],
      "source": [
        "X_train=np.array(X_train).reshape(-1,224,224,3)\n",
        "X_test=np.array(X_test).reshape(-1,224,224,3)\n",
        "X_train=X_train/255.0\n",
        "X_test=X_test/255\n",
        "Y_train=np.array(Y_train)\n",
        "Y_test=np.array(Y_test)"
      ]
    },
    {
      "cell_type": "code",
      "execution_count": null,
      "metadata": {
        "id": "8R9E4IeXIto4"
      },
      "outputs": [],
      "source": [
        "datagen = ImageDataGenerator(\n",
        "    featurewise_center=True,\n",
        "    featurewise_std_normalization=True,\n",
        "    rotation_range=20,\n",
        "    width_shift_range=0.2,\n",
        "    height_shift_range=0.2,\n",
        "    horizontal_flip=True,\n",
        "    validation_split=0.2)"
      ]
    },
    {
      "cell_type": "code",
      "execution_count": null,
      "metadata": {
        "id": "8x2dVzalItsm"
      },
      "outputs": [],
      "source": [
        "datagen.fit(X_train)"
      ]
    },
    {
      "cell_type": "code",
      "execution_count": null,
      "metadata": {
        "colab": {
          "base_uri": "https://localhost:8080/"
        },
        "id": "TkeFH42IIt6s",
        "outputId": "93eb7084-bfe8-448d-a31d-c6d79e49cd41"
      },
      "outputs": [
        {
          "name": "stdout",
          "output_type": "stream",
          "text": [
            "Downloading data from https://storage.googleapis.com/tensorflow/keras-applications/vgg19/vgg19_weights_tf_dim_ordering_tf_kernels_notop.h5\n",
            "80134624/80134624 [==============================] - 1s 0us/step\n",
            "Model: \"model\"\n",
            "_________________________________________________________________\n",
            " Layer (type)                Output Shape              Param #   \n",
            "=================================================================\n",
            " input_1 (InputLayer)        [(None, 224, 224, 3)]     0         \n",
            "                                                                 \n",
            " block1_conv1 (Conv2D)       (None, 224, 224, 64)      1792      \n",
            "                                                                 \n",
            " block1_conv2 (Conv2D)       (None, 224, 224, 64)      36928     \n",
            "                                                                 \n",
            " block1_pool (MaxPooling2D)  (None, 112, 112, 64)      0         \n",
            "                                                                 \n",
            " block2_conv1 (Conv2D)       (None, 112, 112, 128)     73856     \n",
            "                                                                 \n",
            " block2_conv2 (Conv2D)       (None, 112, 112, 128)     147584    \n",
            "                                                                 \n",
            " block2_pool (MaxPooling2D)  (None, 56, 56, 128)       0         \n",
            "                                                                 \n",
            " block3_conv1 (Conv2D)       (None, 56, 56, 256)       295168    \n",
            "                                                                 \n",
            " block3_conv2 (Conv2D)       (None, 56, 56, 256)       590080    \n",
            "                                                                 \n",
            " block3_conv3 (Conv2D)       (None, 56, 56, 256)       590080    \n",
            "                                                                 \n",
            " block3_conv4 (Conv2D)       (None, 56, 56, 256)       590080    \n",
            "                                                                 \n",
            " block3_pool (MaxPooling2D)  (None, 28, 28, 256)       0         \n",
            "                                                                 \n",
            " block4_conv1 (Conv2D)       (None, 28, 28, 512)       1180160   \n",
            "                                                                 \n",
            " block4_conv2 (Conv2D)       (None, 28, 28, 512)       2359808   \n",
            "                                                                 \n",
            " block4_conv3 (Conv2D)       (None, 28, 28, 512)       2359808   \n",
            "                                                                 \n",
            " block4_conv4 (Conv2D)       (None, 28, 28, 512)       2359808   \n",
            "                                                                 \n",
            " block4_pool (MaxPooling2D)  (None, 14, 14, 512)       0         \n",
            "                                                                 \n",
            " block5_conv1 (Conv2D)       (None, 14, 14, 512)       2359808   \n",
            "                                                                 \n",
            " block5_conv2 (Conv2D)       (None, 14, 14, 512)       2359808   \n",
            "                                                                 \n",
            " block5_conv3 (Conv2D)       (None, 14, 14, 512)       2359808   \n",
            "                                                                 \n",
            " block5_conv4 (Conv2D)       (None, 14, 14, 512)       2359808   \n",
            "                                                                 \n",
            " block5_pool (MaxPooling2D)  (None, 7, 7, 512)         0         \n",
            "                                                                 \n",
            " flatten_14 (Flatten)        (None, 25088)             0         \n",
            "                                                                 \n",
            " dense_31 (Dense)            (None, 1)                 25089     \n",
            "                                                                 \n",
            "=================================================================\n",
            "Total params: 20,049,473\n",
            "Trainable params: 25,089\n",
            "Non-trainable params: 20,024,384\n",
            "_________________________________________________________________\n"
          ]
        }
      ],
      "source": [
        "\n",
        "image_size=[224,224]\n",
        "Vgg=VGG19(input_shape=image_size + [3],weights='imagenet',include_top=False)\n",
        "for layer in Vgg.layers:\n",
        "  layer.trainable=False\n",
        "F=layers.Flatten()(Vgg.output)\n",
        "prediction=layers.Dense(1,activation='sigmoid')(F)\n",
        "VGG=Model(inputs=Vgg.input,outputs=prediction)\n",
        "VGG.summary()"
      ]
    },
    {
      "cell_type": "code",
      "execution_count": null,
      "metadata": {
        "id": "xIr-fz1XJzqm"
      },
      "outputs": [],
      "source": [
        "VGG.compile(loss='binary_crossentropy',optimizer='adam',metrics=['accuracy'])"
      ]
    },
    {
      "cell_type": "code",
      "execution_count": null,
      "metadata": {
        "colab": {
          "base_uri": "https://localhost:8080/"
        },
        "id": "RLSUIzM5J2Td",
        "outputId": "361bdca1-a5af-4095-d71a-09841913f2be"
      },
      "outputs": [
        {
          "name": "stdout",
          "output_type": "stream",
          "text": [
            "Epoch 1/10\n",
            "2/2 [==============================] - 43s 21s/step - loss: 0.7100 - accuracy: 0.6066\n",
            "Epoch 2/10\n",
            "2/2 [==============================] - 41s 19s/step - loss: 0.6889 - accuracy: 0.5738\n",
            "Epoch 3/10\n",
            "2/2 [==============================] - 41s 19s/step - loss: 0.7338 - accuracy: 0.5410\n",
            "Epoch 4/10\n",
            "2/2 [==============================] - 43s 21s/step - loss: 0.6393 - accuracy: 0.5738\n",
            "Epoch 5/10\n",
            "2/2 [==============================] - 41s 19s/step - loss: 0.6865 - accuracy: 0.5574\n",
            "Epoch 6/10\n",
            "2/2 [==============================] - 43s 21s/step - loss: 0.5807 - accuracy: 0.6393\n",
            "Epoch 7/10\n",
            "2/2 [==============================] - 40s 21s/step - loss: 0.5696 - accuracy: 0.7213\n",
            "Epoch 8/10\n",
            "2/2 [==============================] - 40s 21s/step - loss: 0.5339 - accuracy: 0.6557\n",
            "Epoch 9/10\n",
            "2/2 [==============================] - 43s 21s/step - loss: 0.5007 - accuracy: 0.7869\n",
            "Epoch 10/10\n",
            "2/2 [==============================] - 40s 19s/step - loss: 0.5028 - accuracy: 0.7869\n"
          ]
        },
        {
          "data": {
            "text/plain": [
              "<keras.callbacks.History at 0x7f810c5ae280>"
            ]
          },
          "execution_count": 120,
          "metadata": {},
          "output_type": "execute_result"
        }
      ],
      "source": [
        "VGG.fit(datagen.flow(X_train, Y_train,\n",
        "         subset='training'),epochs=10)"
      ]
    },
    {
      "cell_type": "code",
      "execution_count": null,
      "metadata": {
        "colab": {
          "base_uri": "https://localhost:8080/"
        },
        "id": "8bBJNPqAOwV6",
        "outputId": "c6ce754d-94c9-4567-f726-20893239dc46"
      },
      "outputs": [
        {
          "name": "stdout",
          "output_type": "stream",
          "text": [
            "1/1 [==============================] - 14s 14s/step - loss: 1.0371 - accuracy: 0.6667\n"
          ]
        },
        {
          "data": {
            "text/plain": [
              "[1.0370820760726929, 0.6666666865348816]"
            ]
          },
          "execution_count": 121,
          "metadata": {},
          "output_type": "execute_result"
        }
      ],
      "source": [
        "VGG.evaluate(X_test,Y_test)"
      ]
    },
    {
      "cell_type": "markdown",
      "metadata": {
        "id": "v4-MQ8xwKYI1"
      },
      "source": [
        "#Assignment column as a label (VGG19)"
      ]
    },
    {
      "cell_type": "code",
      "execution_count": null,
      "metadata": {
        "colab": {
          "base_uri": "https://localhost:8080/"
        },
        "id": "45XBQ7GdK5DU",
        "outputId": "e331515f-8c0f-4faa-813b-ae8d5974b3ef"
      },
      "outputs": [
        {
          "name": "stdout",
          "output_type": "stream",
          "text": [
            "not done21\n",
            "not done22\n",
            "not done34\n",
            "not done37\n",
            "not done97\n"
          ]
        }
      ],
      "source": [
        "Image_assignment_train=[]\n",
        "Image_assignment_test=[]\n",
        "\n",
        "for i in range(102):\n",
        "   img=traits[\"photo\"][i]\n",
        "   try:\n",
        "    image_path='/content/drive/MyDrive/image/final segmented image/'+img\n",
        "    image_r=cv2.imread(image_path)\n",
        "    image=cv2.resize(image_r,(224,224))\n",
        "\n",
        "    if i%5==0:\n",
        "      Class=traits[\"assignments\"][i]\n",
        "      Image_assignment_test.append([image,Class])\n",
        "    else:\n",
        "      Class=traits[\"assignments\"][i]\n",
        "      Image_assignment_train.append([image,Class])\n",
        "   except:\n",
        "    print(\"not done\"+str(i))"
      ]
    },
    {
      "cell_type": "code",
      "execution_count": null,
      "metadata": {
        "id": "CC3FZO0XK5Ic"
      },
      "outputs": [],
      "source": [
        "random.shuffle(Image_assignment_train)\n",
        "random.shuffle(Image_assignment_test)\n",
        "X_train=[]\n",
        "Y_train=[]\n",
        "X_test=[]\n",
        "Y_test=[]\n",
        "for x,y in Image_assignment_train:\n",
        "  X_train.append(x)\n",
        "  Y_train.append(y)\n",
        "for x,y in Image_assignment_test:\n",
        "  X_test.append(x)\n",
        "  Y_test.append(y)"
      ]
    },
    {
      "cell_type": "code",
      "execution_count": null,
      "metadata": {
        "id": "J3EJx1kZK5Ma"
      },
      "outputs": [],
      "source": [
        "X_train=np.array(X_train).reshape(-1,224,224,3)\n",
        "X_test=np.array(X_test).reshape(-1,224,224,3)\n",
        "X_train=X_train/255.0\n",
        "X_test=X_test/255\n",
        "Y_train=np.array(Y_train)\n",
        "Y_test=np.array(Y_test)"
      ]
    },
    {
      "cell_type": "code",
      "execution_count": null,
      "metadata": {
        "id": "vqBxMftoK5Pf"
      },
      "outputs": [],
      "source": [
        "datagen = ImageDataGenerator(\n",
        "    featurewise_center=True,\n",
        "    featurewise_std_normalization=True,\n",
        "    rotation_range=20,\n",
        "    width_shift_range=0.2,\n",
        "    height_shift_range=0.2,\n",
        "    horizontal_flip=True,\n",
        "    validation_split=0.2)"
      ]
    },
    {
      "cell_type": "code",
      "execution_count": null,
      "metadata": {
        "id": "ha_HvBMFK5SX"
      },
      "outputs": [],
      "source": [
        "datagen.fit(X_train)"
      ]
    },
    {
      "cell_type": "code",
      "execution_count": null,
      "metadata": {
        "colab": {
          "base_uri": "https://localhost:8080/"
        },
        "id": "_KqGGoLwK5VD",
        "outputId": "aa1c4d52-eeff-4541-f39b-cafaa22624f3"
      },
      "outputs": [
        {
          "name": "stdout",
          "output_type": "stream",
          "text": [
            "Model: \"model_6\"\n",
            "_________________________________________________________________\n",
            " Layer (type)                Output Shape              Param #   \n",
            "=================================================================\n",
            " input_7 (InputLayer)        [(None, 224, 224, 3)]     0         \n",
            "                                                                 \n",
            " block1_conv1 (Conv2D)       (None, 224, 224, 64)      1792      \n",
            "                                                                 \n",
            " block1_conv2 (Conv2D)       (None, 224, 224, 64)      36928     \n",
            "                                                                 \n",
            " block1_pool (MaxPooling2D)  (None, 112, 112, 64)      0         \n",
            "                                                                 \n",
            " block2_conv1 (Conv2D)       (None, 112, 112, 128)     73856     \n",
            "                                                                 \n",
            " block2_conv2 (Conv2D)       (None, 112, 112, 128)     147584    \n",
            "                                                                 \n",
            " block2_pool (MaxPooling2D)  (None, 56, 56, 128)       0         \n",
            "                                                                 \n",
            " block3_conv1 (Conv2D)       (None, 56, 56, 256)       295168    \n",
            "                                                                 \n",
            " block3_conv2 (Conv2D)       (None, 56, 56, 256)       590080    \n",
            "                                                                 \n",
            " block3_conv3 (Conv2D)       (None, 56, 56, 256)       590080    \n",
            "                                                                 \n",
            " block3_conv4 (Conv2D)       (None, 56, 56, 256)       590080    \n",
            "                                                                 \n",
            " block3_pool (MaxPooling2D)  (None, 28, 28, 256)       0         \n",
            "                                                                 \n",
            " block4_conv1 (Conv2D)       (None, 28, 28, 512)       1180160   \n",
            "                                                                 \n",
            " block4_conv2 (Conv2D)       (None, 28, 28, 512)       2359808   \n",
            "                                                                 \n",
            " block4_conv3 (Conv2D)       (None, 28, 28, 512)       2359808   \n",
            "                                                                 \n",
            " block4_conv4 (Conv2D)       (None, 28, 28, 512)       2359808   \n",
            "                                                                 \n",
            " block4_pool (MaxPooling2D)  (None, 14, 14, 512)       0         \n",
            "                                                                 \n",
            " block5_conv1 (Conv2D)       (None, 14, 14, 512)       2359808   \n",
            "                                                                 \n",
            " block5_conv2 (Conv2D)       (None, 14, 14, 512)       2359808   \n",
            "                                                                 \n",
            " block5_conv3 (Conv2D)       (None, 14, 14, 512)       2359808   \n",
            "                                                                 \n",
            " block5_conv4 (Conv2D)       (None, 14, 14, 512)       2359808   \n",
            "                                                                 \n",
            " block5_pool (MaxPooling2D)  (None, 7, 7, 512)         0         \n",
            "                                                                 \n",
            " flatten_20 (Flatten)        (None, 25088)             0         \n",
            "                                                                 \n",
            " dense_37 (Dense)            (None, 4)                 100356    \n",
            "                                                                 \n",
            "=================================================================\n",
            "Total params: 20,124,740\n",
            "Trainable params: 100,356\n",
            "Non-trainable params: 20,024,384\n",
            "_________________________________________________________________\n"
          ]
        }
      ],
      "source": [
        "from keras.applications.vgg19 import VGG19,preprocess_input\n",
        "image_size=[224,224]\n",
        "Vgg=VGG19(input_shape=image_size + [3],weights='imagenet',include_top=False)\n",
        "for layer in Vgg.layers:\n",
        "  layer.trainable=False\n",
        "F=layers.Flatten()(Vgg.output)\n",
        "prediction=layers.Dense(4,activation='softmax')(F)\n",
        "VGG=Model(inputs=Vgg.input,outputs=prediction)\n",
        "VGG.summary() "
      ]
    },
    {
      "cell_type": "code",
      "execution_count": null,
      "metadata": {
        "id": "uYDD8ys5K5X7"
      },
      "outputs": [],
      "source": [
        "VGG.compile(loss=tf.keras.losses.SparseCategoricalCrossentropy(),optimizer='adam',metrics=['accuracy'])"
      ]
    },
    {
      "cell_type": "code",
      "execution_count": null,
      "metadata": {
        "colab": {
          "base_uri": "https://localhost:8080/"
        },
        "id": "B4Qbd3nZK5bO",
        "outputId": "2d67095a-47c7-43a3-d014-388c659db05c"
      },
      "outputs": [
        {
          "name": "stdout",
          "output_type": "stream",
          "text": [
            "Epoch 1/10\n",
            "3/3 [==============================] - 68s 17s/step - loss: 2.7749 - accuracy: 0.3684\n",
            "Epoch 2/10\n",
            "3/3 [==============================] - 50s 15s/step - loss: 1.6766 - accuracy: 0.4079\n",
            "Epoch 3/10\n",
            "3/3 [==============================] - 51s 15s/step - loss: 0.9284 - accuracy: 0.6579\n",
            "Epoch 4/10\n",
            "3/3 [==============================] - 50s 15s/step - loss: 1.0862 - accuracy: 0.6711\n",
            "Epoch 5/10\n",
            "3/3 [==============================] - 49s 14s/step - loss: 0.5027 - accuracy: 0.8289\n",
            "Epoch 6/10\n",
            "3/3 [==============================] - 51s 14s/step - loss: 0.3446 - accuracy: 0.8947\n",
            "Epoch 7/10\n",
            "3/3 [==============================] - 51s 15s/step - loss: 0.3567 - accuracy: 0.8684\n",
            "Epoch 8/10\n",
            "3/3 [==============================] - 52s 16s/step - loss: 0.2397 - accuracy: 0.9474\n",
            "Epoch 9/10\n",
            "3/3 [==============================] - 50s 14s/step - loss: 0.1901 - accuracy: 0.9737\n",
            "Epoch 10/10\n",
            "3/3 [==============================] - 52s 15s/step - loss: 0.1732 - accuracy: 0.9737\n"
          ]
        },
        {
          "data": {
            "text/plain": [
              "<keras.callbacks.History at 0x7f8112986a00>"
            ]
          },
          "execution_count": 174,
          "metadata": {},
          "output_type": "execute_result"
        }
      ],
      "source": [
        "VGG.fit(X_train, Y_train,epochs=10)"
      ]
    },
    {
      "cell_type": "code",
      "execution_count": null,
      "metadata": {
        "colab": {
          "base_uri": "https://localhost:8080/"
        },
        "id": "kkktfg8POz1C",
        "outputId": "833e6024-d692-4114-c3e9-26b59ba0ad68"
      },
      "outputs": [
        {
          "name": "stdout",
          "output_type": "stream",
          "text": [
            "1/1 [==============================] - 14s 14s/step - loss: 1.0726 - accuracy: 0.6667\n"
          ]
        },
        {
          "data": {
            "text/plain": [
              "[1.0725791454315186, 0.6666666865348816]"
            ]
          },
          "execution_count": 175,
          "metadata": {},
          "output_type": "execute_result"
        }
      ],
      "source": [
        "VGG.evaluate(X_test,Y_test)"
      ]
    },
    {
      "cell_type": "markdown",
      "metadata": {
        "id": "dkfAVYMPO0rC"
      },
      "source": [
        "#introvert column as a label (VGG19)"
      ]
    },
    {
      "cell_type": "code",
      "execution_count": null,
      "metadata": {
        "colab": {
          "base_uri": "https://localhost:8080/"
        },
        "id": "YUDtB9pSO217",
        "outputId": "ed44534c-773f-4a11-8361-87bc4d0e0b76"
      },
      "outputs": [
        {
          "name": "stdout",
          "output_type": "stream",
          "text": [
            "not done21\n",
            "not done22\n",
            "not done34\n",
            "not done37\n",
            "not done97\n"
          ]
        }
      ],
      "source": [
        "Image_introvert_train=[]\n",
        "Image_introvert_test=[]\n",
        "\n",
        "for i in range(102):\n",
        "   img=traits[\"photo\"][i]\n",
        "   try:\n",
        "    image_path='/content/drive/MyDrive/image/final segmented image/'+img\n",
        "    image_r=cv2.imread(image_path)\n",
        "    image=cv2.resize(image_r,(224,224))\n",
        "\n",
        "    if i%5==0:\n",
        "      Class=traits[\"introvert\"][i]\n",
        "      Image_introvert_test.append([image,Class])\n",
        "    else:\n",
        "      Class=traits[\"introvert\"][i]\n",
        "      Image_introvert_train.append([image,Class])\n",
        "   except:\n",
        "    print(\"not done\"+str(i))"
      ]
    },
    {
      "cell_type": "code",
      "execution_count": null,
      "metadata": {
        "id": "cR7hUDpOO25T"
      },
      "outputs": [],
      "source": [
        "random.shuffle(Image_introvert_train)\n",
        "random.shuffle(Image_introvert_test)\n",
        "X_train=[]\n",
        "Y_train=[]\n",
        "X_test=[]\n",
        "Y_test=[]\n",
        "for x,y in Image_introvert_train:\n",
        "  X_train.append(x)\n",
        "  Y_train.append(y)\n",
        "for x,y in Image_introvert_test:\n",
        "  X_test.append(x)\n",
        "  Y_test.append(y)"
      ]
    },
    {
      "cell_type": "code",
      "execution_count": null,
      "metadata": {
        "id": "TTNlEJ6FO28O"
      },
      "outputs": [],
      "source": [
        "X_train=np.array(X_train).reshape(-1,224,224,3)\n",
        "X_test=np.array(X_test).reshape(-1,224,224,3)\n",
        "X_train=X_train/255.0\n",
        "X_test=X_test/255\n",
        "Y_train=np.array(Y_train)\n",
        "Y_test=np.array(Y_test)"
      ]
    },
    {
      "cell_type": "code",
      "execution_count": null,
      "metadata": {
        "id": "wXTzI3I8O2-6"
      },
      "outputs": [],
      "source": [
        "datagen = ImageDataGenerator(\n",
        "    featurewise_center=True,\n",
        "    featurewise_std_normalization=True,\n",
        "    rotation_range=20,\n",
        "    width_shift_range=0.2,\n",
        "    height_shift_range=0.2,\n",
        "    horizontal_flip=True,\n",
        "    validation_split=0.2)"
      ]
    },
    {
      "cell_type": "code",
      "execution_count": null,
      "metadata": {
        "id": "qIdSp2KLO3Br"
      },
      "outputs": [],
      "source": [
        "datagen.fit(X_train)"
      ]
    },
    {
      "cell_type": "code",
      "execution_count": null,
      "metadata": {
        "colab": {
          "base_uri": "https://localhost:8080/"
        },
        "id": "8sSwhvhYO3HZ",
        "outputId": "9016583c-a183-4d9b-be39-bc68e2262c19"
      },
      "outputs": [
        {
          "name": "stdout",
          "output_type": "stream",
          "text": [
            "Model: \"model_2\"\n",
            "_________________________________________________________________\n",
            " Layer (type)                Output Shape              Param #   \n",
            "=================================================================\n",
            " input_3 (InputLayer)        [(None, 224, 224, 3)]     0         \n",
            "                                                                 \n",
            " block1_conv1 (Conv2D)       (None, 224, 224, 64)      1792      \n",
            "                                                                 \n",
            " block1_conv2 (Conv2D)       (None, 224, 224, 64)      36928     \n",
            "                                                                 \n",
            " block1_pool (MaxPooling2D)  (None, 112, 112, 64)      0         \n",
            "                                                                 \n",
            " block2_conv1 (Conv2D)       (None, 112, 112, 128)     73856     \n",
            "                                                                 \n",
            " block2_conv2 (Conv2D)       (None, 112, 112, 128)     147584    \n",
            "                                                                 \n",
            " block2_pool (MaxPooling2D)  (None, 56, 56, 128)       0         \n",
            "                                                                 \n",
            " block3_conv1 (Conv2D)       (None, 56, 56, 256)       295168    \n",
            "                                                                 \n",
            " block3_conv2 (Conv2D)       (None, 56, 56, 256)       590080    \n",
            "                                                                 \n",
            " block3_conv3 (Conv2D)       (None, 56, 56, 256)       590080    \n",
            "                                                                 \n",
            " block3_conv4 (Conv2D)       (None, 56, 56, 256)       590080    \n",
            "                                                                 \n",
            " block3_pool (MaxPooling2D)  (None, 28, 28, 256)       0         \n",
            "                                                                 \n",
            " block4_conv1 (Conv2D)       (None, 28, 28, 512)       1180160   \n",
            "                                                                 \n",
            " block4_conv2 (Conv2D)       (None, 28, 28, 512)       2359808   \n",
            "                                                                 \n",
            " block4_conv3 (Conv2D)       (None, 28, 28, 512)       2359808   \n",
            "                                                                 \n",
            " block4_conv4 (Conv2D)       (None, 28, 28, 512)       2359808   \n",
            "                                                                 \n",
            " block4_pool (MaxPooling2D)  (None, 14, 14, 512)       0         \n",
            "                                                                 \n",
            " block5_conv1 (Conv2D)       (None, 14, 14, 512)       2359808   \n",
            "                                                                 \n",
            " block5_conv2 (Conv2D)       (None, 14, 14, 512)       2359808   \n",
            "                                                                 \n",
            " block5_conv3 (Conv2D)       (None, 14, 14, 512)       2359808   \n",
            "                                                                 \n",
            " block5_conv4 (Conv2D)       (None, 14, 14, 512)       2359808   \n",
            "                                                                 \n",
            " block5_pool (MaxPooling2D)  (None, 7, 7, 512)         0         \n",
            "                                                                 \n",
            " flatten_16 (Flatten)        (None, 25088)             0         \n",
            "                                                                 \n",
            " dense_33 (Dense)            (None, 3)                 75267     \n",
            "                                                                 \n",
            "=================================================================\n",
            "Total params: 20,099,651\n",
            "Trainable params: 75,267\n",
            "Non-trainable params: 20,024,384\n",
            "_________________________________________________________________\n"
          ]
        }
      ],
      "source": [
        "from keras.applications.vgg19 import VGG19,preprocess_input\n",
        "image_size=[224,224]\n",
        "Vgg=VGG19(input_shape=image_size + [3],weights='imagenet',include_top=False)\n",
        "for layer in Vgg.layers:\n",
        "  layer.trainable=False\n",
        "F=layers.Flatten()(Vgg.output)\n",
        "prediction=layers.Dense(3,activation='softmax')(F)\n",
        "VGG=Model(inputs=Vgg.input,outputs=prediction)\n",
        "VGG.summary()"
      ]
    },
    {
      "cell_type": "code",
      "execution_count": null,
      "metadata": {
        "id": "Gqx8KBVkO3KV"
      },
      "outputs": [],
      "source": [
        "VGG.compile(loss=tf.keras.losses.Poisson(),optimizer='sgd',metrics=['accuracy'])"
      ]
    },
    {
      "cell_type": "code",
      "execution_count": null,
      "metadata": {
        "colab": {
          "base_uri": "https://localhost:8080/"
        },
        "id": "RNGPHStoO3Na",
        "outputId": "2472184e-e576-407d-e054-9643efba08f9"
      },
      "outputs": [
        {
          "name": "stdout",
          "output_type": "stream",
          "text": [
            "Epoch 1/10\n",
            "2/2 [==============================] - 44s 21s/step - loss: 4.5043 - accuracy: 0.4590\n",
            "Epoch 2/10\n",
            "2/2 [==============================] - 43s 23s/step - loss: 12.1357 - accuracy: 0.1803\n",
            "Epoch 3/10\n",
            "2/2 [==============================] - 40s 19s/step - loss: 12.1357 - accuracy: 0.1803\n",
            "Epoch 4/10\n",
            "2/2 [==============================] - 44s 22s/step - loss: 12.1357 - accuracy: 0.1803\n",
            "Epoch 5/10\n",
            "2/2 [==============================] - 41s 21s/step - loss: 12.1357 - accuracy: 0.1803\n",
            "Epoch 6/10\n",
            "2/2 [==============================] - 43s 23s/step - loss: 12.1357 - accuracy: 0.1803\n",
            "Epoch 7/10\n",
            "2/2 [==============================] - 41s 19s/step - loss: 12.1357 - accuracy: 0.1803\n",
            "Epoch 8/10\n",
            "2/2 [==============================] - 43s 23s/step - loss: 12.1357 - accuracy: 0.1803\n",
            "Epoch 9/10\n",
            "2/2 [==============================] - 42s 19s/step - loss: 12.1357 - accuracy: 0.1803\n",
            "Epoch 10/10\n",
            "2/2 [==============================] - 41s 21s/step - loss: 12.1357 - accuracy: 0.1803\n"
          ]
        },
        {
          "data": {
            "text/plain": [
              "<keras.callbacks.History at 0x7f810a830f70>"
            ]
          },
          "execution_count": 137,
          "metadata": {},
          "output_type": "execute_result"
        }
      ],
      "source": [
        "VGG.fit(datagen.flow(X_train, Y_train,\n",
        "         subset='training'),epochs=10)"
      ]
    },
    {
      "cell_type": "code",
      "execution_count": null,
      "metadata": {
        "colab": {
          "base_uri": "https://localhost:8080/"
        },
        "id": "NaIXvi8mPI3l",
        "outputId": "7f4fed61-76f9-4f1c-b646-75cf18660116"
      },
      "outputs": [
        {
          "name": "stdout",
          "output_type": "stream",
          "text": [
            "1/1 [==============================] - 14s 14s/step - loss: 13.1255 - accuracy: 0.4286\n"
          ]
        },
        {
          "data": {
            "text/plain": [
              "[13.125472068786621, 0.4285714328289032]"
            ]
          },
          "execution_count": 138,
          "metadata": {},
          "output_type": "execute_result"
        }
      ],
      "source": [
        "VGG.evaluate(X_test,Y_test)"
      ]
    },
    {
      "cell_type": "markdown",
      "metadata": {
        "id": "VlcJymB8Q2v0"
      },
      "source": [
        "#study column as a label (VGG19)"
      ]
    },
    {
      "cell_type": "code",
      "execution_count": null,
      "metadata": {
        "colab": {
          "base_uri": "https://localhost:8080/"
        },
        "id": "hLFv5nGlQ6M8",
        "outputId": "918a3f16-6850-4616-cd65-2e27c10adb80"
      },
      "outputs": [
        {
          "name": "stdout",
          "output_type": "stream",
          "text": [
            "not done21\n",
            "not done22\n",
            "not done34\n",
            "not done37\n",
            "not done97\n"
          ]
        }
      ],
      "source": [
        "Image_study_train=[]\n",
        "Image_study_test=[]\n",
        "\n",
        "for i in range(102):\n",
        "   img=traits[\"photo\"][i]\n",
        "   try:\n",
        "    image_path='/content/drive/MyDrive/image/final segmented image/'+img\n",
        "    image_r=cv2.imread(image_path)\n",
        "    image=cv2.resize(image_r,(224,224))\n",
        "\n",
        "    if i%5==0:\n",
        "      Class=traits[\"study\"][i]\n",
        "      Image_study_test.append([image,Class])\n",
        "    else:\n",
        "      Class=traits[\"study\"][i]\n",
        "      Image_study_train.append([image,Class])\n",
        "   except:\n",
        "    print(\"not done\"+str(i))"
      ]
    },
    {
      "cell_type": "code",
      "execution_count": null,
      "metadata": {
        "id": "RyUU8jC7Q6Qi"
      },
      "outputs": [],
      "source": [
        "random.shuffle(Image_study_train)\n",
        "random.shuffle(Image_study_test)\n",
        "X_train=[]\n",
        "Y_train=[]\n",
        "X_test=[]\n",
        "Y_test=[]\n",
        "for x,y in Image_study_train:\n",
        "  X_train.append(x)\n",
        "  Y_train.append(y)\n",
        "for x,y in Image_study_test:\n",
        "  X_test.append(x)\n",
        "  Y_test.append(y)"
      ]
    },
    {
      "cell_type": "code",
      "execution_count": null,
      "metadata": {
        "id": "YDA99FDNQ6Tq"
      },
      "outputs": [],
      "source": [
        "X_train=np.array(X_train).reshape(-1,224,224,3)\n",
        "X_test=np.array(X_test).reshape(-1,224,224,3)\n",
        "X_train=X_train/255.0\n",
        "X_test=X_test/255\n",
        "Y_train=np.array(Y_train)\n",
        "Y_test=np.array(Y_test)"
      ]
    },
    {
      "cell_type": "code",
      "execution_count": null,
      "metadata": {
        "id": "M049nXS6Q6Wp"
      },
      "outputs": [],
      "source": [
        "datagen = ImageDataGenerator(\n",
        "    featurewise_center=True,\n",
        "    featurewise_std_normalization=True,\n",
        "    rotation_range=20,\n",
        "    width_shift_range=0.2,\n",
        "    height_shift_range=0.2,\n",
        "    horizontal_flip=True,\n",
        "    validation_split=0.2)"
      ]
    },
    {
      "cell_type": "code",
      "execution_count": null,
      "metadata": {
        "id": "tPK6tmTLQ6Zh"
      },
      "outputs": [],
      "source": [
        "datagen.fit(X_train)"
      ]
    },
    {
      "cell_type": "code",
      "execution_count": null,
      "metadata": {
        "colab": {
          "base_uri": "https://localhost:8080/"
        },
        "id": "Q6gXSKTbQ6cp",
        "outputId": "2f50e914-1590-44a1-ac5b-60b24a43be6e"
      },
      "outputs": [
        {
          "name": "stdout",
          "output_type": "stream",
          "text": [
            "Model: \"model_3\"\n",
            "_________________________________________________________________\n",
            " Layer (type)                Output Shape              Param #   \n",
            "=================================================================\n",
            " input_4 (InputLayer)        [(None, 224, 224, 3)]     0         \n",
            "                                                                 \n",
            " block1_conv1 (Conv2D)       (None, 224, 224, 64)      1792      \n",
            "                                                                 \n",
            " block1_conv2 (Conv2D)       (None, 224, 224, 64)      36928     \n",
            "                                                                 \n",
            " block1_pool (MaxPooling2D)  (None, 112, 112, 64)      0         \n",
            "                                                                 \n",
            " block2_conv1 (Conv2D)       (None, 112, 112, 128)     73856     \n",
            "                                                                 \n",
            " block2_conv2 (Conv2D)       (None, 112, 112, 128)     147584    \n",
            "                                                                 \n",
            " block2_pool (MaxPooling2D)  (None, 56, 56, 128)       0         \n",
            "                                                                 \n",
            " block3_conv1 (Conv2D)       (None, 56, 56, 256)       295168    \n",
            "                                                                 \n",
            " block3_conv2 (Conv2D)       (None, 56, 56, 256)       590080    \n",
            "                                                                 \n",
            " block3_conv3 (Conv2D)       (None, 56, 56, 256)       590080    \n",
            "                                                                 \n",
            " block3_conv4 (Conv2D)       (None, 56, 56, 256)       590080    \n",
            "                                                                 \n",
            " block3_pool (MaxPooling2D)  (None, 28, 28, 256)       0         \n",
            "                                                                 \n",
            " block4_conv1 (Conv2D)       (None, 28, 28, 512)       1180160   \n",
            "                                                                 \n",
            " block4_conv2 (Conv2D)       (None, 28, 28, 512)       2359808   \n",
            "                                                                 \n",
            " block4_conv3 (Conv2D)       (None, 28, 28, 512)       2359808   \n",
            "                                                                 \n",
            " block4_conv4 (Conv2D)       (None, 28, 28, 512)       2359808   \n",
            "                                                                 \n",
            " block4_pool (MaxPooling2D)  (None, 14, 14, 512)       0         \n",
            "                                                                 \n",
            " block5_conv1 (Conv2D)       (None, 14, 14, 512)       2359808   \n",
            "                                                                 \n",
            " block5_conv2 (Conv2D)       (None, 14, 14, 512)       2359808   \n",
            "                                                                 \n",
            " block5_conv3 (Conv2D)       (None, 14, 14, 512)       2359808   \n",
            "                                                                 \n",
            " block5_conv4 (Conv2D)       (None, 14, 14, 512)       2359808   \n",
            "                                                                 \n",
            " block5_pool (MaxPooling2D)  (None, 7, 7, 512)         0         \n",
            "                                                                 \n",
            " flatten_17 (Flatten)        (None, 25088)             0         \n",
            "                                                                 \n",
            " dense_34 (Dense)            (None, 4)                 100356    \n",
            "                                                                 \n",
            "=================================================================\n",
            "Total params: 20,124,740\n",
            "Trainable params: 100,356\n",
            "Non-trainable params: 20,024,384\n",
            "_________________________________________________________________\n"
          ]
        }
      ],
      "source": [
        "from keras.applications.vgg19 import VGG19,preprocess_input\n",
        "image_size=[224,224]\n",
        "Vgg=VGG19(input_shape=image_size + [3],weights='imagenet',include_top=False)\n",
        "for layer in Vgg.layers:\n",
        "  layer.trainable=False\n",
        "F=layers.Flatten()(Vgg.output)\n",
        "prediction=layers.Dense(4,activation='softmax')(F)\n",
        "VGG=Model(inputs=Vgg.input,outputs=prediction)\n",
        "VGG.summary()"
      ]
    },
    {
      "cell_type": "code",
      "execution_count": null,
      "metadata": {
        "id": "tqa55kLgQ6v6"
      },
      "outputs": [],
      "source": [
        "VGG.compile(loss=tf.keras.losses.SparseCategoricalCrossentropy(),optimizer='adam',metrics=['accuracy'])"
      ]
    },
    {
      "cell_type": "code",
      "execution_count": null,
      "metadata": {
        "colab": {
          "base_uri": "https://localhost:8080/"
        },
        "id": "eQd6PBYhRJ4W",
        "outputId": "6226d65f-2721-4744-8de6-88c969cb55ca"
      },
      "outputs": [
        {
          "name": "stdout",
          "output_type": "stream",
          "text": [
            "Epoch 1/10\n",
            "2/2 [==============================] - 44s 23s/step - loss: 2.4352 - accuracy: 0.2787\n",
            "Epoch 2/10\n",
            "2/2 [==============================] - 41s 21s/step - loss: 1.7156 - accuracy: 0.4918\n",
            "Epoch 3/10\n",
            "2/2 [==============================] - 45s 26s/step - loss: 1.7248 - accuracy: 0.3934\n",
            "Epoch 4/10\n",
            "2/2 [==============================] - 40s 19s/step - loss: 1.2808 - accuracy: 0.5902\n",
            "Epoch 5/10\n",
            "2/2 [==============================] - 42s 21s/step - loss: 1.1858 - accuracy: 0.5902\n",
            "Epoch 6/10\n",
            "2/2 [==============================] - 40s 21s/step - loss: 0.9359 - accuracy: 0.5082\n",
            "Epoch 7/10\n",
            "2/2 [==============================] - 42s 21s/step - loss: 0.9734 - accuracy: 0.5738\n",
            "Epoch 8/10\n",
            "2/2 [==============================] - 40s 19s/step - loss: 0.6634 - accuracy: 0.7377\n",
            "Epoch 9/10\n",
            "2/2 [==============================] - 40s 19s/step - loss: 0.8238 - accuracy: 0.5902\n",
            "Epoch 10/10\n",
            "2/2 [==============================] - 42s 21s/step - loss: 0.6209 - accuracy: 0.7213\n"
          ]
        },
        {
          "data": {
            "text/plain": [
              "<keras.callbacks.History at 0x7f810a717f10>"
            ]
          },
          "execution_count": 146,
          "metadata": {},
          "output_type": "execute_result"
        }
      ],
      "source": [
        "VGG.fit(datagen.flow(X_train, Y_train,\n",
        "         subset='training'),epochs=10)"
      ]
    },
    {
      "cell_type": "code",
      "execution_count": null,
      "metadata": {
        "colab": {
          "base_uri": "https://localhost:8080/"
        },
        "id": "_poUs2QJRKAq",
        "outputId": "22692120-9620-4e42-f029-548dca30e8f0"
      },
      "outputs": [
        {
          "name": "stdout",
          "output_type": "stream",
          "text": [
            "1/1 [==============================] - 14s 14s/step - loss: 1.6977 - accuracy: 0.4286\n"
          ]
        },
        {
          "data": {
            "text/plain": [
              "[1.6977040767669678, 0.4285714328289032]"
            ]
          },
          "execution_count": 147,
          "metadata": {},
          "output_type": "execute_result"
        }
      ],
      "source": [
        "VGG.evaluate(X_test,Y_test)"
      ]
    },
    {
      "cell_type": "markdown",
      "metadata": {
        "id": "0yoUjNgn3BtY"
      },
      "source": [
        "#skills column as a label (VGG19)"
      ]
    },
    {
      "cell_type": "code",
      "execution_count": null,
      "metadata": {
        "colab": {
          "base_uri": "https://localhost:8080/"
        },
        "id": "xfsDknhG3EGx",
        "outputId": "ad1c2006-4bae-4894-f1e4-0915dcce58ab"
      },
      "outputs": [
        {
          "name": "stdout",
          "output_type": "stream",
          "text": [
            "not done21\n",
            "not done22\n",
            "not done34\n",
            "not done37\n",
            "not done97\n"
          ]
        }
      ],
      "source": [
        "Image_skills_train=[]\n",
        "Image_skills_test=[]\n",
        "\n",
        "for i in range(102):\n",
        "   img=traits[\"photo\"][i]\n",
        "   try:\n",
        "    image_path='/content/drive/MyDrive/image/final segmented image/'+img\n",
        "    image_r=cv2.imread(image_path)\n",
        "    image=cv2.resize(image_r,(224,224))\n",
        "\n",
        "    if i%5==0:\n",
        "      Class=traits[\"skills\"][i]\n",
        "      Image_skills_test.append([image,Class])\n",
        "    else:\n",
        "      Class=traits[\"skills\"][i]\n",
        "      Image_skills_train.append([image,Class])\n",
        "   except:\n",
        "    print(\"not done\"+str(i))"
      ]
    },
    {
      "cell_type": "code",
      "execution_count": null,
      "metadata": {
        "id": "Lzb7OirC3EJn"
      },
      "outputs": [],
      "source": [
        "random.shuffle(Image_skills_train)\n",
        "random.shuffle(Image_skills_test)\n",
        "X_train=[]\n",
        "Y_train=[]\n",
        "X_test=[]\n",
        "Y_test=[]\n",
        "for x,y in Image_skills_train:\n",
        "  X_train.append(x)\n",
        "  Y_train.append(y)\n",
        "for x,y in Image_skills_test:\n",
        "  X_test.append(x)\n",
        "  Y_test.append(y)"
      ]
    },
    {
      "cell_type": "code",
      "execution_count": null,
      "metadata": {
        "id": "VvGvP_yl3EMn"
      },
      "outputs": [],
      "source": [
        "X_train=np.array(X_train).reshape(-1,224,224,3)\n",
        "X_test=np.array(X_test).reshape(-1,224,224,3)\n",
        "X_train=X_train/255.0\n",
        "X_test=X_test/255\n",
        "Y_train=np.array(Y_train)\n",
        "Y_test=np.array(Y_test)"
      ]
    },
    {
      "cell_type": "code",
      "execution_count": null,
      "metadata": {
        "id": "9eGfXaX53EPf"
      },
      "outputs": [],
      "source": [
        "datagen = ImageDataGenerator(\n",
        "    featurewise_center=True,\n",
        "    featurewise_std_normalization=True,\n",
        "    rotation_range=20,\n",
        "    width_shift_range=0.2,\n",
        "    height_shift_range=0.2,\n",
        "    horizontal_flip=True,\n",
        "    validation_split=0.2)"
      ]
    },
    {
      "cell_type": "code",
      "execution_count": null,
      "metadata": {
        "id": "ywp95LCf3ESf"
      },
      "outputs": [],
      "source": [
        "datagen.fit(X_train)"
      ]
    },
    {
      "cell_type": "code",
      "execution_count": null,
      "metadata": {
        "colab": {
          "base_uri": "https://localhost:8080/"
        },
        "id": "2BrIuEq-3EX-",
        "outputId": "5fdb601f-dbd3-44cc-b551-10a38ade4e7f"
      },
      "outputs": [
        {
          "name": "stdout",
          "output_type": "stream",
          "text": [
            "Model: \"model_7\"\n",
            "_________________________________________________________________\n",
            " Layer (type)                Output Shape              Param #   \n",
            "=================================================================\n",
            " input_8 (InputLayer)        [(None, 224, 224, 3)]     0         \n",
            "                                                                 \n",
            " block1_conv1 (Conv2D)       (None, 224, 224, 64)      1792      \n",
            "                                                                 \n",
            " block1_conv2 (Conv2D)       (None, 224, 224, 64)      36928     \n",
            "                                                                 \n",
            " block1_pool (MaxPooling2D)  (None, 112, 112, 64)      0         \n",
            "                                                                 \n",
            " block2_conv1 (Conv2D)       (None, 112, 112, 128)     73856     \n",
            "                                                                 \n",
            " block2_conv2 (Conv2D)       (None, 112, 112, 128)     147584    \n",
            "                                                                 \n",
            " block2_pool (MaxPooling2D)  (None, 56, 56, 128)       0         \n",
            "                                                                 \n",
            " block3_conv1 (Conv2D)       (None, 56, 56, 256)       295168    \n",
            "                                                                 \n",
            " block3_conv2 (Conv2D)       (None, 56, 56, 256)       590080    \n",
            "                                                                 \n",
            " block3_conv3 (Conv2D)       (None, 56, 56, 256)       590080    \n",
            "                                                                 \n",
            " block3_conv4 (Conv2D)       (None, 56, 56, 256)       590080    \n",
            "                                                                 \n",
            " block3_pool (MaxPooling2D)  (None, 28, 28, 256)       0         \n",
            "                                                                 \n",
            " block4_conv1 (Conv2D)       (None, 28, 28, 512)       1180160   \n",
            "                                                                 \n",
            " block4_conv2 (Conv2D)       (None, 28, 28, 512)       2359808   \n",
            "                                                                 \n",
            " block4_conv3 (Conv2D)       (None, 28, 28, 512)       2359808   \n",
            "                                                                 \n",
            " block4_conv4 (Conv2D)       (None, 28, 28, 512)       2359808   \n",
            "                                                                 \n",
            " block4_pool (MaxPooling2D)  (None, 14, 14, 512)       0         \n",
            "                                                                 \n",
            " block5_conv1 (Conv2D)       (None, 14, 14, 512)       2359808   \n",
            "                                                                 \n",
            " block5_conv2 (Conv2D)       (None, 14, 14, 512)       2359808   \n",
            "                                                                 \n",
            " block5_conv3 (Conv2D)       (None, 14, 14, 512)       2359808   \n",
            "                                                                 \n",
            " block5_conv4 (Conv2D)       (None, 14, 14, 512)       2359808   \n",
            "                                                                 \n",
            " block5_pool (MaxPooling2D)  (None, 7, 7, 512)         0         \n",
            "                                                                 \n",
            " flatten_21 (Flatten)        (None, 25088)             0         \n",
            "                                                                 \n",
            " dense_38 (Dense)            (None, 4)                 100356    \n",
            "                                                                 \n",
            "=================================================================\n",
            "Total params: 20,124,740\n",
            "Trainable params: 100,356\n",
            "Non-trainable params: 20,024,384\n",
            "_________________________________________________________________\n"
          ]
        }
      ],
      "source": [
        "from keras.applications.vgg19 import VGG19,preprocess_input\n",
        "image_size=[224,224]\n",
        "Vgg=VGG19(input_shape=image_size + [3],weights='imagenet',include_top=False)\n",
        "for layer in Vgg.layers:\n",
        "  layer.trainable=False\n",
        "F=layers.Flatten()(Vgg.output)\n",
        "prediction=layers.Dense(4,activation='softmax')(F)\n",
        "VGG=Model(inputs=Vgg.input,outputs=prediction)\n",
        "VGG.summary()"
      ]
    },
    {
      "cell_type": "code",
      "execution_count": null,
      "metadata": {
        "id": "1s-QNgP53Ea2"
      },
      "outputs": [],
      "source": [
        "VGG.compile(loss=tf.keras.losses.SparseCategoricalCrossentropy(),optimizer='adam',metrics=['accuracy'])"
      ]
    },
    {
      "cell_type": "code",
      "execution_count": null,
      "metadata": {
        "colab": {
          "base_uri": "https://localhost:8080/"
        },
        "id": "jHI8-mql3Edu",
        "outputId": "afaa4a2e-abb3-4660-8049-903b1717f4df"
      },
      "outputs": [
        {
          "name": "stdout",
          "output_type": "stream",
          "text": [
            "Epoch 1/10\n",
            "3/3 [==============================] - 51s 14s/step - loss: 2.4889 - accuracy: 0.2237\n",
            "Epoch 2/10\n",
            "3/3 [==============================] - 53s 15s/step - loss: 2.5147 - accuracy: 0.5132\n",
            "Epoch 3/10\n",
            "3/3 [==============================] - 50s 15s/step - loss: 1.1554 - accuracy: 0.5526\n",
            "Epoch 4/10\n",
            "3/3 [==============================] - 52s 16s/step - loss: 0.9507 - accuracy: 0.6053\n",
            "Epoch 5/10\n",
            "3/3 [==============================] - 50s 14s/step - loss: 0.6110 - accuracy: 0.8158\n",
            "Epoch 6/10\n",
            "3/3 [==============================] - 50s 14s/step - loss: 0.4908 - accuracy: 0.8289\n",
            "Epoch 7/10\n",
            "3/3 [==============================] - 52s 14s/step - loss: 0.2003 - accuracy: 0.9737\n",
            "Epoch 8/10\n",
            "3/3 [==============================] - 50s 14s/step - loss: 0.2120 - accuracy: 0.9737\n",
            "Epoch 9/10\n",
            "3/3 [==============================] - 52s 16s/step - loss: 0.1422 - accuracy: 0.9605\n",
            "Epoch 10/10\n",
            "3/3 [==============================] - 50s 14s/step - loss: 0.1375 - accuracy: 0.9737\n"
          ]
        },
        {
          "data": {
            "text/plain": [
              "<keras.callbacks.History at 0x7f81082ac040>"
            ]
          },
          "execution_count": 183,
          "metadata": {},
          "output_type": "execute_result"
        }
      ],
      "source": [
        "VGG.fit(X_train, Y_train,epochs=10)"
      ]
    },
    {
      "cell_type": "code",
      "execution_count": null,
      "metadata": {
        "colab": {
          "base_uri": "https://localhost:8080/"
        },
        "id": "1WoKHRyk3XvI",
        "outputId": "44a4ab12-b300-4951-dfbc-e4047450c1c9"
      },
      "outputs": [
        {
          "name": "stdout",
          "output_type": "stream",
          "text": [
            "1/1 [==============================] - 14s 14s/step - loss: 1.3195 - accuracy: 0.7143\n"
          ]
        },
        {
          "data": {
            "text/plain": [
              "[1.3194670677185059, 0.7142857313156128]"
            ]
          },
          "execution_count": 184,
          "metadata": {},
          "output_type": "execute_result"
        }
      ],
      "source": [
        "VGG.evaluate(X_test,Y_test)"
      ]
    },
    {
      "cell_type": "markdown",
      "metadata": {
        "id": "1VHmfFK67Xhu"
      },
      "source": [
        "#communication skills column as a label (VGG19)"
      ]
    },
    {
      "cell_type": "code",
      "execution_count": null,
      "metadata": {
        "colab": {
          "base_uri": "https://localhost:8080/"
        },
        "id": "56Cjquqi7mCX",
        "outputId": "178147d5-812c-45ac-ded9-473685ebb7b5"
      },
      "outputs": [
        {
          "name": "stdout",
          "output_type": "stream",
          "text": [
            "not done21\n",
            "not done22\n",
            "not done34\n",
            "not done37\n",
            "not done97\n"
          ]
        }
      ],
      "source": [
        "Image_communication_skills_train=[]\n",
        "Image_communication_skills_test=[]\n",
        "\n",
        "for i in range(102):\n",
        "   img=traits[\"photo\"][i]\n",
        "   try:\n",
        "    image_path='/content/drive/MyDrive/image/final segmented image/'+img\n",
        "    image_r=cv2.imread(image_path)\n",
        "    image=cv2.resize(image_r,(224,224))\n",
        "\n",
        "    if i%5==0:\n",
        "      Class=traits[\"communication skills\"][i]\n",
        "      Image_communication_skills_test.append([image,Class])\n",
        "    else:\n",
        "      Class=traits[\"communication skills\"][i]\n",
        "      Image_communication_skills_train.append([image,Class])\n",
        "   except:\n",
        "    print(\"not done\"+str(i))"
      ]
    },
    {
      "cell_type": "code",
      "execution_count": null,
      "metadata": {
        "id": "jXM3Di5O7mFe"
      },
      "outputs": [],
      "source": [
        "random.shuffle(Image_communication_skills_train)\n",
        "random.shuffle(Image_communication_skills_test)\n",
        "X_train=[]\n",
        "Y_train=[]\n",
        "X_test=[]\n",
        "Y_test=[]\n",
        "for x,y in Image_communication_skills_train:\n",
        "  X_train.append(x)\n",
        "  Y_train.append(y)\n",
        "for x,y in Image_communication_skills_test:\n",
        "  X_test.append(x)\n",
        "  Y_test.append(y)"
      ]
    },
    {
      "cell_type": "code",
      "execution_count": null,
      "metadata": {
        "id": "w-_W7Ren7mMu"
      },
      "outputs": [],
      "source": [
        "X_train=np.array(X_train).reshape(-1,224,224,3)\n",
        "X_test=np.array(X_test).reshape(-1,224,224,3)\n",
        "X_train=X_train/255.0\n",
        "X_test=X_test/255\n",
        "Y_train=np.array(Y_train)\n",
        "Y_test=np.array(Y_test)"
      ]
    },
    {
      "cell_type": "code",
      "execution_count": null,
      "metadata": {
        "id": "YVVY2wHO7mPm"
      },
      "outputs": [],
      "source": [
        "datagen = ImageDataGenerator(\n",
        "    featurewise_center=True,\n",
        "    featurewise_std_normalization=True,\n",
        "    rotation_range=20,\n",
        "    width_shift_range=0.2,\n",
        "    height_shift_range=0.2,\n",
        "    horizontal_flip=True,\n",
        "    validation_split=0.2)\n",
        "datagen.fit(X_train)"
      ]
    },
    {
      "cell_type": "code",
      "execution_count": null,
      "metadata": {
        "colab": {
          "base_uri": "https://localhost:8080/"
        },
        "id": "T0RUA31f7mTI",
        "outputId": "56658305-94ce-4ccb-d8eb-bde2aa16e106"
      },
      "outputs": [
        {
          "name": "stdout",
          "output_type": "stream",
          "text": [
            "Model: \"model_9\"\n",
            "_________________________________________________________________\n",
            " Layer (type)                Output Shape              Param #   \n",
            "=================================================================\n",
            " input_10 (InputLayer)       [(None, 224, 224, 3)]     0         \n",
            "                                                                 \n",
            " block1_conv1 (Conv2D)       (None, 224, 224, 64)      1792      \n",
            "                                                                 \n",
            " block1_conv2 (Conv2D)       (None, 224, 224, 64)      36928     \n",
            "                                                                 \n",
            " block1_pool (MaxPooling2D)  (None, 112, 112, 64)      0         \n",
            "                                                                 \n",
            " block2_conv1 (Conv2D)       (None, 112, 112, 128)     73856     \n",
            "                                                                 \n",
            " block2_conv2 (Conv2D)       (None, 112, 112, 128)     147584    \n",
            "                                                                 \n",
            " block2_pool (MaxPooling2D)  (None, 56, 56, 128)       0         \n",
            "                                                                 \n",
            " block3_conv1 (Conv2D)       (None, 56, 56, 256)       295168    \n",
            "                                                                 \n",
            " block3_conv2 (Conv2D)       (None, 56, 56, 256)       590080    \n",
            "                                                                 \n",
            " block3_conv3 (Conv2D)       (None, 56, 56, 256)       590080    \n",
            "                                                                 \n",
            " block3_conv4 (Conv2D)       (None, 56, 56, 256)       590080    \n",
            "                                                                 \n",
            " block3_pool (MaxPooling2D)  (None, 28, 28, 256)       0         \n",
            "                                                                 \n",
            " block4_conv1 (Conv2D)       (None, 28, 28, 512)       1180160   \n",
            "                                                                 \n",
            " block4_conv2 (Conv2D)       (None, 28, 28, 512)       2359808   \n",
            "                                                                 \n",
            " block4_conv3 (Conv2D)       (None, 28, 28, 512)       2359808   \n",
            "                                                                 \n",
            " block4_conv4 (Conv2D)       (None, 28, 28, 512)       2359808   \n",
            "                                                                 \n",
            " block4_pool (MaxPooling2D)  (None, 14, 14, 512)       0         \n",
            "                                                                 \n",
            " block5_conv1 (Conv2D)       (None, 14, 14, 512)       2359808   \n",
            "                                                                 \n",
            " block5_conv2 (Conv2D)       (None, 14, 14, 512)       2359808   \n",
            "                                                                 \n",
            " block5_conv3 (Conv2D)       (None, 14, 14, 512)       2359808   \n",
            "                                                                 \n",
            " block5_conv4 (Conv2D)       (None, 14, 14, 512)       2359808   \n",
            "                                                                 \n",
            " block5_pool (MaxPooling2D)  (None, 7, 7, 512)         0         \n",
            "                                                                 \n",
            " flatten_23 (Flatten)        (None, 25088)             0         \n",
            "                                                                 \n",
            " dense_40 (Dense)            (None, 10)                250890    \n",
            "                                                                 \n",
            "=================================================================\n",
            "Total params: 20,275,274\n",
            "Trainable params: 250,890\n",
            "Non-trainable params: 20,024,384\n",
            "_________________________________________________________________\n"
          ]
        }
      ],
      "source": [
        "from keras.applications.vgg19 import VGG19,preprocess_input\n",
        "image_size=[224,224]\n",
        "Vgg=VGG19(input_shape=image_size + [3],weights='imagenet',include_top=False)\n",
        "for layer in Vgg.layers:\n",
        "  layer.trainable=False\n",
        "F=layers.Flatten()(Vgg.output)\n",
        "prediction=layers.Dense(10,activation='softmax')(F)\n",
        "VGG=Model(inputs=Vgg.input,outputs=prediction)\n",
        "VGG.summary()"
      ]
    },
    {
      "cell_type": "code",
      "execution_count": null,
      "metadata": {
        "colab": {
          "base_uri": "https://localhost:8080/"
        },
        "id": "D40JTYBb7mWv",
        "outputId": "776f0b0d-5e8a-48b7-d8d7-9c8ace476d58"
      },
      "outputs": [
        {
          "name": "stdout",
          "output_type": "stream",
          "text": [
            "Epoch 1/10\n",
            "3/3 [==============================] - 69s 21s/step - loss: 29.2488 - accuracy: 0.0789\n",
            "Epoch 2/10\n",
            "3/3 [==============================] - 49s 14s/step - loss: 32.3147 - accuracy: 0.0658\n",
            "Epoch 3/10\n",
            "3/3 [==============================] - 52s 16s/step - loss: 29.6524 - accuracy: 0.1579\n",
            "Epoch 4/10\n",
            "3/3 [==============================] - 49s 14s/step - loss: 29.0038 - accuracy: 0.1053\n",
            "Epoch 5/10\n",
            "3/3 [==============================] - 50s 14s/step - loss: 22.0519 - accuracy: 0.0921\n",
            "Epoch 6/10\n",
            "3/3 [==============================] - 52s 14s/step - loss: 22.2883 - accuracy: 0.0921\n",
            "Epoch 7/10\n",
            "3/3 [==============================] - 50s 14s/step - loss: 21.1446 - accuracy: 0.0263\n",
            "Epoch 8/10\n",
            "3/3 [==============================] - 52s 15s/step - loss: 19.2684 - accuracy: 0.1579\n",
            "Epoch 9/10\n",
            "3/3 [==============================] - 49s 14s/step - loss: 18.6398 - accuracy: 0.1053\n",
            "Epoch 10/10\n",
            "3/3 [==============================] - 49s 14s/step - loss: 17.9546 - accuracy: 0.1053\n"
          ]
        },
        {
          "data": {
            "text/plain": [
              "<keras.callbacks.History at 0x7f810801d6d0>"
            ]
          },
          "execution_count": 196,
          "metadata": {},
          "output_type": "execute_result"
        }
      ],
      "source": [
        "VGG.compile(loss=tf.keras.losses.Poisson(),optimizer='adam',metrics=['accuracy'])\n",
        "VGG.fit(X_train, Y_train,epochs=10)"
      ]
    },
    {
      "cell_type": "code",
      "execution_count": null,
      "metadata": {
        "colab": {
          "base_uri": "https://localhost:8080/"
        },
        "id": "X-KdM7PX7mZ2",
        "outputId": "90653020-0bc2-4aec-f861-8bfcb24d833f"
      },
      "outputs": [
        {
          "name": "stdout",
          "output_type": "stream",
          "text": [
            "1/1 [==============================] - 16s 16s/step - loss: 13.6933 - accuracy: 0.0952\n"
          ]
        },
        {
          "data": {
            "text/plain": [
              "[13.693263053894043, 0.095238097012043]"
            ]
          },
          "execution_count": 197,
          "metadata": {},
          "output_type": "execute_result"
        }
      ],
      "source": [
        "VGG.evaluate(X_test,Y_test)"
      ]
    },
    {
      "cell_type": "markdown",
      "metadata": {
        "id": "jLu2VNNa8Z8n"
      },
      "source": [
        "#hang out column as a label (VGG19)"
      ]
    },
    {
      "cell_type": "code",
      "execution_count": null,
      "metadata": {
        "colab": {
          "base_uri": "https://localhost:8080/"
        },
        "id": "qQLw1oij8hMf",
        "outputId": "9c2505ff-29b4-48fc-d709-95270ee9ce91"
      },
      "outputs": [
        {
          "name": "stdout",
          "output_type": "stream",
          "text": [
            "not done21\n",
            "not done22\n",
            "not done34\n",
            "not done37\n",
            "not done97\n"
          ]
        }
      ],
      "source": [
        "Image_hang_out_train=[]\n",
        "Image_hang_out_test=[]\n",
        "\n",
        "for i in range(102):\n",
        "   img=traits[\"photo\"][i]\n",
        "   try:\n",
        "    image_path='/content/drive/MyDrive/image/final segmented image/'+img\n",
        "    image_r=cv2.imread(image_path)\n",
        "    image=cv2.resize(image_r,(224,224))\n",
        "\n",
        "    if i%5==0:\n",
        "      Class=traits[\"hang out\"][i]\n",
        "      Image_hang_out_test.append([image,Class])\n",
        "    else:\n",
        "      Class=traits[\"hang out\"][i]\n",
        "      Image_hang_out_train.append([image,Class])\n",
        "   except:\n",
        "    print(\"not done\"+str(i))"
      ]
    },
    {
      "cell_type": "code",
      "execution_count": null,
      "metadata": {
        "id": "sTO9l4kS8hQG"
      },
      "outputs": [],
      "source": [
        "random.shuffle(Image_hang_out_train)\n",
        "random.shuffle(Image_hang_out_test)\n",
        "X_train=[]\n",
        "Y_train=[]\n",
        "X_test=[]\n",
        "Y_test=[]\n",
        "for x,y in Image_hang_out_train:\n",
        "  X_train.append(x)\n",
        "  Y_train.append(y)\n",
        "for x,y in Image_hang_out_test:\n",
        "  X_test.append(x)\n",
        "  Y_test.append(y)"
      ]
    },
    {
      "cell_type": "code",
      "execution_count": null,
      "metadata": {
        "id": "b1jqPju58hTW"
      },
      "outputs": [],
      "source": [
        "X_train=np.array(X_train).reshape(-1,224,224,3)\n",
        "X_test=np.array(X_test).reshape(-1,224,224,3)\n",
        "X_train=X_train/255.0\n",
        "X_test=X_test/255\n",
        "Y_train=np.array(Y_train)\n",
        "Y_test=np.array(Y_test)"
      ]
    },
    {
      "cell_type": "code",
      "execution_count": null,
      "metadata": {
        "id": "uTE51ZbT8hWO"
      },
      "outputs": [],
      "source": [
        "datagen = ImageDataGenerator(\n",
        "    featurewise_center=True,\n",
        "    featurewise_std_normalization=True,\n",
        "    rotation_range=20,\n",
        "    width_shift_range=0.2,\n",
        "    height_shift_range=0.2,\n",
        "    horizontal_flip=True,\n",
        "    validation_split=0.2)\n",
        "datagen.fit(X_train)"
      ]
    },
    {
      "cell_type": "code",
      "execution_count": null,
      "metadata": {
        "colab": {
          "base_uri": "https://localhost:8080/"
        },
        "id": "BbW522sl8hZH",
        "outputId": "b2485068-d4cd-4eca-a41e-e660ad6afaa5"
      },
      "outputs": [
        {
          "name": "stdout",
          "output_type": "stream",
          "text": [
            "Downloading data from https://storage.googleapis.com/tensorflow/keras-applications/vgg19/vgg19_weights_tf_dim_ordering_tf_kernels_notop.h5\n",
            "80134624/80134624 [==============================] - 1s 0us/step\n",
            "Model: \"model\"\n",
            "_________________________________________________________________\n",
            " Layer (type)                Output Shape              Param #   \n",
            "=================================================================\n",
            " input_1 (InputLayer)        [(None, 224, 224, 3)]     0         \n",
            "                                                                 \n",
            " block1_conv1 (Conv2D)       (None, 224, 224, 64)      1792      \n",
            "                                                                 \n",
            " block1_conv2 (Conv2D)       (None, 224, 224, 64)      36928     \n",
            "                                                                 \n",
            " block1_pool (MaxPooling2D)  (None, 112, 112, 64)      0         \n",
            "                                                                 \n",
            " block2_conv1 (Conv2D)       (None, 112, 112, 128)     73856     \n",
            "                                                                 \n",
            " block2_conv2 (Conv2D)       (None, 112, 112, 128)     147584    \n",
            "                                                                 \n",
            " block2_pool (MaxPooling2D)  (None, 56, 56, 128)       0         \n",
            "                                                                 \n",
            " block3_conv1 (Conv2D)       (None, 56, 56, 256)       295168    \n",
            "                                                                 \n",
            " block3_conv2 (Conv2D)       (None, 56, 56, 256)       590080    \n",
            "                                                                 \n",
            " block3_conv3 (Conv2D)       (None, 56, 56, 256)       590080    \n",
            "                                                                 \n",
            " block3_conv4 (Conv2D)       (None, 56, 56, 256)       590080    \n",
            "                                                                 \n",
            " block3_pool (MaxPooling2D)  (None, 28, 28, 256)       0         \n",
            "                                                                 \n",
            " block4_conv1 (Conv2D)       (None, 28, 28, 512)       1180160   \n",
            "                                                                 \n",
            " block4_conv2 (Conv2D)       (None, 28, 28, 512)       2359808   \n",
            "                                                                 \n",
            " block4_conv3 (Conv2D)       (None, 28, 28, 512)       2359808   \n",
            "                                                                 \n",
            " block4_conv4 (Conv2D)       (None, 28, 28, 512)       2359808   \n",
            "                                                                 \n",
            " block4_pool (MaxPooling2D)  (None, 14, 14, 512)       0         \n",
            "                                                                 \n",
            " block5_conv1 (Conv2D)       (None, 14, 14, 512)       2359808   \n",
            "                                                                 \n",
            " block5_conv2 (Conv2D)       (None, 14, 14, 512)       2359808   \n",
            "                                                                 \n",
            " block5_conv3 (Conv2D)       (None, 14, 14, 512)       2359808   \n",
            "                                                                 \n",
            " block5_conv4 (Conv2D)       (None, 14, 14, 512)       2359808   \n",
            "                                                                 \n",
            " block5_pool (MaxPooling2D)  (None, 7, 7, 512)         0         \n",
            "                                                                 \n",
            " flatten (Flatten)           (None, 25088)             0         \n",
            "                                                                 \n",
            " dense (Dense)               (None, 3)                 75267     \n",
            "                                                                 \n",
            "=================================================================\n",
            "Total params: 20,099,651\n",
            "Trainable params: 75,267\n",
            "Non-trainable params: 20,024,384\n",
            "_________________________________________________________________\n"
          ]
        }
      ],
      "source": [
        "from keras.applications.vgg19 import VGG19,preprocess_input\n",
        "image_size=[224,224]\n",
        "Vgg=VGG19(input_shape=image_size + [3],weights='imagenet',include_top=False)\n",
        "for layer in Vgg.layers:\n",
        "  layer.trainable=False\n",
        "F=layers.Flatten()(Vgg.output)\n",
        "prediction=layers.Dense(3,activation='softmax')(F)\n",
        "VGG=Model(inputs=Vgg.input,outputs=prediction)\n",
        "VGG.summary()"
      ]
    },
    {
      "cell_type": "code",
      "execution_count": null,
      "metadata": {
        "colab": {
          "base_uri": "https://localhost:8080/"
        },
        "id": "5APBFJvu8hfn",
        "outputId": "dfc0cbb6-a4e6-4323-8053-dd0297b7c406"
      },
      "outputs": [
        {
          "name": "stdout",
          "output_type": "stream",
          "text": [
            "Epoch 1/10\n",
            "3/3 [==============================] - 49s 14s/step - loss: 3.1824 - accuracy: 0.3816\n",
            "Epoch 2/10\n",
            "3/3 [==============================] - 47s 14s/step - loss: 2.5109 - accuracy: 0.3421\n",
            "Epoch 3/10\n",
            "3/3 [==============================] - 48s 14s/step - loss: 2.6381 - accuracy: 0.2237\n",
            "Epoch 4/10\n",
            "3/3 [==============================] - 50s 14s/step - loss: 2.6317 - accuracy: 0.1053\n",
            "Epoch 5/10\n",
            "3/3 [==============================] - 48s 14s/step - loss: 1.8946 - accuracy: 0.6184\n",
            "Epoch 6/10\n",
            "3/3 [==============================] - 49s 14s/step - loss: 2.0973 - accuracy: 0.1579\n",
            "Epoch 7/10\n",
            "3/3 [==============================] - 48s 14s/step - loss: 1.8946 - accuracy: 0.3026\n",
            "Epoch 8/10\n",
            "3/3 [==============================] - 50s 15s/step - loss: 1.7469 - accuracy: 0.3684\n",
            "Epoch 9/10\n",
            "3/3 [==============================] - 48s 14s/step - loss: 1.7694 - accuracy: 0.1447\n",
            "Epoch 10/10\n",
            "3/3 [==============================] - 48s 14s/step - loss: 1.7282 - accuracy: 0.5263\n"
          ]
        },
        {
          "data": {
            "text/plain": [
              "<keras.callbacks.History at 0x7f4870d12430>"
            ]
          },
          "execution_count": 50,
          "metadata": {},
          "output_type": "execute_result"
        }
      ],
      "source": [
        "VGG.compile(loss=tf.keras.losses.Poisson(),optimizer='adam',metrics=['accuracy'])\n",
        "VGG.fit(X_train, Y_train,epochs=10)"
      ]
    },
    {
      "cell_type": "code",
      "execution_count": null,
      "metadata": {
        "colab": {
          "base_uri": "https://localhost:8080/"
        },
        "id": "nQRtBCJV8him",
        "outputId": "31b4ce2d-6a50-4711-94cd-8b59c3e44b6e"
      },
      "outputs": [
        {
          "name": "stdout",
          "output_type": "stream",
          "text": [
            "1/1 [==============================] - 14s 14s/step - loss: 1.9900 - accuracy: 0.0952\n"
          ]
        },
        {
          "data": {
            "text/plain": [
              "[1.9899513721466064, 0.095238097012043]"
            ]
          },
          "execution_count": 51,
          "metadata": {},
          "output_type": "execute_result"
        }
      ],
      "source": [
        "VGG.evaluate(X_test,Y_test)"
      ]
    },
    {
      "cell_type": "markdown",
      "metadata": {
        "id": "mE2yiIx-YdhQ"
      },
      "source": [
        "# punctuality column as a label (VGG19)"
      ]
    },
    {
      "cell_type": "code",
      "execution_count": null,
      "metadata": {
        "colab": {
          "base_uri": "https://localhost:8080/"
        },
        "id": "Jk9CO_ZQYsU3",
        "outputId": "2639f070-9c9e-45db-8fea-7d65117d02ed"
      },
      "outputs": [
        {
          "name": "stdout",
          "output_type": "stream",
          "text": [
            "not done21\n",
            "not done22\n",
            "not done34\n",
            "not done37\n",
            "not done97\n"
          ]
        }
      ],
      "source": [
        "Image_punctuality_train=[]\n",
        "Image_punctuality_test=[]\n",
        "\n",
        "for i in range(102):\n",
        "   img=traits[\"photo\"][i]\n",
        "   try:\n",
        "    image_path='/content/drive/MyDrive/image/final segmented image/'+img\n",
        "    image_r=cv2.imread(image_path)\n",
        "    image=cv2.resize(image_r,(224,224))\n",
        "\n",
        "    if i%5==0:\n",
        "      Class=traits[\"punctuality\"][i]\n",
        "      Image_punctuality_test.append([image,Class])\n",
        "    else:\n",
        "      Class=traits[\"punctuality\"][i]\n",
        "      Image_punctuality_train.append([image,Class])\n",
        "   except:\n",
        "    print(\"not done\"+str(i))"
      ]
    },
    {
      "cell_type": "code",
      "execution_count": null,
      "metadata": {
        "id": "Wd6YPfIAY0Dv"
      },
      "outputs": [],
      "source": [
        "random.shuffle(Image_punctuality_train)\n",
        "random.shuffle(Image_punctuality_test)\n",
        "X_train=[]\n",
        "Y_train=[]\n",
        "X_test=[]\n",
        "Y_test=[]\n",
        "for x,y in Image_punctuality_train:\n",
        "  X_train.append(x)\n",
        "  Y_train.append(y)\n",
        "for x,y in Image_punctuality_test:\n",
        "  X_test.append(x)\n",
        "  Y_test.append(y)"
      ]
    },
    {
      "cell_type": "code",
      "execution_count": null,
      "metadata": {
        "id": "4FmmfA17Y0G3"
      },
      "outputs": [],
      "source": [
        "X_train=np.array(X_train).reshape(-1,224,224,3)\n",
        "X_test=np.array(X_test).reshape(-1,224,224,3)\n",
        "X_train=X_train/255.0\n",
        "X_test=X_test/255\n",
        "Y_train=np.array(Y_train)\n",
        "Y_test=np.array(Y_test)"
      ]
    },
    {
      "cell_type": "code",
      "execution_count": null,
      "metadata": {
        "id": "4nWgaDO2Y0J3"
      },
      "outputs": [],
      "source": [
        "datagen = ImageDataGenerator(\n",
        "    featurewise_center=True,\n",
        "    featurewise_std_normalization=True,\n",
        "    rotation_range=20,\n",
        "    width_shift_range=0.2,\n",
        "    height_shift_range=0.2,\n",
        "    horizontal_flip=True,\n",
        "    validation_split=0.2)\n",
        "datagen.fit(X_train)"
      ]
    },
    {
      "cell_type": "code",
      "execution_count": null,
      "metadata": {
        "colab": {
          "base_uri": "https://localhost:8080/"
        },
        "id": "9XC8gjxUY0Mh",
        "outputId": "a870d22d-c1f5-4d00-cb83-171616eed104"
      },
      "outputs": [
        {
          "name": "stdout",
          "output_type": "stream",
          "text": [
            "Model: \"model_1\"\n",
            "_________________________________________________________________\n",
            " Layer (type)                Output Shape              Param #   \n",
            "=================================================================\n",
            " input_2 (InputLayer)        [(None, 224, 224, 3)]     0         \n",
            "                                                                 \n",
            " block1_conv1 (Conv2D)       (None, 224, 224, 64)      1792      \n",
            "                                                                 \n",
            " block1_conv2 (Conv2D)       (None, 224, 224, 64)      36928     \n",
            "                                                                 \n",
            " block1_pool (MaxPooling2D)  (None, 112, 112, 64)      0         \n",
            "                                                                 \n",
            " block2_conv1 (Conv2D)       (None, 112, 112, 128)     73856     \n",
            "                                                                 \n",
            " block2_conv2 (Conv2D)       (None, 112, 112, 128)     147584    \n",
            "                                                                 \n",
            " block2_pool (MaxPooling2D)  (None, 56, 56, 128)       0         \n",
            "                                                                 \n",
            " block3_conv1 (Conv2D)       (None, 56, 56, 256)       295168    \n",
            "                                                                 \n",
            " block3_conv2 (Conv2D)       (None, 56, 56, 256)       590080    \n",
            "                                                                 \n",
            " block3_conv3 (Conv2D)       (None, 56, 56, 256)       590080    \n",
            "                                                                 \n",
            " block3_conv4 (Conv2D)       (None, 56, 56, 256)       590080    \n",
            "                                                                 \n",
            " block3_pool (MaxPooling2D)  (None, 28, 28, 256)       0         \n",
            "                                                                 \n",
            " block4_conv1 (Conv2D)       (None, 28, 28, 512)       1180160   \n",
            "                                                                 \n",
            " block4_conv2 (Conv2D)       (None, 28, 28, 512)       2359808   \n",
            "                                                                 \n",
            " block4_conv3 (Conv2D)       (None, 28, 28, 512)       2359808   \n",
            "                                                                 \n",
            " block4_conv4 (Conv2D)       (None, 28, 28, 512)       2359808   \n",
            "                                                                 \n",
            " block4_pool (MaxPooling2D)  (None, 14, 14, 512)       0         \n",
            "                                                                 \n",
            " block5_conv1 (Conv2D)       (None, 14, 14, 512)       2359808   \n",
            "                                                                 \n",
            " block5_conv2 (Conv2D)       (None, 14, 14, 512)       2359808   \n",
            "                                                                 \n",
            " block5_conv3 (Conv2D)       (None, 14, 14, 512)       2359808   \n",
            "                                                                 \n",
            " block5_conv4 (Conv2D)       (None, 14, 14, 512)       2359808   \n",
            "                                                                 \n",
            " block5_pool (MaxPooling2D)  (None, 7, 7, 512)         0         \n",
            "                                                                 \n",
            " flatten_1 (Flatten)         (None, 25088)             0         \n",
            "                                                                 \n",
            " dense_1 (Dense)             (None, 10)                250890    \n",
            "                                                                 \n",
            "=================================================================\n",
            "Total params: 20,275,274\n",
            "Trainable params: 250,890\n",
            "Non-trainable params: 20,024,384\n",
            "_________________________________________________________________\n"
          ]
        }
      ],
      "source": [
        "from keras.applications.vgg19 import VGG19,preprocess_input\n",
        "image_size=[224,224]\n",
        "Vgg=VGG19(input_shape=image_size + [3],weights='imagenet',include_top=False)\n",
        "for layer in Vgg.layers:\n",
        "  layer.trainable=False\n",
        "F=layers.Flatten()(Vgg.output)\n",
        "prediction=layers.Dense(10,activation='softmax')(F)\n",
        "VGG=Model(inputs=Vgg.input,outputs=prediction)\n",
        "VGG.summary()"
      ]
    },
    {
      "cell_type": "code",
      "execution_count": null,
      "metadata": {
        "colab": {
          "base_uri": "https://localhost:8080/"
        },
        "id": "PAxX-E8UY0PP",
        "outputId": "5580c0fc-bcdf-43a5-fc7f-5dfbbab8d0ad"
      },
      "outputs": [
        {
          "name": "stdout",
          "output_type": "stream",
          "text": [
            "Epoch 1/10\n",
            "3/3 [==============================] - 48s 14s/step - loss: 24.7676 - accuracy: 0.0132\n",
            "Epoch 2/10\n",
            "3/3 [==============================] - 49s 15s/step - loss: 31.7096 - accuracy: 0.1053\n",
            "Epoch 3/10\n",
            "3/3 [==============================] - 47s 14s/step - loss: 29.4779 - accuracy: 0.1579\n",
            "Epoch 4/10\n",
            "3/3 [==============================] - 48s 14s/step - loss: 30.4764 - accuracy: 0.0263\n",
            "Epoch 5/10\n",
            "3/3 [==============================] - 48s 14s/step - loss: 28.6894 - accuracy: 0.1053\n",
            "Epoch 6/10\n",
            "3/3 [==============================] - 49s 15s/step - loss: 25.8674 - accuracy: 0.1447\n",
            "Epoch 7/10\n",
            "3/3 [==============================] - 47s 14s/step - loss: 27.0084 - accuracy: 0.0658\n",
            "Epoch 8/10\n",
            "3/3 [==============================] - 50s 14s/step - loss: 24.9851 - accuracy: 0.1053\n",
            "Epoch 9/10\n",
            "3/3 [==============================] - 48s 14s/step - loss: 25.4046 - accuracy: 0.1184\n",
            "Epoch 10/10\n",
            "3/3 [==============================] - 48s 14s/step - loss: 24.5377 - accuracy: 0.0658\n"
          ]
        },
        {
          "data": {
            "text/plain": [
              "<keras.callbacks.History at 0x7f486bb29130>"
            ]
          },
          "execution_count": 57,
          "metadata": {},
          "output_type": "execute_result"
        }
      ],
      "source": [
        "VGG.compile(loss=tf.keras.losses.Poisson(),optimizer='adam',metrics=['accuracy'])\n",
        "VGG.fit(X_train, Y_train,epochs=10)"
      ]
    },
    {
      "cell_type": "code",
      "execution_count": null,
      "metadata": {
        "colab": {
          "base_uri": "https://localhost:8080/"
        },
        "id": "_gXYjo3vY0Rn",
        "outputId": "eb0d4594-9183-43f2-e919-705a454d989c"
      },
      "outputs": [
        {
          "name": "stdout",
          "output_type": "stream",
          "text": [
            "1/1 [==============================] - 14s 14s/step - loss: 24.0594 - accuracy: 0.1429\n"
          ]
        },
        {
          "data": {
            "text/plain": [
              "[24.059436798095703, 0.1428571492433548]"
            ]
          },
          "execution_count": 58,
          "metadata": {},
          "output_type": "execute_result"
        }
      ],
      "source": [
        "VGG.evaluate(X_test,Y_test)"
      ]
    },
    {
      "cell_type": "markdown",
      "metadata": {
        "id": "wqIq36h8ZcQS"
      },
      "source": [
        "#social media column as a label (VGG19)"
      ]
    },
    {
      "cell_type": "code",
      "execution_count": null,
      "metadata": {
        "colab": {
          "base_uri": "https://localhost:8080/"
        },
        "id": "Y0Oo1YcWZhS4",
        "outputId": "0fa2ea27-3da0-440d-8407-886f2d9cb305"
      },
      "outputs": [
        {
          "name": "stdout",
          "output_type": "stream",
          "text": [
            "not done21\n",
            "not done22\n",
            "not done34\n",
            "not done37\n",
            "not done97\n"
          ]
        }
      ],
      "source": [
        "Image_social_media_train=[]\n",
        "Image_social_media_test=[]\n",
        "\n",
        "for i in range(102):\n",
        "   img=traits[\"photo\"][i]\n",
        "   try:\n",
        "    image_path='/content/drive/MyDrive/image/final segmented image/'+img\n",
        "    image_r=cv2.imread(image_path)\n",
        "    image=cv2.resize(image_r,(224,224))\n",
        "\n",
        "    if i%5==0:\n",
        "      Class=traits[\"social media\"][i]\n",
        "      Image_social_media_test.append([image,Class])\n",
        "    else:\n",
        "      Class=traits[\"social media\"][i]\n",
        "      Image_social_media_train.append([image,Class])\n",
        "   except:\n",
        "    print(\"not done\"+str(i))"
      ]
    },
    {
      "cell_type": "code",
      "execution_count": null,
      "metadata": {
        "id": "SEf8NNkyZhXP"
      },
      "outputs": [],
      "source": [
        "random.shuffle(Image_social_media_train)\n",
        "random.shuffle(Image_social_media_test)\n",
        "X_train=[]\n",
        "Y_train=[]\n",
        "X_test=[]\n",
        "Y_test=[]\n",
        "for x,y in Image_social_media_train:\n",
        "  X_train.append(x)\n",
        "  Y_train.append(y)\n",
        "for x,y in Image_social_media_test:\n",
        "  X_test.append(x)\n",
        "  Y_test.append(y)"
      ]
    },
    {
      "cell_type": "code",
      "execution_count": null,
      "metadata": {
        "id": "HzBtC9VEZhaX"
      },
      "outputs": [],
      "source": [
        "X_train=np.array(X_train).reshape(-1,224,224,3)\n",
        "X_test=np.array(X_test).reshape(-1,224,224,3)\n",
        "X_train=X_train/255.0\n",
        "X_test=X_test/255\n",
        "Y_train=np.array(Y_train)\n",
        "Y_test=np.array(Y_test)"
      ]
    },
    {
      "cell_type": "code",
      "execution_count": null,
      "metadata": {
        "id": "gc1gNY7mZhdO"
      },
      "outputs": [],
      "source": [
        "datagen = ImageDataGenerator(\n",
        "    featurewise_center=True,\n",
        "    featurewise_std_normalization=True,\n",
        "    rotation_range=20,\n",
        "    width_shift_range=0.2,\n",
        "    height_shift_range=0.2,\n",
        "    horizontal_flip=True,\n",
        "    validation_split=0.2)\n",
        "datagen.fit(X_train)"
      ]
    },
    {
      "cell_type": "code",
      "execution_count": null,
      "metadata": {
        "colab": {
          "base_uri": "https://localhost:8080/"
        },
        "id": "N-rCTbFtZhgH",
        "outputId": "15f209b2-2e63-42a7-842f-8bc321291bce"
      },
      "outputs": [
        {
          "name": "stdout",
          "output_type": "stream",
          "text": [
            "Model: \"model_2\"\n",
            "_________________________________________________________________\n",
            " Layer (type)                Output Shape              Param #   \n",
            "=================================================================\n",
            " input_3 (InputLayer)        [(None, 224, 224, 3)]     0         \n",
            "                                                                 \n",
            " block1_conv1 (Conv2D)       (None, 224, 224, 64)      1792      \n",
            "                                                                 \n",
            " block1_conv2 (Conv2D)       (None, 224, 224, 64)      36928     \n",
            "                                                                 \n",
            " block1_pool (MaxPooling2D)  (None, 112, 112, 64)      0         \n",
            "                                                                 \n",
            " block2_conv1 (Conv2D)       (None, 112, 112, 128)     73856     \n",
            "                                                                 \n",
            " block2_conv2 (Conv2D)       (None, 112, 112, 128)     147584    \n",
            "                                                                 \n",
            " block2_pool (MaxPooling2D)  (None, 56, 56, 128)       0         \n",
            "                                                                 \n",
            " block3_conv1 (Conv2D)       (None, 56, 56, 256)       295168    \n",
            "                                                                 \n",
            " block3_conv2 (Conv2D)       (None, 56, 56, 256)       590080    \n",
            "                                                                 \n",
            " block3_conv3 (Conv2D)       (None, 56, 56, 256)       590080    \n",
            "                                                                 \n",
            " block3_conv4 (Conv2D)       (None, 56, 56, 256)       590080    \n",
            "                                                                 \n",
            " block3_pool (MaxPooling2D)  (None, 28, 28, 256)       0         \n",
            "                                                                 \n",
            " block4_conv1 (Conv2D)       (None, 28, 28, 512)       1180160   \n",
            "                                                                 \n",
            " block4_conv2 (Conv2D)       (None, 28, 28, 512)       2359808   \n",
            "                                                                 \n",
            " block4_conv3 (Conv2D)       (None, 28, 28, 512)       2359808   \n",
            "                                                                 \n",
            " block4_conv4 (Conv2D)       (None, 28, 28, 512)       2359808   \n",
            "                                                                 \n",
            " block4_pool (MaxPooling2D)  (None, 14, 14, 512)       0         \n",
            "                                                                 \n",
            " block5_conv1 (Conv2D)       (None, 14, 14, 512)       2359808   \n",
            "                                                                 \n",
            " block5_conv2 (Conv2D)       (None, 14, 14, 512)       2359808   \n",
            "                                                                 \n",
            " block5_conv3 (Conv2D)       (None, 14, 14, 512)       2359808   \n",
            "                                                                 \n",
            " block5_conv4 (Conv2D)       (None, 14, 14, 512)       2359808   \n",
            "                                                                 \n",
            " block5_pool (MaxPooling2D)  (None, 7, 7, 512)         0         \n",
            "                                                                 \n",
            " flatten_2 (Flatten)         (None, 25088)             0         \n",
            "                                                                 \n",
            " dense_2 (Dense)             (None, 4)                 100356    \n",
            "                                                                 \n",
            "=================================================================\n",
            "Total params: 20,124,740\n",
            "Trainable params: 100,356\n",
            "Non-trainable params: 20,024,384\n",
            "_________________________________________________________________\n"
          ]
        }
      ],
      "source": [
        "from keras.applications.vgg19 import VGG19,preprocess_input\n",
        "image_size=[224,224]\n",
        "Vgg=VGG19(input_shape=image_size + [3],weights='imagenet',include_top=False)\n",
        "for layer in Vgg.layers:\n",
        "  layer.trainable=False\n",
        "F=layers.Flatten()(Vgg.output)\n",
        "prediction=layers.Dense(4,activation='softmax')(F)\n",
        "VGG=Model(inputs=Vgg.input,outputs=prediction)\n",
        "VGG.summary()"
      ]
    },
    {
      "cell_type": "code",
      "execution_count": null,
      "metadata": {
        "colab": {
          "base_uri": "https://localhost:8080/"
        },
        "id": "8AKeoP7eZhi2",
        "outputId": "9b84b333-41f0-47f0-9ed1-3edfe4133c96"
      },
      "outputs": [
        {
          "name": "stdout",
          "output_type": "stream",
          "text": [
            "Epoch 1/10\n",
            "3/3 [==============================] - 50s 14s/step - loss: 5.5779 - accuracy: 0.2368\n",
            "Epoch 2/10\n",
            "3/3 [==============================] - 50s 14s/step - loss: 5.3236 - accuracy: 0.2632\n",
            "Epoch 3/10\n",
            "3/3 [==============================] - 49s 14s/step - loss: 5.2214 - accuracy: 0.1053\n",
            "Epoch 4/10\n",
            "3/3 [==============================] - 51s 15s/step - loss: 4.5662 - accuracy: 0.3289\n",
            "Epoch 5/10\n",
            "3/3 [==============================] - 49s 14s/step - loss: 3.1974 - accuracy: 0.2368\n",
            "Epoch 6/10\n",
            "3/3 [==============================] - 49s 14s/step - loss: 4.1866 - accuracy: 0.4868\n",
            "Epoch 7/10\n",
            "3/3 [==============================] - 49s 14s/step - loss: 2.8847 - accuracy: 0.1053\n",
            "Epoch 8/10\n",
            "3/3 [==============================] - 51s 15s/step - loss: 3.6017 - accuracy: 0.2368\n",
            "Epoch 9/10\n",
            "3/3 [==============================] - 49s 14s/step - loss: 2.5641 - accuracy: 0.1842\n",
            "Epoch 10/10\n",
            "3/3 [==============================] - 49s 14s/step - loss: 3.1506 - accuracy: 0.4342\n"
          ]
        },
        {
          "data": {
            "text/plain": [
              "<keras.callbacks.History at 0x7f486b883dc0>"
            ]
          },
          "execution_count": 64,
          "metadata": {},
          "output_type": "execute_result"
        }
      ],
      "source": [
        "VGG.compile(loss=tf.keras.losses.Poisson(),optimizer='adam',metrics=['accuracy'])\n",
        "VGG.fit(X_train, Y_train,epochs=10)"
      ]
    },
    {
      "cell_type": "code",
      "execution_count": null,
      "metadata": {
        "colab": {
          "base_uri": "https://localhost:8080/"
        },
        "id": "2tt-CDbxaU5i",
        "outputId": "b5b4f36f-efa9-4697-fc3d-0ce34215fa63"
      },
      "outputs": [
        {
          "name": "stdout",
          "output_type": "stream",
          "text": [
            "1/1 [==============================] - 14s 14s/step - loss: 3.0285 - accuracy: 0.2381\n"
          ]
        },
        {
          "data": {
            "text/plain": [
              "[3.028533935546875, 0.2380952388048172]"
            ]
          },
          "execution_count": 65,
          "metadata": {},
          "output_type": "execute_result"
        }
      ],
      "source": [
        "VGG.evaluate(X_test,Y_test)"
      ]
    },
    {
      "cell_type": "markdown",
      "metadata": {
        "id": "2DMuJoNiaq7Y"
      },
      "source": [
        "#hard worker column as a label (VGG19)"
      ]
    },
    {
      "cell_type": "code",
      "execution_count": null,
      "metadata": {
        "colab": {
          "base_uri": "https://localhost:8080/"
        },
        "id": "QmPT-Ohqa3FY",
        "outputId": "1ac1180e-fcfe-48f5-a901-2cc50516c5d8"
      },
      "outputs": [
        {
          "name": "stdout",
          "output_type": "stream",
          "text": [
            "not done21\n",
            "not done22\n",
            "not done34\n",
            "not done37\n",
            "not done97\n"
          ]
        }
      ],
      "source": [
        "Image_hard_worker_train=[]\n",
        "Image_hard_worker_test=[]\n",
        "\n",
        "for i in range(102):\n",
        "   img=traits[\"photo\"][i]\n",
        "   try:\n",
        "    image_path='/content/drive/MyDrive/image/final segmented image/'+img\n",
        "    image_r=cv2.imread(image_path)\n",
        "    image=cv2.resize(image_r,(224,224))\n",
        "\n",
        "    if i%5==0:\n",
        "      Class=traits[\"hard worker\"][i]\n",
        "      Image_hard_worker_test.append([image,Class])\n",
        "    else:\n",
        "      Class=traits[\"hard worker\"][i]\n",
        "      Image_hard_worker_train.append([image,Class])\n",
        "   except:\n",
        "    print(\"not done\"+str(i))"
      ]
    },
    {
      "cell_type": "code",
      "execution_count": null,
      "metadata": {
        "id": "3KkTaMlMa3IZ"
      },
      "outputs": [],
      "source": [
        "random.shuffle(Image_hard_worker_train)\n",
        "random.shuffle(Image_hard_worker_test)\n",
        "X_train=[]\n",
        "Y_train=[]\n",
        "X_test=[]\n",
        "Y_test=[]\n",
        "for x,y in Image_hard_worker_train:\n",
        "  X_train.append(x)\n",
        "  Y_train.append(y)\n",
        "for x,y in Image_hard_worker_test:\n",
        "  X_test.append(x)\n",
        "  Y_test.append(y)"
      ]
    },
    {
      "cell_type": "code",
      "execution_count": null,
      "metadata": {
        "id": "a7jHuriIa3LC"
      },
      "outputs": [],
      "source": [
        "X_train=np.array(X_train).reshape(-1,224,224,3)\n",
        "X_test=np.array(X_test).reshape(-1,224,224,3)\n",
        "X_train=X_train/255.0\n",
        "X_test=X_test/255\n",
        "Y_train=np.array(Y_train)\n",
        "Y_test=np.array(Y_test)"
      ]
    },
    {
      "cell_type": "code",
      "execution_count": null,
      "metadata": {
        "id": "BTa-bNT4a3Nu"
      },
      "outputs": [],
      "source": [
        "datagen = ImageDataGenerator(\n",
        "    featurewise_center=True,\n",
        "    featurewise_std_normalization=True,\n",
        "    rotation_range=20,\n",
        "    width_shift_range=0.2,\n",
        "    height_shift_range=0.2,\n",
        "    horizontal_flip=True,\n",
        "    validation_split=0.2)\n",
        "datagen.fit(X_train)"
      ]
    },
    {
      "cell_type": "code",
      "execution_count": null,
      "metadata": {
        "colab": {
          "base_uri": "https://localhost:8080/"
        },
        "id": "-oro_5KEa3Qn",
        "outputId": "7267017a-44c1-4a6f-e7af-b030e554a22e"
      },
      "outputs": [
        {
          "name": "stdout",
          "output_type": "stream",
          "text": [
            "Model: \"model_5\"\n",
            "_________________________________________________________________\n",
            " Layer (type)                Output Shape              Param #   \n",
            "=================================================================\n",
            " input_6 (InputLayer)        [(None, 224, 224, 3)]     0         \n",
            "                                                                 \n",
            " block1_conv1 (Conv2D)       (None, 224, 224, 64)      1792      \n",
            "                                                                 \n",
            " block1_conv2 (Conv2D)       (None, 224, 224, 64)      36928     \n",
            "                                                                 \n",
            " block1_pool (MaxPooling2D)  (None, 112, 112, 64)      0         \n",
            "                                                                 \n",
            " block2_conv1 (Conv2D)       (None, 112, 112, 128)     73856     \n",
            "                                                                 \n",
            " block2_conv2 (Conv2D)       (None, 112, 112, 128)     147584    \n",
            "                                                                 \n",
            " block2_pool (MaxPooling2D)  (None, 56, 56, 128)       0         \n",
            "                                                                 \n",
            " block3_conv1 (Conv2D)       (None, 56, 56, 256)       295168    \n",
            "                                                                 \n",
            " block3_conv2 (Conv2D)       (None, 56, 56, 256)       590080    \n",
            "                                                                 \n",
            " block3_conv3 (Conv2D)       (None, 56, 56, 256)       590080    \n",
            "                                                                 \n",
            " block3_conv4 (Conv2D)       (None, 56, 56, 256)       590080    \n",
            "                                                                 \n",
            " block3_pool (MaxPooling2D)  (None, 28, 28, 256)       0         \n",
            "                                                                 \n",
            " block4_conv1 (Conv2D)       (None, 28, 28, 512)       1180160   \n",
            "                                                                 \n",
            " block4_conv2 (Conv2D)       (None, 28, 28, 512)       2359808   \n",
            "                                                                 \n",
            " block4_conv3 (Conv2D)       (None, 28, 28, 512)       2359808   \n",
            "                                                                 \n",
            " block4_conv4 (Conv2D)       (None, 28, 28, 512)       2359808   \n",
            "                                                                 \n",
            " block4_pool (MaxPooling2D)  (None, 14, 14, 512)       0         \n",
            "                                                                 \n",
            " block5_conv1 (Conv2D)       (None, 14, 14, 512)       2359808   \n",
            "                                                                 \n",
            " block5_conv2 (Conv2D)       (None, 14, 14, 512)       2359808   \n",
            "                                                                 \n",
            " block5_conv3 (Conv2D)       (None, 14, 14, 512)       2359808   \n",
            "                                                                 \n",
            " block5_conv4 (Conv2D)       (None, 14, 14, 512)       2359808   \n",
            "                                                                 \n",
            " block5_pool (MaxPooling2D)  (None, 7, 7, 512)         0         \n",
            "                                                                 \n",
            " flatten_5 (Flatten)         (None, 25088)             0         \n",
            "                                                                 \n",
            " dense_5 (Dense)             (None, 1)                 25089     \n",
            "                                                                 \n",
            "=================================================================\n",
            "Total params: 20,049,473\n",
            "Trainable params: 25,089\n",
            "Non-trainable params: 20,024,384\n",
            "_________________________________________________________________\n"
          ]
        }
      ],
      "source": [
        "from keras.applications.vgg19 import VGG19,preprocess_input\n",
        "image_size=[224,224]\n",
        "Vgg=VGG19(input_shape=image_size + [3],weights='imagenet',include_top=False)\n",
        "for layer in Vgg.layers:\n",
        "  layer.trainable=False\n",
        "F=layers.Flatten()(Vgg.output)\n",
        "prediction=layers.Dense(1,activation='sigmoid')(F)\n",
        "VGG=Model(inputs=Vgg.input,outputs=prediction)\n",
        "VGG.summary()"
      ]
    },
    {
      "cell_type": "code",
      "execution_count": null,
      "metadata": {
        "colab": {
          "base_uri": "https://localhost:8080/"
        },
        "id": "vQu5xijAa3WG",
        "outputId": "08b3df8f-6ccf-412d-cf12-097bd35896ae"
      },
      "outputs": [
        {
          "name": "stdout",
          "output_type": "stream",
          "text": [
            "Epoch 1/10\n",
            "2/2 [==============================] - 42s 21s/step - loss: 0.8929 - accuracy: 0.4754\n",
            "Epoch 2/10\n",
            "2/2 [==============================] - 44s 25s/step - loss: 0.8275 - accuracy: 0.4918\n",
            "Epoch 3/10\n",
            "2/2 [==============================] - 40s 19s/step - loss: 0.7913 - accuracy: 0.5246\n",
            "Epoch 4/10\n",
            "2/2 [==============================] - 40s 19s/step - loss: 0.7049 - accuracy: 0.5410\n",
            "Epoch 5/10\n",
            "2/2 [==============================] - 40s 21s/step - loss: 0.6737 - accuracy: 0.5574\n",
            "Epoch 6/10\n",
            "2/2 [==============================] - 42s 20s/step - loss: 0.5568 - accuracy: 0.7049\n",
            "Epoch 7/10\n",
            "2/2 [==============================] - 40s 19s/step - loss: 0.5609 - accuracy: 0.6885\n",
            "Epoch 8/10\n",
            "2/2 [==============================] - 40s 18s/step - loss: 0.5880 - accuracy: 0.7049\n",
            "Epoch 9/10\n",
            "2/2 [==============================] - 40s 20s/step - loss: 0.5374 - accuracy: 0.7213\n",
            "Epoch 10/10\n",
            "2/2 [==============================] - 41s 20s/step - loss: 0.5486 - accuracy: 0.6885\n"
          ]
        },
        {
          "data": {
            "text/plain": [
              "<keras.callbacks.History at 0x7f48e506d190>"
            ]
          },
          "execution_count": 79,
          "metadata": {},
          "output_type": "execute_result"
        }
      ],
      "source": [
        "VGG.compile(loss='binary_crossentropy',optimizer='adam',metrics=['accuracy'])\n",
        "VGG.fit(datagen.flow(X_train, Y_train,\n",
        "         subset='training'),epochs=10)"
      ]
    },
    {
      "cell_type": "code",
      "execution_count": null,
      "metadata": {
        "colab": {
          "base_uri": "https://localhost:8080/"
        },
        "id": "lUssRDxta3ZY",
        "outputId": "b3b4f6aa-6c0c-4a02-978c-4cea5e46a2fa"
      },
      "outputs": [
        {
          "name": "stdout",
          "output_type": "stream",
          "text": [
            "1/1 [==============================] - 14s 14s/step - loss: 0.8338 - accuracy: 0.4762\n"
          ]
        },
        {
          "data": {
            "text/plain": [
              "[0.8338499665260315, 0.4761904776096344]"
            ]
          },
          "execution_count": 80,
          "metadata": {},
          "output_type": "execute_result"
        }
      ],
      "source": [
        "VGG.evaluate(X_test,Y_test)"
      ]
    },
    {
      "cell_type": "markdown",
      "metadata": {
        "id": "qOYKlhVmbi0I"
      },
      "source": [
        "#religious column as a label (VGG19)"
      ]
    },
    {
      "cell_type": "code",
      "execution_count": null,
      "metadata": {
        "colab": {
          "base_uri": "https://localhost:8080/"
        },
        "id": "i9Sr83xfbrdo",
        "outputId": "4cc44fee-5e6f-4310-f132-d40f10ddaa07"
      },
      "outputs": [
        {
          "name": "stdout",
          "output_type": "stream",
          "text": [
            "not done21\n",
            "not done22\n",
            "not done34\n",
            "not done37\n",
            "not done97\n"
          ]
        }
      ],
      "source": [
        "Image_punctuality_train=[]\n",
        "Image_punctuality_test=[]\n",
        "\n",
        "for i in range(102):\n",
        "   img=traits[\"photo\"][i]\n",
        "   try:\n",
        "    image_path='/content/drive/MyDrive/image/final segmented image/'+img\n",
        "    image_r=cv2.imread(image_path)\n",
        "    image=cv2.resize(image_r,(224,224))\n",
        "\n",
        "    if i%5==0:\n",
        "      Class=traits[\"punctuality\"][i]\n",
        "      Image_punctuality_test.append([image,Class])\n",
        "    else:\n",
        "      Class=traits[\"punctuality\"][i]\n",
        "      Image_punctuality_train.append([image,Class])\n",
        "   except:\n",
        "    print(\"not done\"+str(i))"
      ]
    },
    {
      "cell_type": "code",
      "execution_count": null,
      "metadata": {
        "id": "p4ogr_P7brgm"
      },
      "outputs": [],
      "source": [
        "random.shuffle(Image_punctuality_train)\n",
        "random.shuffle(Image_punctuality_test)\n",
        "X_train=[]\n",
        "Y_train=[]\n",
        "X_test=[]\n",
        "Y_test=[]\n",
        "for x,y in Image_punctuality_train:\n",
        "  X_train.append(x)\n",
        "  Y_train.append(y)\n",
        "for x,y in Image_punctuality_test:\n",
        "  X_test.append(x)\n",
        "  Y_test.append(y)"
      ]
    },
    {
      "cell_type": "code",
      "execution_count": null,
      "metadata": {
        "id": "Wsr0DhShbrjZ"
      },
      "outputs": [],
      "source": [
        "X_train=np.array(X_train).reshape(-1,224,224,3)\n",
        "X_test=np.array(X_test).reshape(-1,224,224,3)\n",
        "X_train=X_train/255.0\n",
        "X_test=X_test/255\n",
        "Y_train=np.array(Y_train)\n",
        "Y_test=np.array(Y_test)"
      ]
    },
    {
      "cell_type": "code",
      "execution_count": null,
      "metadata": {
        "id": "ybu6lWzBbrlx"
      },
      "outputs": [],
      "source": [
        "datagen = ImageDataGenerator(\n",
        "    featurewise_center=True,\n",
        "    featurewise_std_normalization=True,\n",
        "    rotation_range=20,\n",
        "    width_shift_range=0.2,\n",
        "    height_shift_range=0.2,\n",
        "    horizontal_flip=True,\n",
        "    validation_split=0.2)\n",
        "datagen.fit(X_train)"
      ]
    },
    {
      "cell_type": "code",
      "execution_count": null,
      "metadata": {
        "colab": {
          "base_uri": "https://localhost:8080/"
        },
        "id": "t0EWHf7bbrog",
        "outputId": "480ad0d2-0837-479e-9559-ca07ac0bbaf7"
      },
      "outputs": [
        {
          "name": "stdout",
          "output_type": "stream",
          "text": [
            "Model: \"model_6\"\n",
            "_________________________________________________________________\n",
            " Layer (type)                Output Shape              Param #   \n",
            "=================================================================\n",
            " input_7 (InputLayer)        [(None, 224, 224, 3)]     0         \n",
            "                                                                 \n",
            " block1_conv1 (Conv2D)       (None, 224, 224, 64)      1792      \n",
            "                                                                 \n",
            " block1_conv2 (Conv2D)       (None, 224, 224, 64)      36928     \n",
            "                                                                 \n",
            " block1_pool (MaxPooling2D)  (None, 112, 112, 64)      0         \n",
            "                                                                 \n",
            " block2_conv1 (Conv2D)       (None, 112, 112, 128)     73856     \n",
            "                                                                 \n",
            " block2_conv2 (Conv2D)       (None, 112, 112, 128)     147584    \n",
            "                                                                 \n",
            " block2_pool (MaxPooling2D)  (None, 56, 56, 128)       0         \n",
            "                                                                 \n",
            " block3_conv1 (Conv2D)       (None, 56, 56, 256)       295168    \n",
            "                                                                 \n",
            " block3_conv2 (Conv2D)       (None, 56, 56, 256)       590080    \n",
            "                                                                 \n",
            " block3_conv3 (Conv2D)       (None, 56, 56, 256)       590080    \n",
            "                                                                 \n",
            " block3_conv4 (Conv2D)       (None, 56, 56, 256)       590080    \n",
            "                                                                 \n",
            " block3_pool (MaxPooling2D)  (None, 28, 28, 256)       0         \n",
            "                                                                 \n",
            " block4_conv1 (Conv2D)       (None, 28, 28, 512)       1180160   \n",
            "                                                                 \n",
            " block4_conv2 (Conv2D)       (None, 28, 28, 512)       2359808   \n",
            "                                                                 \n",
            " block4_conv3 (Conv2D)       (None, 28, 28, 512)       2359808   \n",
            "                                                                 \n",
            " block4_conv4 (Conv2D)       (None, 28, 28, 512)       2359808   \n",
            "                                                                 \n",
            " block4_pool (MaxPooling2D)  (None, 14, 14, 512)       0         \n",
            "                                                                 \n",
            " block5_conv1 (Conv2D)       (None, 14, 14, 512)       2359808   \n",
            "                                                                 \n",
            " block5_conv2 (Conv2D)       (None, 14, 14, 512)       2359808   \n",
            "                                                                 \n",
            " block5_conv3 (Conv2D)       (None, 14, 14, 512)       2359808   \n",
            "                                                                 \n",
            " block5_conv4 (Conv2D)       (None, 14, 14, 512)       2359808   \n",
            "                                                                 \n",
            " block5_pool (MaxPooling2D)  (None, 7, 7, 512)         0         \n",
            "                                                                 \n",
            " flatten_6 (Flatten)         (None, 25088)             0         \n",
            "                                                                 \n",
            " dense_6 (Dense)             (None, 10)                250890    \n",
            "                                                                 \n",
            "=================================================================\n",
            "Total params: 20,275,274\n",
            "Trainable params: 250,890\n",
            "Non-trainable params: 20,024,384\n",
            "_________________________________________________________________\n"
          ]
        }
      ],
      "source": [
        "from keras.applications.vgg19 import VGG19,preprocess_input\n",
        "image_size=[224,224]\n",
        "Vgg=VGG19(input_shape=image_size + [3],weights='imagenet',include_top=False)\n",
        "for layer in Vgg.layers:\n",
        "  layer.trainable=False\n",
        "F=layers.Flatten()(Vgg.output)\n",
        "prediction=layers.Dense(10,activation='softmax')(F)\n",
        "VGG=Model(inputs=Vgg.input,outputs=prediction)\n",
        "VGG.summary()"
      ]
    },
    {
      "cell_type": "code",
      "execution_count": null,
      "metadata": {
        "colab": {
          "base_uri": "https://localhost:8080/"
        },
        "id": "ft8SQZklbrrI",
        "outputId": "6e83c023-99af-42be-cc3b-a2711e810b70"
      },
      "outputs": [
        {
          "name": "stdout",
          "output_type": "stream",
          "text": [
            "Epoch 1/10\n",
            "3/3 [==============================] - 51s 15s/step - loss: 27.8898 - accuracy: 0.0395\n",
            "Epoch 2/10\n",
            "3/3 [==============================] - 47s 14s/step - loss: 23.3715 - accuracy: 0.1053\n",
            "Epoch 3/10\n",
            "3/3 [==============================] - 48s 14s/step - loss: 20.9726 - accuracy: 0.0132\n",
            "Epoch 4/10\n",
            "3/3 [==============================] - 48s 14s/step - loss: 20.6014 - accuracy: 0.1579\n",
            "Epoch 5/10\n",
            "3/3 [==============================] - 49s 14s/step - loss: 20.7726 - accuracy: 0.0789\n",
            "Epoch 6/10\n",
            "3/3 [==============================] - 48s 14s/step - loss: 17.9445 - accuracy: 0.0921\n",
            "Epoch 7/10\n",
            "3/3 [==============================] - 47s 14s/step - loss: 18.8997 - accuracy: 0.0263\n",
            "Epoch 8/10\n",
            "3/3 [==============================] - 47s 14s/step - loss: 16.7253 - accuracy: 0.1316\n",
            "Epoch 9/10\n",
            "3/3 [==============================] - 47s 14s/step - loss: 16.9096 - accuracy: 0.0132\n",
            "Epoch 10/10\n",
            "3/3 [==============================] - 48s 13s/step - loss: 16.6217 - accuracy: 0.0395\n"
          ]
        },
        {
          "data": {
            "text/plain": [
              "<keras.callbacks.History at 0x7f4865bdc1f0>"
            ]
          },
          "execution_count": 86,
          "metadata": {},
          "output_type": "execute_result"
        }
      ],
      "source": [
        "VGG.compile(loss=tf.keras.losses.Poisson(),optimizer='adam',metrics=['accuracy'])\n",
        "VGG.fit(X_train, Y_train,epochs=10)"
      ]
    },
    {
      "cell_type": "code",
      "execution_count": null,
      "metadata": {
        "colab": {
          "base_uri": "https://localhost:8080/"
        },
        "id": "ORSeEveCbrt1",
        "outputId": "096d0055-af55-4c99-c648-1e888fa862b7"
      },
      "outputs": [
        {
          "name": "stderr",
          "output_type": "stream",
          "text": [
            "WARNING:tensorflow:5 out of the last 5 calls to <function Model.make_test_function.<locals>.test_function at 0x7f4863b26b80> triggered tf.function retracing. Tracing is expensive and the excessive number of tracings could be due to (1) creating @tf.function repeatedly in a loop, (2) passing tensors with different shapes, (3) passing Python objects instead of tensors. For (1), please define your @tf.function outside of the loop. For (2), @tf.function has reduce_retracing=True option that can avoid unnecessary retracing. For (3), please refer to https://www.tensorflow.org/guide/function#controlling_retracing and https://www.tensorflow.org/api_docs/python/tf/function for  more details.\n"
          ]
        },
        {
          "name": "stdout",
          "output_type": "stream",
          "text": [
            "1/1 [==============================] - 13s 13s/step - loss: 16.2716 - accuracy: 0.0476\n"
          ]
        },
        {
          "data": {
            "text/plain": [
              "[16.271587371826172, 0.0476190485060215]"
            ]
          },
          "execution_count": 87,
          "metadata": {},
          "output_type": "execute_result"
        }
      ],
      "source": [
        "VGG.evaluate(X_test,Y_test)"
      ]
    },
    {
      "cell_type": "code",
      "execution_count": null,
      "metadata": {
        "colab": {
          "background_save": true
        },
        "id": "JbGpFVJ1brwf"
      },
      "outputs": [],
      "source": []
    }
  ],
  "metadata": {
    "colab": {
      "collapsed_sections": [
        "60HPR9LgFVX1",
        "U4MxffXa-j61",
        "aayC9mHG19Xb",
        "R8NdT8O83ZAK",
        "n-C8kNHsuMNW",
        "-iKOKlKofMH8",
        "ziTiji4c5g5E",
        "XROlNAra8xfg",
        "9RrIYIqEAEuX",
        "npRuWkllBoZw",
        "H_Be2XM3GPTf",
        "1sZoM3mKLu-G",
        "e0VsIc9IM8GO",
        "ioQ2S2JUOIU_",
        "-KlKo9HxIm1F",
        "v4-MQ8xwKYI1",
        "dkfAVYMPO0rC",
        "VlcJymB8Q2v0",
        "0yoUjNgn3BtY",
        "1VHmfFK67Xhu",
        "jLu2VNNa8Z8n",
        "mE2yiIx-YdhQ",
        "wqIq36h8ZcQS"
      ],
      "provenance": []
    },
    "kernelspec": {
      "display_name": "Python 3",
      "name": "python3"
    },
    "language_info": {
      "name": "python"
    }
  },
  "nbformat": 4,
  "nbformat_minor": 0
}